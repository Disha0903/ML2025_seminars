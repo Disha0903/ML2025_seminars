{
  "cells": [
    {
      "cell_type": "markdown",
      "metadata": {
        "id": "K4BYj7l0SLdp"
      },
      "source": [
        "<a href=\"https://colab.research.google.com/github/adasegroup/ML2025_seminars/blob/main/Seminar_03/Seminar_3_classification_done.ipynb\" target=\"_parent\"><img src=\"https://colab.research.google.com/assets/colab-badge.svg\" alt=\"Open In Colab\"/></a>."
      ]
    },
    {
      "cell_type": "markdown",
      "metadata": {
        "id": "0N5nh7OASHPB"
      },
      "source": [
        "# Seminar 3: Classification"
      ]
    },
    {
      "cell_type": "markdown",
      "metadata": {
        "id": "A7TSOzPKRgtT"
      },
      "source": [
        "# Measure quality of a classification model\n",
        "\n",
        "This notebook explains how to measure quality of a classification machine learning model.\n",
        "We provide definitions for various quality measures and try to find out if they are suitable or not for a particular machine learning classification problem.\n",
        "\n",
        "The data is a subsample from the kaggle comptetion \"Give me some credit\"\n",
        "https://www.kaggle.com/c/GiveMeSomeCredit#description"
      ]
    },
    {
      "cell_type": "code",
      "execution_count": 26,
      "metadata": {
        "_cell_guid": "cfdaacbc-23a3-423d-8d4d-120939ac7383",
        "id": "h72h_c_GRgtW"
      },
      "outputs": [],
      "source": [
        "# Imports\n",
        "\n",
        "# data processing tools: pandas and numpy\n",
        "import numpy as np\n",
        "import pandas as pd\n",
        "\n",
        "# visualization tools: matplotlib, seaborn\n",
        "import matplotlib.pyplot as plt\n",
        "import seaborn as sns\n",
        "sns.set_style('whitegrid')\n",
        "%matplotlib inline\n",
        "\n",
        "# machine learning tools: various methods from scikit-learn\n",
        "from sklearn.tree import DecisionTreeClassifier\n",
        "from sklearn.neighbors import KNeighborsClassifier\n",
        "from sklearn.metrics import confusion_matrix, roc_curve, precision_recall_curve, auc\n",
        "from sklearn.metrics import f1_score, accuracy_score, average_precision_score"
      ]
    },
    {
      "cell_type": "markdown",
      "metadata": {
        "id": "q6JGwTssRgtc"
      },
      "source": [
        "# Load data"
      ]
    },
    {
      "cell_type": "code",
      "execution_count": 27,
      "metadata": {
        "_cell_guid": "3ab4c525-a5cb-4183-9468-c1dd005c4c78",
        "id": "oCQ791asRgte"
      },
      "outputs": [],
      "source": [
        "# load the data\n",
        "training_data = pd.read_csv('https://raw.githubusercontent.com/adasegroup/ML2025_seminars/main/Seminar_03/credit/training_data.csv')\n",
        "test_data = pd.read_csv('https://raw.githubusercontent.com/adasegroup/ML2025_seminars/main/Seminar_03/credit/test_data.csv')"
      ]
    },
    {
      "cell_type": "markdown",
      "metadata": {
        "id": "ka4pA7SYRgtj"
      },
      "source": [
        "See some technical info about data"
      ]
    },
    {
      "cell_type": "code",
      "execution_count": 28,
      "metadata": {
        "colab": {
          "base_uri": "https://localhost:8080/"
        },
        "id": "i4V3veR0Rgtk",
        "outputId": "38fa0c30-66ae-496a-9019-53833b465345"
      },
      "outputs": [
        {
          "name": "stdout",
          "output_type": "stream",
          "text": [
            "<class 'pandas.core.frame.DataFrame'>\n",
            "RangeIndex: 5001 entries, 0 to 5000\n",
            "Data columns (total 11 columns):\n",
            " #   Column                                Non-Null Count  Dtype  \n",
            "---  ------                                --------------  -----  \n",
            " 0   SeriousDlqin2yrs                      5001 non-null   int64  \n",
            " 1   RevolvingUtilizationOfUnsecuredLines  5001 non-null   float64\n",
            " 2   age                                   5001 non-null   int64  \n",
            " 3   NumberOfTime30-59DaysPastDueNotWorse  5001 non-null   int64  \n",
            " 4   DebtRatio                             5001 non-null   float64\n",
            " 5   MonthlyIncome                         4031 non-null   float64\n",
            " 6   NumberOfOpenCreditLinesAndLoans       5001 non-null   int64  \n",
            " 7   NumberOfTimes90DaysLate               5001 non-null   int64  \n",
            " 8   NumberRealEstateLoansOrLines          5001 non-null   int64  \n",
            " 9   NumberOfTime60-89DaysPastDueNotWorse  5001 non-null   int64  \n",
            " 10  NumberOfDependents                    4859 non-null   float64\n",
            "dtypes: float64(4), int64(7)\n",
            "memory usage: 429.9 KB\n"
          ]
        }
      ],
      "source": [
        "# print information about the data\n",
        "training_data.info(verbose=True)"
      ]
    },
    {
      "cell_type": "markdown",
      "metadata": {
        "id": "-nRKynmNRgtp"
      },
      "source": [
        "Let's look at some general statistics of data:\n",
        "* **count** -- number of not `NaN` values;\n",
        "* **mean**, **std** -- mean and standard deviation;\n",
        "* other -- minimal, maximal values, quantiles."
      ]
    },
    {
      "cell_type": "code",
      "execution_count": 29,
      "metadata": {
        "colab": {
          "base_uri": "https://localhost:8080/",
          "height": 394
        },
        "id": "25EOI00gRgtq",
        "outputId": "27d2362f-df4a-4236-a87f-250cf58fc29a"
      },
      "outputs": [
        {
          "data": {
            "application/vnd.google.colaboratory.intrinsic+json": {
              "summary": "{\n  \"name\": \"training_data\",\n  \"rows\": 11,\n  \"fields\": [\n    {\n      \"column\": \"count\",\n      \"properties\": {\n        \"dtype\": \"number\",\n        \"std\": 291.3161356826822,\n        \"min\": 4031.0,\n        \"max\": 5001.0,\n        \"num_unique_values\": 3,\n        \"samples\": [\n          5001.0,\n          4031.0,\n          4859.0\n        ],\n        \"semantic_type\": \"\",\n        \"description\": \"\"\n      }\n    },\n    {\n      \"column\": \"mean\",\n      \"properties\": {\n        \"dtype\": \"number\",\n        \"std\": 1966.2368132081024,\n        \"min\": 0.0609878024395121,\n        \"max\": 6554.690151327214,\n        \"num_unique_values\": 11,\n        \"samples\": [\n          6554.690151327214,\n          0.0609878024395121,\n          0.16516696660667868\n        ],\n        \"semantic_type\": \"\",\n        \"description\": \"\"\n      }\n    },\n    {\n      \"column\": \"std\",\n      \"properties\": {\n        \"dtype\": \"number\",\n        \"std\": 2186.996120868428,\n        \"min\": 0.23933187011174745,\n        \"max\": 7058.453424258865,\n        \"num_unique_values\": 11,\n        \"samples\": [\n          7058.453424258865,\n          0.23933187011174745,\n          3.111898844293755\n        ],\n        \"semantic_type\": \"\",\n        \"description\": \"\"\n      }\n    },\n    {\n      \"column\": \"min\",\n      \"properties\": {\n        \"dtype\": \"number\",\n        \"std\": 6.3317382361330345,\n        \"min\": 0.0,\n        \"max\": 21.0,\n        \"num_unique_values\": 2,\n        \"samples\": [\n          21.0,\n          0.0\n        ],\n        \"semantic_type\": \"\",\n        \"description\": \"\"\n      }\n    },\n    {\n      \"column\": \"25%\",\n      \"properties\": {\n        \"dtype\": \"number\",\n        \"std\": 1040.2494857327008,\n        \"min\": 0.0,\n        \"max\": 3454.5,\n        \"num_unique_values\": 6,\n        \"samples\": [\n          0.0,\n          0.030053276\n        ],\n        \"semantic_type\": \"\",\n        \"description\": \"\"\n      }\n    },\n    {\n      \"column\": \"50%\",\n      \"properties\": {\n        \"dtype\": \"number\",\n        \"std\": 1606.1792455978684,\n        \"min\": 0.0,\n        \"max\": 5333.0,\n        \"num_unique_values\": 7,\n        \"samples\": [\n          0.0,\n          0.163462649\n        ],\n        \"semantic_type\": \"\",\n        \"description\": \"\"\n      }\n    },\n    {\n      \"column\": \"75%\",\n      \"properties\": {\n        \"dtype\": \"number\",\n        \"std\": 2460.301245342097,\n        \"min\": 0.0,\n        \"max\": 8167.5,\n        \"num_unique_values\": 8,\n        \"samples\": [\n          0.55613391,\n          11.0\n        ],\n        \"semantic_type\": \"\",\n        \"description\": \"\"\n      }\n    },\n    {\n      \"column\": \"max\",\n      \"properties\": {\n        \"dtype\": \"number\",\n        \"std\": 76515.2542161603,\n        \"min\": 1.0,\n        \"max\": 208333.0,\n        \"num_unique_values\": 9,\n        \"samples\": [\n          17.0,\n          6324.0\n        ],\n        \"semantic_type\": \"\",\n        \"description\": \"\"\n      }\n    }\n  ]\n}",
              "type": "dataframe"
            },
            "text/html": [
              "\n",
              "  <div id=\"df-13105753-70e2-463c-af71-6816106269a1\" class=\"colab-df-container\">\n",
              "    <div>\n",
              "<style scoped>\n",
              "    .dataframe tbody tr th:only-of-type {\n",
              "        vertical-align: middle;\n",
              "    }\n",
              "\n",
              "    .dataframe tbody tr th {\n",
              "        vertical-align: top;\n",
              "    }\n",
              "\n",
              "    .dataframe thead th {\n",
              "        text-align: right;\n",
              "    }\n",
              "</style>\n",
              "<table border=\"1\" class=\"dataframe\">\n",
              "  <thead>\n",
              "    <tr style=\"text-align: right;\">\n",
              "      <th></th>\n",
              "      <th>count</th>\n",
              "      <th>mean</th>\n",
              "      <th>std</th>\n",
              "      <th>min</th>\n",
              "      <th>25%</th>\n",
              "      <th>50%</th>\n",
              "      <th>75%</th>\n",
              "      <th>max</th>\n",
              "    </tr>\n",
              "  </thead>\n",
              "  <tbody>\n",
              "    <tr>\n",
              "      <th>SeriousDlqin2yrs</th>\n",
              "      <td>5001.0</td>\n",
              "      <td>0.060988</td>\n",
              "      <td>0.239332</td>\n",
              "      <td>0.0</td>\n",
              "      <td>0.000000</td>\n",
              "      <td>0.000000</td>\n",
              "      <td>0.000000</td>\n",
              "      <td>1.0</td>\n",
              "    </tr>\n",
              "    <tr>\n",
              "      <th>RevolvingUtilizationOfUnsecuredLines</th>\n",
              "      <td>5001.0</td>\n",
              "      <td>3.842957</td>\n",
              "      <td>117.415101</td>\n",
              "      <td>0.0</td>\n",
              "      <td>0.030053</td>\n",
              "      <td>0.163463</td>\n",
              "      <td>0.556134</td>\n",
              "      <td>6324.0</td>\n",
              "    </tr>\n",
              "    <tr>\n",
              "      <th>age</th>\n",
              "      <td>5001.0</td>\n",
              "      <td>52.128374</td>\n",
              "      <td>14.907257</td>\n",
              "      <td>21.0</td>\n",
              "      <td>41.000000</td>\n",
              "      <td>52.000000</td>\n",
              "      <td>63.000000</td>\n",
              "      <td>99.0</td>\n",
              "    </tr>\n",
              "    <tr>\n",
              "      <th>NumberOfTime30-59DaysPastDueNotWorse</th>\n",
              "      <td>5001.0</td>\n",
              "      <td>0.355729</td>\n",
              "      <td>3.178306</td>\n",
              "      <td>0.0</td>\n",
              "      <td>0.000000</td>\n",
              "      <td>0.000000</td>\n",
              "      <td>0.000000</td>\n",
              "      <td>98.0</td>\n",
              "    </tr>\n",
              "    <tr>\n",
              "      <th>DebtRatio</th>\n",
              "      <td>5001.0</td>\n",
              "      <td>368.032252</td>\n",
              "      <td>2593.676885</td>\n",
              "      <td>0.0</td>\n",
              "      <td>0.177007</td>\n",
              "      <td>0.365727</td>\n",
              "      <td>0.829553</td>\n",
              "      <td>168835.0</td>\n",
              "    </tr>\n",
              "    <tr>\n",
              "      <th>MonthlyIncome</th>\n",
              "      <td>4031.0</td>\n",
              "      <td>6554.690151</td>\n",
              "      <td>7058.453424</td>\n",
              "      <td>0.0</td>\n",
              "      <td>3454.500000</td>\n",
              "      <td>5333.000000</td>\n",
              "      <td>8167.500000</td>\n",
              "      <td>208333.0</td>\n",
              "    </tr>\n",
              "    <tr>\n",
              "      <th>NumberOfOpenCreditLinesAndLoans</th>\n",
              "      <td>5001.0</td>\n",
              "      <td>8.383323</td>\n",
              "      <td>5.111950</td>\n",
              "      <td>0.0</td>\n",
              "      <td>5.000000</td>\n",
              "      <td>8.000000</td>\n",
              "      <td>11.000000</td>\n",
              "      <td>46.0</td>\n",
              "    </tr>\n",
              "    <tr>\n",
              "      <th>NumberOfTimes90DaysLate</th>\n",
              "      <td>5001.0</td>\n",
              "      <td>0.194361</td>\n",
              "      <td>3.132956</td>\n",
              "      <td>0.0</td>\n",
              "      <td>0.000000</td>\n",
              "      <td>0.000000</td>\n",
              "      <td>0.000000</td>\n",
              "      <td>98.0</td>\n",
              "    </tr>\n",
              "    <tr>\n",
              "      <th>NumberRealEstateLoansOrLines</th>\n",
              "      <td>5001.0</td>\n",
              "      <td>1.022795</td>\n",
              "      <td>1.107556</td>\n",
              "      <td>0.0</td>\n",
              "      <td>0.000000</td>\n",
              "      <td>1.000000</td>\n",
              "      <td>2.000000</td>\n",
              "      <td>17.0</td>\n",
              "    </tr>\n",
              "    <tr>\n",
              "      <th>NumberOfTime60-89DaysPastDueNotWorse</th>\n",
              "      <td>5001.0</td>\n",
              "      <td>0.165167</td>\n",
              "      <td>3.111899</td>\n",
              "      <td>0.0</td>\n",
              "      <td>0.000000</td>\n",
              "      <td>0.000000</td>\n",
              "      <td>0.000000</td>\n",
              "      <td>98.0</td>\n",
              "    </tr>\n",
              "    <tr>\n",
              "      <th>NumberOfDependents</th>\n",
              "      <td>4859.0</td>\n",
              "      <td>0.742745</td>\n",
              "      <td>1.103014</td>\n",
              "      <td>0.0</td>\n",
              "      <td>0.000000</td>\n",
              "      <td>0.000000</td>\n",
              "      <td>1.000000</td>\n",
              "      <td>8.0</td>\n",
              "    </tr>\n",
              "  </tbody>\n",
              "</table>\n",
              "</div>\n",
              "    <div class=\"colab-df-buttons\">\n",
              "\n",
              "  <div class=\"colab-df-container\">\n",
              "    <button class=\"colab-df-convert\" onclick=\"convertToInteractive('df-13105753-70e2-463c-af71-6816106269a1')\"\n",
              "            title=\"Convert this dataframe to an interactive table.\"\n",
              "            style=\"display:none;\">\n",
              "\n",
              "  <svg xmlns=\"http://www.w3.org/2000/svg\" height=\"24px\" viewBox=\"0 -960 960 960\">\n",
              "    <path d=\"M120-120v-720h720v720H120Zm60-500h600v-160H180v160Zm220 220h160v-160H400v160Zm0 220h160v-160H400v160ZM180-400h160v-160H180v160Zm440 0h160v-160H620v160ZM180-180h160v-160H180v160Zm440 0h160v-160H620v160Z\"/>\n",
              "  </svg>\n",
              "    </button>\n",
              "\n",
              "  <style>\n",
              "    .colab-df-container {\n",
              "      display:flex;\n",
              "      gap: 12px;\n",
              "    }\n",
              "\n",
              "    .colab-df-convert {\n",
              "      background-color: #E8F0FE;\n",
              "      border: none;\n",
              "      border-radius: 50%;\n",
              "      cursor: pointer;\n",
              "      display: none;\n",
              "      fill: #1967D2;\n",
              "      height: 32px;\n",
              "      padding: 0 0 0 0;\n",
              "      width: 32px;\n",
              "    }\n",
              "\n",
              "    .colab-df-convert:hover {\n",
              "      background-color: #E2EBFA;\n",
              "      box-shadow: 0px 1px 2px rgba(60, 64, 67, 0.3), 0px 1px 3px 1px rgba(60, 64, 67, 0.15);\n",
              "      fill: #174EA6;\n",
              "    }\n",
              "\n",
              "    .colab-df-buttons div {\n",
              "      margin-bottom: 4px;\n",
              "    }\n",
              "\n",
              "    [theme=dark] .colab-df-convert {\n",
              "      background-color: #3B4455;\n",
              "      fill: #D2E3FC;\n",
              "    }\n",
              "\n",
              "    [theme=dark] .colab-df-convert:hover {\n",
              "      background-color: #434B5C;\n",
              "      box-shadow: 0px 1px 3px 1px rgba(0, 0, 0, 0.15);\n",
              "      filter: drop-shadow(0px 1px 2px rgba(0, 0, 0, 0.3));\n",
              "      fill: #FFFFFF;\n",
              "    }\n",
              "  </style>\n",
              "\n",
              "    <script>\n",
              "      const buttonEl =\n",
              "        document.querySelector('#df-13105753-70e2-463c-af71-6816106269a1 button.colab-df-convert');\n",
              "      buttonEl.style.display =\n",
              "        google.colab.kernel.accessAllowed ? 'block' : 'none';\n",
              "\n",
              "      async function convertToInteractive(key) {\n",
              "        const element = document.querySelector('#df-13105753-70e2-463c-af71-6816106269a1');\n",
              "        const dataTable =\n",
              "          await google.colab.kernel.invokeFunction('convertToInteractive',\n",
              "                                                    [key], {});\n",
              "        if (!dataTable) return;\n",
              "\n",
              "        const docLinkHtml = 'Like what you see? Visit the ' +\n",
              "          '<a target=\"_blank\" href=https://colab.research.google.com/notebooks/data_table.ipynb>data table notebook</a>'\n",
              "          + ' to learn more about interactive tables.';\n",
              "        element.innerHTML = '';\n",
              "        dataTable['output_type'] = 'display_data';\n",
              "        await google.colab.output.renderOutput(dataTable, element);\n",
              "        const docLink = document.createElement('div');\n",
              "        docLink.innerHTML = docLinkHtml;\n",
              "        element.appendChild(docLink);\n",
              "      }\n",
              "    </script>\n",
              "  </div>\n",
              "\n",
              "\n",
              "<div id=\"df-6580730a-8626-4506-bd78-d0adba68517b\">\n",
              "  <button class=\"colab-df-quickchart\" onclick=\"quickchart('df-6580730a-8626-4506-bd78-d0adba68517b')\"\n",
              "            title=\"Suggest charts\"\n",
              "            style=\"display:none;\">\n",
              "\n",
              "<svg xmlns=\"http://www.w3.org/2000/svg\" height=\"24px\"viewBox=\"0 0 24 24\"\n",
              "     width=\"24px\">\n",
              "    <g>\n",
              "        <path d=\"M19 3H5c-1.1 0-2 .9-2 2v14c0 1.1.9 2 2 2h14c1.1 0 2-.9 2-2V5c0-1.1-.9-2-2-2zM9 17H7v-7h2v7zm4 0h-2V7h2v10zm4 0h-2v-4h2v4z\"/>\n",
              "    </g>\n",
              "</svg>\n",
              "  </button>\n",
              "\n",
              "<style>\n",
              "  .colab-df-quickchart {\n",
              "      --bg-color: #E8F0FE;\n",
              "      --fill-color: #1967D2;\n",
              "      --hover-bg-color: #E2EBFA;\n",
              "      --hover-fill-color: #174EA6;\n",
              "      --disabled-fill-color: #AAA;\n",
              "      --disabled-bg-color: #DDD;\n",
              "  }\n",
              "\n",
              "  [theme=dark] .colab-df-quickchart {\n",
              "      --bg-color: #3B4455;\n",
              "      --fill-color: #D2E3FC;\n",
              "      --hover-bg-color: #434B5C;\n",
              "      --hover-fill-color: #FFFFFF;\n",
              "      --disabled-bg-color: #3B4455;\n",
              "      --disabled-fill-color: #666;\n",
              "  }\n",
              "\n",
              "  .colab-df-quickchart {\n",
              "    background-color: var(--bg-color);\n",
              "    border: none;\n",
              "    border-radius: 50%;\n",
              "    cursor: pointer;\n",
              "    display: none;\n",
              "    fill: var(--fill-color);\n",
              "    height: 32px;\n",
              "    padding: 0;\n",
              "    width: 32px;\n",
              "  }\n",
              "\n",
              "  .colab-df-quickchart:hover {\n",
              "    background-color: var(--hover-bg-color);\n",
              "    box-shadow: 0 1px 2px rgba(60, 64, 67, 0.3), 0 1px 3px 1px rgba(60, 64, 67, 0.15);\n",
              "    fill: var(--button-hover-fill-color);\n",
              "  }\n",
              "\n",
              "  .colab-df-quickchart-complete:disabled,\n",
              "  .colab-df-quickchart-complete:disabled:hover {\n",
              "    background-color: var(--disabled-bg-color);\n",
              "    fill: var(--disabled-fill-color);\n",
              "    box-shadow: none;\n",
              "  }\n",
              "\n",
              "  .colab-df-spinner {\n",
              "    border: 2px solid var(--fill-color);\n",
              "    border-color: transparent;\n",
              "    border-bottom-color: var(--fill-color);\n",
              "    animation:\n",
              "      spin 1s steps(1) infinite;\n",
              "  }\n",
              "\n",
              "  @keyframes spin {\n",
              "    0% {\n",
              "      border-color: transparent;\n",
              "      border-bottom-color: var(--fill-color);\n",
              "      border-left-color: var(--fill-color);\n",
              "    }\n",
              "    20% {\n",
              "      border-color: transparent;\n",
              "      border-left-color: var(--fill-color);\n",
              "      border-top-color: var(--fill-color);\n",
              "    }\n",
              "    30% {\n",
              "      border-color: transparent;\n",
              "      border-left-color: var(--fill-color);\n",
              "      border-top-color: var(--fill-color);\n",
              "      border-right-color: var(--fill-color);\n",
              "    }\n",
              "    40% {\n",
              "      border-color: transparent;\n",
              "      border-right-color: var(--fill-color);\n",
              "      border-top-color: var(--fill-color);\n",
              "    }\n",
              "    60% {\n",
              "      border-color: transparent;\n",
              "      border-right-color: var(--fill-color);\n",
              "    }\n",
              "    80% {\n",
              "      border-color: transparent;\n",
              "      border-right-color: var(--fill-color);\n",
              "      border-bottom-color: var(--fill-color);\n",
              "    }\n",
              "    90% {\n",
              "      border-color: transparent;\n",
              "      border-bottom-color: var(--fill-color);\n",
              "    }\n",
              "  }\n",
              "</style>\n",
              "\n",
              "  <script>\n",
              "    async function quickchart(key) {\n",
              "      const quickchartButtonEl =\n",
              "        document.querySelector('#' + key + ' button');\n",
              "      quickchartButtonEl.disabled = true;  // To prevent multiple clicks.\n",
              "      quickchartButtonEl.classList.add('colab-df-spinner');\n",
              "      try {\n",
              "        const charts = await google.colab.kernel.invokeFunction(\n",
              "            'suggestCharts', [key], {});\n",
              "      } catch (error) {\n",
              "        console.error('Error during call to suggestCharts:', error);\n",
              "      }\n",
              "      quickchartButtonEl.classList.remove('colab-df-spinner');\n",
              "      quickchartButtonEl.classList.add('colab-df-quickchart-complete');\n",
              "    }\n",
              "    (() => {\n",
              "      let quickchartButtonEl =\n",
              "        document.querySelector('#df-6580730a-8626-4506-bd78-d0adba68517b button');\n",
              "      quickchartButtonEl.style.display =\n",
              "        google.colab.kernel.accessAllowed ? 'block' : 'none';\n",
              "    })();\n",
              "  </script>\n",
              "</div>\n",
              "    </div>\n",
              "  </div>\n"
            ],
            "text/plain": [
              "                                       count         mean          std   min  \\\n",
              "SeriousDlqin2yrs                      5001.0     0.060988     0.239332   0.0   \n",
              "RevolvingUtilizationOfUnsecuredLines  5001.0     3.842957   117.415101   0.0   \n",
              "age                                   5001.0    52.128374    14.907257  21.0   \n",
              "NumberOfTime30-59DaysPastDueNotWorse  5001.0     0.355729     3.178306   0.0   \n",
              "DebtRatio                             5001.0   368.032252  2593.676885   0.0   \n",
              "MonthlyIncome                         4031.0  6554.690151  7058.453424   0.0   \n",
              "NumberOfOpenCreditLinesAndLoans       5001.0     8.383323     5.111950   0.0   \n",
              "NumberOfTimes90DaysLate               5001.0     0.194361     3.132956   0.0   \n",
              "NumberRealEstateLoansOrLines          5001.0     1.022795     1.107556   0.0   \n",
              "NumberOfTime60-89DaysPastDueNotWorse  5001.0     0.165167     3.111899   0.0   \n",
              "NumberOfDependents                    4859.0     0.742745     1.103014   0.0   \n",
              "\n",
              "                                              25%          50%          75%  \\\n",
              "SeriousDlqin2yrs                         0.000000     0.000000     0.000000   \n",
              "RevolvingUtilizationOfUnsecuredLines     0.030053     0.163463     0.556134   \n",
              "age                                     41.000000    52.000000    63.000000   \n",
              "NumberOfTime30-59DaysPastDueNotWorse     0.000000     0.000000     0.000000   \n",
              "DebtRatio                                0.177007     0.365727     0.829553   \n",
              "MonthlyIncome                         3454.500000  5333.000000  8167.500000   \n",
              "NumberOfOpenCreditLinesAndLoans          5.000000     8.000000    11.000000   \n",
              "NumberOfTimes90DaysLate                  0.000000     0.000000     0.000000   \n",
              "NumberRealEstateLoansOrLines             0.000000     1.000000     2.000000   \n",
              "NumberOfTime60-89DaysPastDueNotWorse     0.000000     0.000000     0.000000   \n",
              "NumberOfDependents                       0.000000     0.000000     1.000000   \n",
              "\n",
              "                                           max  \n",
              "SeriousDlqin2yrs                           1.0  \n",
              "RevolvingUtilizationOfUnsecuredLines    6324.0  \n",
              "age                                       99.0  \n",
              "NumberOfTime30-59DaysPastDueNotWorse      98.0  \n",
              "DebtRatio                             168835.0  \n",
              "MonthlyIncome                         208333.0  \n",
              "NumberOfOpenCreditLinesAndLoans           46.0  \n",
              "NumberOfTimes90DaysLate                   98.0  \n",
              "NumberRealEstateLoansOrLines              17.0  \n",
              "NumberOfTime60-89DaysPastDueNotWorse      98.0  \n",
              "NumberOfDependents                         8.0  "
            ]
          },
          "execution_count": 29,
          "metadata": {},
          "output_type": "execute_result"
        }
      ],
      "source": [
        "training_data.describe().T"
      ]
    },
    {
      "cell_type": "markdown",
      "metadata": {
        "id": "iemJpso3Rgtt"
      },
      "source": [
        "Choose randomly ten objects from dataset:"
      ]
    },
    {
      "cell_type": "code",
      "execution_count": 30,
      "metadata": {
        "colab": {
          "base_uri": "https://localhost:8080/",
          "height": 383
        },
        "id": "DcD9qhzVRgtu",
        "outputId": "37ee6cd3-69f5-4993-bb9f-b8425df21e89"
      },
      "outputs": [
        {
          "data": {
            "application/vnd.google.colaboratory.intrinsic+json": {
              "summary": "{\n  \"name\": \"training_data\",\n  \"rows\": 10,\n  \"fields\": [\n    {\n      \"column\": \"SeriousDlqin2yrs\",\n      \"properties\": {\n        \"dtype\": \"number\",\n        \"std\": 0,\n        \"min\": 0,\n        \"max\": 1,\n        \"num_unique_values\": 2,\n        \"samples\": [\n          1,\n          0\n        ],\n        \"semantic_type\": \"\",\n        \"description\": \"\"\n      }\n    },\n    {\n      \"column\": \"RevolvingUtilizationOfUnsecuredLines\",\n      \"properties\": {\n        \"dtype\": \"number\",\n        \"std\": 0.4359050030599616,\n        \"min\": 0.0,\n        \"max\": 1.123876124,\n        \"num_unique_values\": 10,\n        \"samples\": [\n          0.016861692,\n          0.265081365\n        ],\n        \"semantic_type\": \"\",\n        \"description\": \"\"\n      }\n    },\n    {\n      \"column\": \"age\",\n      \"properties\": {\n        \"dtype\": \"number\",\n        \"std\": 14,\n        \"min\": 26,\n        \"max\": 70,\n        \"num_unique_values\": 9,\n        \"samples\": [\n          48,\n          32\n        ],\n        \"semantic_type\": \"\",\n        \"description\": \"\"\n      }\n    },\n    {\n      \"column\": \"NumberOfTime30-59DaysPastDueNotWorse\",\n      \"properties\": {\n        \"dtype\": \"number\",\n        \"std\": 0,\n        \"min\": 0,\n        \"max\": 1,\n        \"num_unique_values\": 2,\n        \"samples\": [\n          1,\n          0\n        ],\n        \"semantic_type\": \"\",\n        \"description\": \"\"\n      }\n    },\n    {\n      \"column\": \"DebtRatio\",\n      \"properties\": {\n        \"dtype\": \"number\",\n        \"std\": 841.7172019880636,\n        \"min\": 0.0,\n        \"max\": 2662.0,\n        \"num_unique_values\": 10,\n        \"samples\": [\n          0.425821711,\n          0.207063377\n        ],\n        \"semantic_type\": \"\",\n        \"description\": \"\"\n      }\n    },\n    {\n      \"column\": \"MonthlyIncome\",\n      \"properties\": {\n        \"dtype\": \"number\",\n        \"std\": 2937.351844963608,\n        \"min\": 2540.0,\n        \"max\": 12260.0,\n        \"num_unique_values\": 8,\n        \"samples\": [\n          6200.0,\n          4225.0\n        ],\n        \"semantic_type\": \"\",\n        \"description\": \"\"\n      }\n    },\n    {\n      \"column\": \"NumberOfOpenCreditLinesAndLoans\",\n      \"properties\": {\n        \"dtype\": \"number\",\n        \"std\": 2,\n        \"min\": 3,\n        \"max\": 12,\n        \"num_unique_values\": 7,\n        \"samples\": [\n          3,\n          6\n        ],\n        \"semantic_type\": \"\",\n        \"description\": \"\"\n      }\n    },\n    {\n      \"column\": \"NumberOfTimes90DaysLate\",\n      \"properties\": {\n        \"dtype\": \"number\",\n        \"std\": 0,\n        \"min\": 0,\n        \"max\": 3,\n        \"num_unique_values\": 2,\n        \"samples\": [\n          3,\n          0\n        ],\n        \"semantic_type\": \"\",\n        \"description\": \"\"\n      }\n    },\n    {\n      \"column\": \"NumberRealEstateLoansOrLines\",\n      \"properties\": {\n        \"dtype\": \"number\",\n        \"std\": 1,\n        \"min\": 0,\n        \"max\": 5,\n        \"num_unique_values\": 4,\n        \"samples\": [\n          2,\n          5\n        ],\n        \"semantic_type\": \"\",\n        \"description\": \"\"\n      }\n    },\n    {\n      \"column\": \"NumberOfTime60-89DaysPastDueNotWorse\",\n      \"properties\": {\n        \"dtype\": \"number\",\n        \"std\": 0,\n        \"min\": 0,\n        \"max\": 3,\n        \"num_unique_values\": 3,\n        \"samples\": [\n          0,\n          3\n        ],\n        \"semantic_type\": \"\",\n        \"description\": \"\"\n      }\n    },\n    {\n      \"column\": \"NumberOfDependents\",\n      \"properties\": {\n        \"dtype\": \"number\",\n        \"std\": 1.509230856356236,\n        \"min\": 0.0,\n        \"max\": 4.0,\n        \"num_unique_values\": 5,\n        \"samples\": [\n          2.0,\n          4.0\n        ],\n        \"semantic_type\": \"\",\n        \"description\": \"\"\n      }\n    }\n  ]\n}",
              "type": "dataframe"
            },
            "text/html": [
              "\n",
              "  <div id=\"df-5d537f0e-8c44-4c71-b825-0b87113c803d\" class=\"colab-df-container\">\n",
              "    <div>\n",
              "<style scoped>\n",
              "    .dataframe tbody tr th:only-of-type {\n",
              "        vertical-align: middle;\n",
              "    }\n",
              "\n",
              "    .dataframe tbody tr th {\n",
              "        vertical-align: top;\n",
              "    }\n",
              "\n",
              "    .dataframe thead th {\n",
              "        text-align: right;\n",
              "    }\n",
              "</style>\n",
              "<table border=\"1\" class=\"dataframe\">\n",
              "  <thead>\n",
              "    <tr style=\"text-align: right;\">\n",
              "      <th></th>\n",
              "      <th>SeriousDlqin2yrs</th>\n",
              "      <th>RevolvingUtilizationOfUnsecuredLines</th>\n",
              "      <th>age</th>\n",
              "      <th>NumberOfTime30-59DaysPastDueNotWorse</th>\n",
              "      <th>DebtRatio</th>\n",
              "      <th>MonthlyIncome</th>\n",
              "      <th>NumberOfOpenCreditLinesAndLoans</th>\n",
              "      <th>NumberOfTimes90DaysLate</th>\n",
              "      <th>NumberRealEstateLoansOrLines</th>\n",
              "      <th>NumberOfTime60-89DaysPastDueNotWorse</th>\n",
              "      <th>NumberOfDependents</th>\n",
              "    </tr>\n",
              "  </thead>\n",
              "  <tbody>\n",
              "    <tr>\n",
              "      <th>2648</th>\n",
              "      <td>0</td>\n",
              "      <td>0.000000</td>\n",
              "      <td>57</td>\n",
              "      <td>0</td>\n",
              "      <td>0.000000</td>\n",
              "      <td>8500.0</td>\n",
              "      <td>3</td>\n",
              "      <td>0</td>\n",
              "      <td>0</td>\n",
              "      <td>0</td>\n",
              "      <td>3.0</td>\n",
              "    </tr>\n",
              "    <tr>\n",
              "      <th>2456</th>\n",
              "      <td>0</td>\n",
              "      <td>0.265081</td>\n",
              "      <td>32</td>\n",
              "      <td>0</td>\n",
              "      <td>0.207063</td>\n",
              "      <td>6200.0</td>\n",
              "      <td>6</td>\n",
              "      <td>0</td>\n",
              "      <td>0</td>\n",
              "      <td>0</td>\n",
              "      <td>3.0</td>\n",
              "    </tr>\n",
              "    <tr>\n",
              "      <th>4558</th>\n",
              "      <td>0</td>\n",
              "      <td>0.067098</td>\n",
              "      <td>34</td>\n",
              "      <td>0</td>\n",
              "      <td>0.280673</td>\n",
              "      <td>8500.0</td>\n",
              "      <td>7</td>\n",
              "      <td>0</td>\n",
              "      <td>2</td>\n",
              "      <td>0</td>\n",
              "      <td>2.0</td>\n",
              "    </tr>\n",
              "    <tr>\n",
              "      <th>4885</th>\n",
              "      <td>0</td>\n",
              "      <td>1.123876</td>\n",
              "      <td>26</td>\n",
              "      <td>1</td>\n",
              "      <td>0.356159</td>\n",
              "      <td>2540.0</td>\n",
              "      <td>5</td>\n",
              "      <td>3</td>\n",
              "      <td>0</td>\n",
              "      <td>3</td>\n",
              "      <td>2.0</td>\n",
              "    </tr>\n",
              "    <tr>\n",
              "      <th>92</th>\n",
              "      <td>0</td>\n",
              "      <td>0.784836</td>\n",
              "      <td>52</td>\n",
              "      <td>0</td>\n",
              "      <td>2662.000000</td>\n",
              "      <td>NaN</td>\n",
              "      <td>10</td>\n",
              "      <td>0</td>\n",
              "      <td>2</td>\n",
              "      <td>1</td>\n",
              "      <td>0.0</td>\n",
              "    </tr>\n",
              "    <tr>\n",
              "      <th>3602</th>\n",
              "      <td>0</td>\n",
              "      <td>0.004000</td>\n",
              "      <td>70</td>\n",
              "      <td>0</td>\n",
              "      <td>0.169479</td>\n",
              "      <td>8000.0</td>\n",
              "      <td>8</td>\n",
              "      <td>0</td>\n",
              "      <td>1</td>\n",
              "      <td>0</td>\n",
              "      <td>1.0</td>\n",
              "    </tr>\n",
              "    <tr>\n",
              "      <th>30</th>\n",
              "      <td>0</td>\n",
              "      <td>0.704074</td>\n",
              "      <td>28</td>\n",
              "      <td>1</td>\n",
              "      <td>0.155201</td>\n",
              "      <td>4200.0</td>\n",
              "      <td>8</td>\n",
              "      <td>0</td>\n",
              "      <td>0</td>\n",
              "      <td>0</td>\n",
              "      <td>0.0</td>\n",
              "    </tr>\n",
              "    <tr>\n",
              "      <th>1746</th>\n",
              "      <td>0</td>\n",
              "      <td>0.142398</td>\n",
              "      <td>57</td>\n",
              "      <td>0</td>\n",
              "      <td>0.264080</td>\n",
              "      <td>4225.0</td>\n",
              "      <td>6</td>\n",
              "      <td>0</td>\n",
              "      <td>1</td>\n",
              "      <td>0</td>\n",
              "      <td>0.0</td>\n",
              "    </tr>\n",
              "    <tr>\n",
              "      <th>1692</th>\n",
              "      <td>0</td>\n",
              "      <td>0.016862</td>\n",
              "      <td>48</td>\n",
              "      <td>0</td>\n",
              "      <td>0.425822</td>\n",
              "      <td>12260.0</td>\n",
              "      <td>12</td>\n",
              "      <td>0</td>\n",
              "      <td>5</td>\n",
              "      <td>0</td>\n",
              "      <td>4.0</td>\n",
              "    </tr>\n",
              "    <tr>\n",
              "      <th>2277</th>\n",
              "      <td>1</td>\n",
              "      <td>0.935497</td>\n",
              "      <td>55</td>\n",
              "      <td>0</td>\n",
              "      <td>0.450293</td>\n",
              "      <td>6477.0</td>\n",
              "      <td>10</td>\n",
              "      <td>0</td>\n",
              "      <td>2</td>\n",
              "      <td>0</td>\n",
              "      <td>0.0</td>\n",
              "    </tr>\n",
              "  </tbody>\n",
              "</table>\n",
              "</div>\n",
              "    <div class=\"colab-df-buttons\">\n",
              "\n",
              "  <div class=\"colab-df-container\">\n",
              "    <button class=\"colab-df-convert\" onclick=\"convertToInteractive('df-5d537f0e-8c44-4c71-b825-0b87113c803d')\"\n",
              "            title=\"Convert this dataframe to an interactive table.\"\n",
              "            style=\"display:none;\">\n",
              "\n",
              "  <svg xmlns=\"http://www.w3.org/2000/svg\" height=\"24px\" viewBox=\"0 -960 960 960\">\n",
              "    <path d=\"M120-120v-720h720v720H120Zm60-500h600v-160H180v160Zm220 220h160v-160H400v160Zm0 220h160v-160H400v160ZM180-400h160v-160H180v160Zm440 0h160v-160H620v160ZM180-180h160v-160H180v160Zm440 0h160v-160H620v160Z\"/>\n",
              "  </svg>\n",
              "    </button>\n",
              "\n",
              "  <style>\n",
              "    .colab-df-container {\n",
              "      display:flex;\n",
              "      gap: 12px;\n",
              "    }\n",
              "\n",
              "    .colab-df-convert {\n",
              "      background-color: #E8F0FE;\n",
              "      border: none;\n",
              "      border-radius: 50%;\n",
              "      cursor: pointer;\n",
              "      display: none;\n",
              "      fill: #1967D2;\n",
              "      height: 32px;\n",
              "      padding: 0 0 0 0;\n",
              "      width: 32px;\n",
              "    }\n",
              "\n",
              "    .colab-df-convert:hover {\n",
              "      background-color: #E2EBFA;\n",
              "      box-shadow: 0px 1px 2px rgba(60, 64, 67, 0.3), 0px 1px 3px 1px rgba(60, 64, 67, 0.15);\n",
              "      fill: #174EA6;\n",
              "    }\n",
              "\n",
              "    .colab-df-buttons div {\n",
              "      margin-bottom: 4px;\n",
              "    }\n",
              "\n",
              "    [theme=dark] .colab-df-convert {\n",
              "      background-color: #3B4455;\n",
              "      fill: #D2E3FC;\n",
              "    }\n",
              "\n",
              "    [theme=dark] .colab-df-convert:hover {\n",
              "      background-color: #434B5C;\n",
              "      box-shadow: 0px 1px 3px 1px rgba(0, 0, 0, 0.15);\n",
              "      filter: drop-shadow(0px 1px 2px rgba(0, 0, 0, 0.3));\n",
              "      fill: #FFFFFF;\n",
              "    }\n",
              "  </style>\n",
              "\n",
              "    <script>\n",
              "      const buttonEl =\n",
              "        document.querySelector('#df-5d537f0e-8c44-4c71-b825-0b87113c803d button.colab-df-convert');\n",
              "      buttonEl.style.display =\n",
              "        google.colab.kernel.accessAllowed ? 'block' : 'none';\n",
              "\n",
              "      async function convertToInteractive(key) {\n",
              "        const element = document.querySelector('#df-5d537f0e-8c44-4c71-b825-0b87113c803d');\n",
              "        const dataTable =\n",
              "          await google.colab.kernel.invokeFunction('convertToInteractive',\n",
              "                                                    [key], {});\n",
              "        if (!dataTable) return;\n",
              "\n",
              "        const docLinkHtml = 'Like what you see? Visit the ' +\n",
              "          '<a target=\"_blank\" href=https://colab.research.google.com/notebooks/data_table.ipynb>data table notebook</a>'\n",
              "          + ' to learn more about interactive tables.';\n",
              "        element.innerHTML = '';\n",
              "        dataTable['output_type'] = 'display_data';\n",
              "        await google.colab.output.renderOutput(dataTable, element);\n",
              "        const docLink = document.createElement('div');\n",
              "        docLink.innerHTML = docLinkHtml;\n",
              "        element.appendChild(docLink);\n",
              "      }\n",
              "    </script>\n",
              "  </div>\n",
              "\n",
              "\n",
              "<div id=\"df-37a76865-9acf-46c3-b4ad-e178a8b14d0b\">\n",
              "  <button class=\"colab-df-quickchart\" onclick=\"quickchart('df-37a76865-9acf-46c3-b4ad-e178a8b14d0b')\"\n",
              "            title=\"Suggest charts\"\n",
              "            style=\"display:none;\">\n",
              "\n",
              "<svg xmlns=\"http://www.w3.org/2000/svg\" height=\"24px\"viewBox=\"0 0 24 24\"\n",
              "     width=\"24px\">\n",
              "    <g>\n",
              "        <path d=\"M19 3H5c-1.1 0-2 .9-2 2v14c0 1.1.9 2 2 2h14c1.1 0 2-.9 2-2V5c0-1.1-.9-2-2-2zM9 17H7v-7h2v7zm4 0h-2V7h2v10zm4 0h-2v-4h2v4z\"/>\n",
              "    </g>\n",
              "</svg>\n",
              "  </button>\n",
              "\n",
              "<style>\n",
              "  .colab-df-quickchart {\n",
              "      --bg-color: #E8F0FE;\n",
              "      --fill-color: #1967D2;\n",
              "      --hover-bg-color: #E2EBFA;\n",
              "      --hover-fill-color: #174EA6;\n",
              "      --disabled-fill-color: #AAA;\n",
              "      --disabled-bg-color: #DDD;\n",
              "  }\n",
              "\n",
              "  [theme=dark] .colab-df-quickchart {\n",
              "      --bg-color: #3B4455;\n",
              "      --fill-color: #D2E3FC;\n",
              "      --hover-bg-color: #434B5C;\n",
              "      --hover-fill-color: #FFFFFF;\n",
              "      --disabled-bg-color: #3B4455;\n",
              "      --disabled-fill-color: #666;\n",
              "  }\n",
              "\n",
              "  .colab-df-quickchart {\n",
              "    background-color: var(--bg-color);\n",
              "    border: none;\n",
              "    border-radius: 50%;\n",
              "    cursor: pointer;\n",
              "    display: none;\n",
              "    fill: var(--fill-color);\n",
              "    height: 32px;\n",
              "    padding: 0;\n",
              "    width: 32px;\n",
              "  }\n",
              "\n",
              "  .colab-df-quickchart:hover {\n",
              "    background-color: var(--hover-bg-color);\n",
              "    box-shadow: 0 1px 2px rgba(60, 64, 67, 0.3), 0 1px 3px 1px rgba(60, 64, 67, 0.15);\n",
              "    fill: var(--button-hover-fill-color);\n",
              "  }\n",
              "\n",
              "  .colab-df-quickchart-complete:disabled,\n",
              "  .colab-df-quickchart-complete:disabled:hover {\n",
              "    background-color: var(--disabled-bg-color);\n",
              "    fill: var(--disabled-fill-color);\n",
              "    box-shadow: none;\n",
              "  }\n",
              "\n",
              "  .colab-df-spinner {\n",
              "    border: 2px solid var(--fill-color);\n",
              "    border-color: transparent;\n",
              "    border-bottom-color: var(--fill-color);\n",
              "    animation:\n",
              "      spin 1s steps(1) infinite;\n",
              "  }\n",
              "\n",
              "  @keyframes spin {\n",
              "    0% {\n",
              "      border-color: transparent;\n",
              "      border-bottom-color: var(--fill-color);\n",
              "      border-left-color: var(--fill-color);\n",
              "    }\n",
              "    20% {\n",
              "      border-color: transparent;\n",
              "      border-left-color: var(--fill-color);\n",
              "      border-top-color: var(--fill-color);\n",
              "    }\n",
              "    30% {\n",
              "      border-color: transparent;\n",
              "      border-left-color: var(--fill-color);\n",
              "      border-top-color: var(--fill-color);\n",
              "      border-right-color: var(--fill-color);\n",
              "    }\n",
              "    40% {\n",
              "      border-color: transparent;\n",
              "      border-right-color: var(--fill-color);\n",
              "      border-top-color: var(--fill-color);\n",
              "    }\n",
              "    60% {\n",
              "      border-color: transparent;\n",
              "      border-right-color: var(--fill-color);\n",
              "    }\n",
              "    80% {\n",
              "      border-color: transparent;\n",
              "      border-right-color: var(--fill-color);\n",
              "      border-bottom-color: var(--fill-color);\n",
              "    }\n",
              "    90% {\n",
              "      border-color: transparent;\n",
              "      border-bottom-color: var(--fill-color);\n",
              "    }\n",
              "  }\n",
              "</style>\n",
              "\n",
              "  <script>\n",
              "    async function quickchart(key) {\n",
              "      const quickchartButtonEl =\n",
              "        document.querySelector('#' + key + ' button');\n",
              "      quickchartButtonEl.disabled = true;  // To prevent multiple clicks.\n",
              "      quickchartButtonEl.classList.add('colab-df-spinner');\n",
              "      try {\n",
              "        const charts = await google.colab.kernel.invokeFunction(\n",
              "            'suggestCharts', [key], {});\n",
              "      } catch (error) {\n",
              "        console.error('Error during call to suggestCharts:', error);\n",
              "      }\n",
              "      quickchartButtonEl.classList.remove('colab-df-spinner');\n",
              "      quickchartButtonEl.classList.add('colab-df-quickchart-complete');\n",
              "    }\n",
              "    (() => {\n",
              "      let quickchartButtonEl =\n",
              "        document.querySelector('#df-37a76865-9acf-46c3-b4ad-e178a8b14d0b button');\n",
              "      quickchartButtonEl.style.display =\n",
              "        google.colab.kernel.accessAllowed ? 'block' : 'none';\n",
              "    })();\n",
              "  </script>\n",
              "</div>\n",
              "    </div>\n",
              "  </div>\n"
            ],
            "text/plain": [
              "      SeriousDlqin2yrs  RevolvingUtilizationOfUnsecuredLines  age  \\\n",
              "2648                 0                              0.000000   57   \n",
              "2456                 0                              0.265081   32   \n",
              "4558                 0                              0.067098   34   \n",
              "4885                 0                              1.123876   26   \n",
              "92                   0                              0.784836   52   \n",
              "3602                 0                              0.004000   70   \n",
              "30                   0                              0.704074   28   \n",
              "1746                 0                              0.142398   57   \n",
              "1692                 0                              0.016862   48   \n",
              "2277                 1                              0.935497   55   \n",
              "\n",
              "      NumberOfTime30-59DaysPastDueNotWorse    DebtRatio  MonthlyIncome  \\\n",
              "2648                                     0     0.000000         8500.0   \n",
              "2456                                     0     0.207063         6200.0   \n",
              "4558                                     0     0.280673         8500.0   \n",
              "4885                                     1     0.356159         2540.0   \n",
              "92                                       0  2662.000000            NaN   \n",
              "3602                                     0     0.169479         8000.0   \n",
              "30                                       1     0.155201         4200.0   \n",
              "1746                                     0     0.264080         4225.0   \n",
              "1692                                     0     0.425822        12260.0   \n",
              "2277                                     0     0.450293         6477.0   \n",
              "\n",
              "      NumberOfOpenCreditLinesAndLoans  NumberOfTimes90DaysLate  \\\n",
              "2648                                3                        0   \n",
              "2456                                6                        0   \n",
              "4558                                7                        0   \n",
              "4885                                5                        3   \n",
              "92                                 10                        0   \n",
              "3602                                8                        0   \n",
              "30                                  8                        0   \n",
              "1746                                6                        0   \n",
              "1692                               12                        0   \n",
              "2277                               10                        0   \n",
              "\n",
              "      NumberRealEstateLoansOrLines  NumberOfTime60-89DaysPastDueNotWorse  \\\n",
              "2648                             0                                     0   \n",
              "2456                             0                                     0   \n",
              "4558                             2                                     0   \n",
              "4885                             0                                     3   \n",
              "92                               2                                     1   \n",
              "3602                             1                                     0   \n",
              "30                               0                                     0   \n",
              "1746                             1                                     0   \n",
              "1692                             5                                     0   \n",
              "2277                             2                                     0   \n",
              "\n",
              "      NumberOfDependents  \n",
              "2648                 3.0  \n",
              "2456                 3.0  \n",
              "4558                 2.0  \n",
              "4885                 2.0  \n",
              "92                   0.0  \n",
              "3602                 1.0  \n",
              "30                   0.0  \n",
              "1746                 0.0  \n",
              "1692                 4.0  \n",
              "2277                 0.0  "
            ]
          },
          "execution_count": 30,
          "metadata": {},
          "output_type": "execute_result"
        }
      ],
      "source": [
        "training_data.sample(10, random_state=123)"
      ]
    },
    {
      "cell_type": "markdown",
      "metadata": {
        "id": "uDpi4RNtRgtx"
      },
      "source": [
        "We see that there are `NaN`s in data. Let's calculate mean values of features on **training data** and fill them in instead of the missing values. We will do that both for **train** and **test**.\n",
        "\n",
        "There are several ways to fill in skipped data:\n",
        "* mean, median;\n",
        "* regression predictions;\n",
        "* in case of time series -- last known value,\n",
        "* linear interpolation, etc.\n",
        "\n",
        "If the number of skipped values is small, you can throw the corresponding objects away."
      ]
    },
    {
      "cell_type": "code",
      "execution_count": 31,
      "metadata": {
        "colab": {
          "base_uri": "https://localhost:8080/",
          "height": 178
        },
        "id": "8IGLwilrmTS8",
        "outputId": "502687c4-71cb-4865-dd2b-8231ca61f516"
      },
      "outputs": [
        {
          "data": {
            "text/html": [
              "<div>\n",
              "<style scoped>\n",
              "    .dataframe tbody tr th:only-of-type {\n",
              "        vertical-align: middle;\n",
              "    }\n",
              "\n",
              "    .dataframe tbody tr th {\n",
              "        vertical-align: top;\n",
              "    }\n",
              "\n",
              "    .dataframe thead th {\n",
              "        text-align: right;\n",
              "    }\n",
              "</style>\n",
              "<table border=\"1\" class=\"dataframe\">\n",
              "  <thead>\n",
              "    <tr style=\"text-align: right;\">\n",
              "      <th></th>\n",
              "      <th>count</th>\n",
              "    </tr>\n",
              "    <tr>\n",
              "      <th>SeriousDlqin2yrs</th>\n",
              "      <th></th>\n",
              "    </tr>\n",
              "  </thead>\n",
              "  <tbody>\n",
              "    <tr>\n",
              "      <th>0</th>\n",
              "      <td>4696</td>\n",
              "    </tr>\n",
              "    <tr>\n",
              "      <th>1</th>\n",
              "      <td>305</td>\n",
              "    </tr>\n",
              "  </tbody>\n",
              "</table>\n",
              "</div><br><label><b>dtype:</b> int64</label>"
            ],
            "text/plain": [
              "SeriousDlqin2yrs\n",
              "0    4696\n",
              "1     305\n",
              "Name: count, dtype: int64"
            ]
          },
          "execution_count": 31,
          "metadata": {},
          "output_type": "execute_result"
        }
      ],
      "source": [
        "training_data[\"SeriousDlqin2yrs\"].value_counts()"
      ]
    },
    {
      "cell_type": "code",
      "execution_count": 32,
      "metadata": {
        "id": "pgVX6J8Sw6hp"
      },
      "outputs": [],
      "source": [
        "train_mean = training_data.mean()"
      ]
    },
    {
      "cell_type": "code",
      "execution_count": 33,
      "metadata": {
        "colab": {
          "base_uri": "https://localhost:8080/",
          "height": 429
        },
        "id": "thJq9G2Kw6hp",
        "outputId": "796b0cb2-d974-4e6d-b64a-f27a284548f0"
      },
      "outputs": [
        {
          "data": {
            "text/html": [
              "<div>\n",
              "<style scoped>\n",
              "    .dataframe tbody tr th:only-of-type {\n",
              "        vertical-align: middle;\n",
              "    }\n",
              "\n",
              "    .dataframe tbody tr th {\n",
              "        vertical-align: top;\n",
              "    }\n",
              "\n",
              "    .dataframe thead th {\n",
              "        text-align: right;\n",
              "    }\n",
              "</style>\n",
              "<table border=\"1\" class=\"dataframe\">\n",
              "  <thead>\n",
              "    <tr style=\"text-align: right;\">\n",
              "      <th></th>\n",
              "      <th>0</th>\n",
              "    </tr>\n",
              "  </thead>\n",
              "  <tbody>\n",
              "    <tr>\n",
              "      <th>SeriousDlqin2yrs</th>\n",
              "      <td>0.060988</td>\n",
              "    </tr>\n",
              "    <tr>\n",
              "      <th>RevolvingUtilizationOfUnsecuredLines</th>\n",
              "      <td>3.842957</td>\n",
              "    </tr>\n",
              "    <tr>\n",
              "      <th>age</th>\n",
              "      <td>52.128374</td>\n",
              "    </tr>\n",
              "    <tr>\n",
              "      <th>NumberOfTime30-59DaysPastDueNotWorse</th>\n",
              "      <td>0.355729</td>\n",
              "    </tr>\n",
              "    <tr>\n",
              "      <th>DebtRatio</th>\n",
              "      <td>368.032252</td>\n",
              "    </tr>\n",
              "    <tr>\n",
              "      <th>MonthlyIncome</th>\n",
              "      <td>6554.690151</td>\n",
              "    </tr>\n",
              "    <tr>\n",
              "      <th>NumberOfOpenCreditLinesAndLoans</th>\n",
              "      <td>8.383323</td>\n",
              "    </tr>\n",
              "    <tr>\n",
              "      <th>NumberOfTimes90DaysLate</th>\n",
              "      <td>0.194361</td>\n",
              "    </tr>\n",
              "    <tr>\n",
              "      <th>NumberRealEstateLoansOrLines</th>\n",
              "      <td>1.022795</td>\n",
              "    </tr>\n",
              "    <tr>\n",
              "      <th>NumberOfTime60-89DaysPastDueNotWorse</th>\n",
              "      <td>0.165167</td>\n",
              "    </tr>\n",
              "    <tr>\n",
              "      <th>NumberOfDependents</th>\n",
              "      <td>0.742745</td>\n",
              "    </tr>\n",
              "  </tbody>\n",
              "</table>\n",
              "</div><br><label><b>dtype:</b> float64</label>"
            ],
            "text/plain": [
              "SeriousDlqin2yrs                           0.060988\n",
              "RevolvingUtilizationOfUnsecuredLines       3.842957\n",
              "age                                       52.128374\n",
              "NumberOfTime30-59DaysPastDueNotWorse       0.355729\n",
              "DebtRatio                                368.032252\n",
              "MonthlyIncome                           6554.690151\n",
              "NumberOfOpenCreditLinesAndLoans            8.383323\n",
              "NumberOfTimes90DaysLate                    0.194361\n",
              "NumberRealEstateLoansOrLines               1.022795\n",
              "NumberOfTime60-89DaysPastDueNotWorse       0.165167\n",
              "NumberOfDependents                         0.742745\n",
              "dtype: float64"
            ]
          },
          "execution_count": 33,
          "metadata": {},
          "output_type": "execute_result"
        }
      ],
      "source": [
        "train_mean"
      ]
    },
    {
      "cell_type": "code",
      "execution_count": 34,
      "metadata": {
        "colab": {
          "base_uri": "https://localhost:8080/"
        },
        "id": "0S1ukXYlRgtz",
        "outputId": "816d7eeb-7e1f-4ec0-e83b-b9bdef0fcd86"
      },
      "outputs": [
        {
          "name": "stdout",
          "output_type": "stream",
          "text": [
            "SeriousDlqin2yrs                        0\n",
            "RevolvingUtilizationOfUnsecuredLines    0\n",
            "age                                     0\n",
            "NumberOfTime30-59DaysPastDueNotWorse    0\n",
            "DebtRatio                               0\n",
            "MonthlyIncome                           0\n",
            "NumberOfOpenCreditLinesAndLoans         0\n",
            "NumberOfTimes90DaysLate                 0\n",
            "NumberRealEstateLoansOrLines            0\n",
            "NumberOfTime60-89DaysPastDueNotWorse    0\n",
            "NumberOfDependents                      0\n",
            "dtype: int64\n",
            "SeriousDlqin2yrs                        0\n",
            "RevolvingUtilizationOfUnsecuredLines    0\n",
            "age                                     0\n",
            "NumberOfTime30-59DaysPastDueNotWorse    0\n",
            "DebtRatio                               0\n",
            "MonthlyIncome                           0\n",
            "NumberOfOpenCreditLinesAndLoans         0\n",
            "NumberOfTimes90DaysLate                 0\n",
            "NumberRealEstateLoansOrLines            0\n",
            "NumberOfTime60-89DaysPastDueNotWorse    0\n",
            "NumberOfDependents                      0\n",
            "dtype: int64\n"
          ]
        }
      ],
      "source": [
        "# fill NA values with mean training values\n",
        "training_data.fillna(train_mean, inplace=True)\n",
        "test_data.fillna(train_mean, inplace=True)\n",
        "\n",
        "print(training_data.isnull().sum())\n",
        "print(test_data.isnull().sum())"
      ]
    },
    {
      "cell_type": "markdown",
      "metadata": {
        "id": "QzpECX19Rgt1"
      },
      "source": [
        "Compare train and test distributions"
      ]
    },
    {
      "cell_type": "code",
      "execution_count": 35,
      "metadata": {
        "colab": {
          "base_uri": "https://localhost:8080/",
          "height": 682
        },
        "id": "LhlyXAR_Rgt2",
        "outputId": "c2d5013b-a071-4e0b-ccde-2b087744fa52"
      },
      "outputs": [
        {
          "data": {
            "image/png": "[encoded data removed]",
            "text/plain": [
              "<Figure size 1600x900 with 12 Axes>"
            ]
          },
          "metadata": {},
          "output_type": "display_data"
        }
      ],
      "source": [
        "axes = training_data.hist(figsize=(16, 9), bins=25, alpha=0.75) # that will plot training data histograms\n",
        "\n",
        "for plot in axes.flat: # that will draw test data on top of training histograms\n",
        "    column = plot.title.get_text()\n",
        "    if column:\n",
        "        test_data[column].hist(ax=plot, bins=25, alpha=0.55)"
      ]
    },
    {
      "cell_type": "markdown",
      "metadata": {
        "id": "_5xrhG2bRgt4"
      },
      "source": [
        "Pay attention to **SeriousDlqin2yrs** -- 90 days past due delinquency or worse in the last 2 years. We see that most of the borrowers pay in time."
      ]
    },
    {
      "cell_type": "code",
      "execution_count": 36,
      "metadata": {
        "colab": {
          "base_uri": "https://localhost:8080/",
          "height": 178
        },
        "id": "sbwfKx8ARgt4",
        "outputId": "3660fc14-a5f7-4009-c104-efbbb4015f58"
      },
      "outputs": [
        {
          "data": {
            "text/html": [
              "<div>\n",
              "<style scoped>\n",
              "    .dataframe tbody tr th:only-of-type {\n",
              "        vertical-align: middle;\n",
              "    }\n",
              "\n",
              "    .dataframe tbody tr th {\n",
              "        vertical-align: top;\n",
              "    }\n",
              "\n",
              "    .dataframe thead th {\n",
              "        text-align: right;\n",
              "    }\n",
              "</style>\n",
              "<table border=\"1\" class=\"dataframe\">\n",
              "  <thead>\n",
              "    <tr style=\"text-align: right;\">\n",
              "      <th></th>\n",
              "      <th>count</th>\n",
              "    </tr>\n",
              "    <tr>\n",
              "      <th>SeriousDlqin2yrs</th>\n",
              "      <th></th>\n",
              "    </tr>\n",
              "  </thead>\n",
              "  <tbody>\n",
              "    <tr>\n",
              "      <th>0</th>\n",
              "      <td>4696</td>\n",
              "    </tr>\n",
              "    <tr>\n",
              "      <th>1</th>\n",
              "      <td>305</td>\n",
              "    </tr>\n",
              "  </tbody>\n",
              "</table>\n",
              "</div><br><label><b>dtype:</b> int64</label>"
            ],
            "text/plain": [
              "SeriousDlqin2yrs\n",
              "0    4696\n",
              "1     305\n",
              "Name: count, dtype: int64"
            ]
          },
          "execution_count": 36,
          "metadata": {},
          "output_type": "execute_result"
        }
      ],
      "source": [
        "# The data set is imbalanced: typically people return credits\n",
        "training_data[\"SeriousDlqin2yrs\"].value_counts()"
      ]
    },
    {
      "cell_type": "markdown",
      "metadata": {
        "id": "jWdP1Z2gRgt8"
      },
      "source": [
        "# Classification algorithms"
      ]
    },
    {
      "cell_type": "markdown",
      "metadata": {
        "id": "3M-AubqTRgt9"
      },
      "source": [
        "First of all, load data for learning as pairs $(X, y)$, where $X = (x_i)_{i=1}^n$ -- input features,\n",
        "and $y=(y_i)_{i=1}^n$ corresponding labels."
      ]
    },
    {
      "cell_type": "code",
      "execution_count": 37,
      "metadata": {
        "id": "hl3hqXb8Rgt-"
      },
      "outputs": [],
      "source": [
        "training_X = training_data.drop(\"SeriousDlqin2yrs\", axis=1)\n",
        "training_y = training_data[\"SeriousDlqin2yrs\"]\n",
        "\n",
        "test_X = test_data.drop(\"SeriousDlqin2yrs\", axis=1)\n",
        "test_y = test_data[\"SeriousDlqin2yrs\"]"
      ]
    },
    {
      "cell_type": "markdown",
      "metadata": {
        "id": "kV1O9ZZZRguA"
      },
      "source": [
        "Construct calssification algorithms and train them."
      ]
    },
    {
      "cell_type": "code",
      "execution_count": 38,
      "metadata": {
        "colab": {
          "base_uri": "https://localhost:8080/",
          "height": 74
        },
        "id": "sTE1xxfzRguB",
        "outputId": "44886646-a8a0-485e-8bad-a37c476d69e0"
      },
      "outputs": [
        {
          "data": {
            "text/html": [
              "<style>#sk-container-id-2 {color: black;}#sk-container-id-2 pre{padding: 0;}#sk-container-id-2 div.sk-toggleable {background-color: white;}#sk-container-id-2 label.sk-toggleable__label {cursor: pointer;display: block;width: 100%;margin-bottom: 0;padding: 0.3em;box-sizing: border-box;text-align: center;}#sk-container-id-2 label.sk-toggleable__label-arrow:before {content: \"▸\";float: left;margin-right: 0.25em;color: #696969;}#sk-container-id-2 label.sk-toggleable__label-arrow:hover:before {color: black;}#sk-container-id-2 div.sk-estimator:hover label.sk-toggleable__label-arrow:before {color: black;}#sk-container-id-2 div.sk-toggleable__content {max-height: 0;max-width: 0;overflow: hidden;text-align: left;background-color: #f0f8ff;}#sk-container-id-2 div.sk-toggleable__content pre {margin: 0.2em;color: black;border-radius: 0.25em;background-color: #f0f8ff;}#sk-container-id-2 input.sk-toggleable__control:checked~div.sk-toggleable__content {max-height: 200px;max-width: 100%;overflow: auto;}#sk-container-id-2 input.sk-toggleable__control:checked~label.sk-toggleable__label-arrow:before {content: \"▾\";}#sk-container-id-2 div.sk-estimator input.sk-toggleable__control:checked~label.sk-toggleable__label {background-color: #d4ebff;}#sk-container-id-2 div.sk-label input.sk-toggleable__control:checked~label.sk-toggleable__label {background-color: #d4ebff;}#sk-container-id-2 input.sk-hidden--visually {border: 0;clip: rect(1px 1px 1px 1px);clip: rect(1px, 1px, 1px, 1px);height: 1px;margin: -1px;overflow: hidden;padding: 0;position: absolute;width: 1px;}#sk-container-id-2 div.sk-estimator {font-family: monospace;background-color: #f0f8ff;border: 1px dotted black;border-radius: 0.25em;box-sizing: border-box;margin-bottom: 0.5em;}#sk-container-id-2 div.sk-estimator:hover {background-color: #d4ebff;}#sk-container-id-2 div.sk-parallel-item::after {content: \"\";width: 100%;border-bottom: 1px solid gray;flex-grow: 1;}#sk-container-id-2 div.sk-label:hover label.sk-toggleable__label {background-color: #d4ebff;}#sk-container-id-2 div.sk-serial::before {content: \"\";position: absolute;border-left: 1px solid gray;box-sizing: border-box;top: 0;bottom: 0;left: 50%;z-index: 0;}#sk-container-id-2 div.sk-serial {display: flex;flex-direction: column;align-items: center;background-color: white;padding-right: 0.2em;padding-left: 0.2em;position: relative;}#sk-container-id-2 div.sk-item {position: relative;z-index: 1;}#sk-container-id-2 div.sk-parallel {display: flex;align-items: stretch;justify-content: center;background-color: white;position: relative;}#sk-container-id-2 div.sk-item::before, #sk-container-id-2 div.sk-parallel-item::before {content: \"\";position: absolute;border-left: 1px solid gray;box-sizing: border-box;top: 0;bottom: 0;left: 50%;z-index: -1;}#sk-container-id-2 div.sk-parallel-item {display: flex;flex-direction: column;z-index: 1;position: relative;background-color: white;}#sk-container-id-2 div.sk-parallel-item:first-child::after {align-self: flex-end;width: 50%;}#sk-container-id-2 div.sk-parallel-item:last-child::after {align-self: flex-start;width: 50%;}#sk-container-id-2 div.sk-parallel-item:only-child::after {width: 0;}#sk-container-id-2 div.sk-dashed-wrapped {border: 1px dashed gray;margin: 0 0.4em 0.5em 0.4em;box-sizing: border-box;padding-bottom: 0.4em;background-color: white;}#sk-container-id-2 div.sk-label label {font-family: monospace;font-weight: bold;display: inline-block;line-height: 1.2em;}#sk-container-id-2 div.sk-label-container {text-align: center;}#sk-container-id-2 div.sk-container {/* jupyter's `normalize.less` sets `[hidden] { display: none; }` but bootstrap.min.css set `[hidden] { display: none !important; }` so we also need the `!important` here to be able to override the default hidden behavior on the sphinx rendered scikit-learn.org. See: https://github.com/scikit-learn/scikit-learn/issues/21755 */display: inline-block !important;position: relative;}#sk-container-id-2 div.sk-text-repr-fallback {display: none;}</style><div id=\"sk-container-id-2\" class=\"sk-top-container\"><div class=\"sk-text-repr-fallback\"><pre>DecisionTreeClassifier(max_depth=5)</pre><b>In a Jupyter environment, please rerun this cell to show the HTML representation or trust the notebook. <br />On GitHub, the HTML representation is unable to render, please try loading this page with nbviewer.org.</b></div><div class=\"sk-container\" hidden><div class=\"sk-item\"><div class=\"sk-estimator sk-toggleable\"><input class=\"sk-toggleable__control sk-hidden--visually\" id=\"sk-estimator-id-2\" type=\"checkbox\" checked><label for=\"sk-estimator-id-2\" class=\"sk-toggleable__label sk-toggleable__label-arrow\">DecisionTreeClassifier</label><div class=\"sk-toggleable__content\"><pre>DecisionTreeClassifier(max_depth=5)</pre></div></div></div></div></div>"
            ],
            "text/plain": [
              "DecisionTreeClassifier(max_depth=5)"
            ]
          },
          "execution_count": 38,
          "metadata": {},
          "output_type": "execute_result"
        }
      ],
      "source": [
        "# Construct Decision Tree model\n",
        "\n",
        "decision_tree = DecisionTreeClassifier(max_depth = 5)\n",
        "decision_tree.fit(training_X, training_y)"
      ]
    },
    {
      "cell_type": "code",
      "execution_count": 39,
      "metadata": {
        "colab": {
          "base_uri": "https://localhost:8080/",
          "height": 833
        },
        "id": "szCzJPL7w6ht",
        "outputId": "f140d922-e30c-4169-92e7-f53c28644011"
      },
      "outputs": [
        {
          "name": "stdout",
          "output_type": "stream",
          "text": [
            "Requirement already satisfied: graphviz in /usr/local/lib/python3.11/dist-packages (0.20.3)\n"
          ]
        },
        {
          "data": {
            "image/svg+xml": [
              "<?xml version=\"1.0\" encoding=\"UTF-8\" standalone=\"no\"?>\n",
              "<!DOCTYPE svg PUBLIC \"-//W3C//DTD SVG 1.1//EN\"\n",
              " \"http://www.w3.org/Graphics/SVG/1.1/DTD/svg11.dtd\">\n",
              "<!-- Generated by graphviz version 2.43.0 (0)\n",
              " -->\n",
              "<!-- Title: Tree Pages: 1 -->\n",
              "<svg width=\"3849pt\" height=\"581pt\"\n",
              " viewBox=\"0.00 0.00 3849.00 581.00\" xmlns=\"http://www.w3.org/2000/svg\" xmlns:xlink=\"http://www.w3.org/1999/xlink\">\n",
              "<g id=\"graph0\" class=\"graph\" transform=\"scale(1 1) rotate(0) translate(4 577)\">\n",
              "<title>Tree</title>\n",
              "<polygon fill=\"white\" stroke=\"transparent\" points=\"-4,4 -4,-577 3845,-577 3845,4 -4,4\"/>\n",
              "<!-- 0 -->\n",
              "<g id=\"node1\" class=\"node\">\n",
              "<title>0</title>\n",
              "<polygon fill=\"none\" stroke=\"black\" points=\"2078,-573 1747,-573 1747,-505 2078,-505 2078,-573\"/>\n",
              "<text text-anchor=\"middle\" x=\"1912.5\" y=\"-557.8\" font-family=\"Helvetica,sans-Serif\" font-size=\"14.00\">NumberOfTime60&#45;89DaysPastDueNotWorse &lt;= 0.5</text>\n",
              "<text text-anchor=\"middle\" x=\"1912.5\" y=\"-542.8\" font-family=\"Helvetica,sans-Serif\" font-size=\"14.00\">gini = 0.115</text>\n",
              "<text text-anchor=\"middle\" x=\"1912.5\" y=\"-527.8\" font-family=\"Helvetica,sans-Serif\" font-size=\"14.00\">samples = 5001</text>\n",
              "<text text-anchor=\"middle\" x=\"1912.5\" y=\"-512.8\" font-family=\"Helvetica,sans-Serif\" font-size=\"14.00\">value = [4696, 305]</text>\n",
              "</g>\n",
              "<!-- 1 -->\n",
              "<g id=\"node2\" class=\"node\">\n",
              "<title>1</title>\n",
              "<polygon fill=\"none\" stroke=\"black\" points=\"1599,-469 1366,-469 1366,-401 1599,-401 1599,-469\"/>\n",
              "<text text-anchor=\"middle\" x=\"1482.5\" y=\"-453.8\" font-family=\"Helvetica,sans-Serif\" font-size=\"14.00\">NumberOfTimes90DaysLate &lt;= 0.5</text>\n",
              "<text text-anchor=\"middle\" x=\"1482.5\" y=\"-438.8\" font-family=\"Helvetica,sans-Serif\" font-size=\"14.00\">gini = 0.083</text>\n",
              "<text text-anchor=\"middle\" x=\"1482.5\" y=\"-423.8\" font-family=\"Helvetica,sans-Serif\" font-size=\"14.00\">samples = 4732</text>\n",
              "<text text-anchor=\"middle\" x=\"1482.5\" y=\"-408.8\" font-family=\"Helvetica,sans-Serif\" font-size=\"14.00\">value = [4526, 206]</text>\n",
              "</g>\n",
              "<!-- 0&#45;&gt;1 -->\n",
              "<g id=\"edge1\" class=\"edge\">\n",
              "<title>0&#45;&gt;1</title>\n",
              "<path fill=\"none\" stroke=\"black\" d=\"M1773.19,-504.95C1720.42,-492.44 1660.67,-478.26 1609.13,-466.04\"/>\n",
              "<polygon fill=\"black\" stroke=\"black\" points=\"1609.8,-462.6 1599.27,-463.7 1608.19,-469.41 1609.8,-462.6\"/>\n",
              "<text text-anchor=\"middle\" x=\"1612.39\" y=\"-481.28\" font-family=\"Helvetica,sans-Serif\" font-size=\"14.00\">True</text>\n",
              "</g>\n",
              "<!-- 28 -->\n",
              "<g id=\"node29\" class=\"node\">\n",
              "<title>28</title>\n",
              "<polygon fill=\"none\" stroke=\"black\" points=\"2325,-469 2020,-469 2020,-401 2325,-401 2325,-469\"/>\n",
              "<text text-anchor=\"middle\" x=\"2172.5\" y=\"-453.8\" font-family=\"Helvetica,sans-Serif\" font-size=\"14.00\">RevolvingUtilizationOfUnsecuredLines &lt;= 0.952</text>\n",
              "<text text-anchor=\"middle\" x=\"2172.5\" y=\"-438.8\" font-family=\"Helvetica,sans-Serif\" font-size=\"14.00\">gini = 0.465</text>\n",
              "<text text-anchor=\"middle\" x=\"2172.5\" y=\"-423.8\" font-family=\"Helvetica,sans-Serif\" font-size=\"14.00\">samples = 269</text>\n",
              "<text text-anchor=\"middle\" x=\"2172.5\" y=\"-408.8\" font-family=\"Helvetica,sans-Serif\" font-size=\"14.00\">value = [170, 99]</text>\n",
              "</g>\n",
              "<!-- 0&#45;&gt;28 -->\n",
              "<g id=\"edge28\" class=\"edge\">\n",
              "<title>0&#45;&gt;28</title>\n",
              "<path fill=\"none\" stroke=\"black\" d=\"M1996.91,-504.88C2023.04,-494.63 2051.99,-483.28 2078.71,-472.79\"/>\n",
              "<polygon fill=\"black\" stroke=\"black\" points=\"2080.03,-476.04 2088.06,-469.12 2077.48,-469.52 2080.03,-476.04\"/>\n",
              "<text text-anchor=\"middle\" x=\"2078.06\" y=\"-488.34\" font-family=\"Helvetica,sans-Serif\" font-size=\"14.00\">False</text>\n",
              "</g>\n",
              "<!-- 2 -->\n",
              "<g id=\"node3\" class=\"node\">\n",
              "<title>2</title>\n",
              "<polygon fill=\"none\" stroke=\"black\" points=\"908,-365 603,-365 603,-297 908,-297 908,-365\"/>\n",
              "<text text-anchor=\"middle\" x=\"755.5\" y=\"-349.8\" font-family=\"Helvetica,sans-Serif\" font-size=\"14.00\">RevolvingUtilizationOfUnsecuredLines &lt;= 0.571</text>\n",
              "<text text-anchor=\"middle\" x=\"755.5\" y=\"-334.8\" font-family=\"Helvetica,sans-Serif\" font-size=\"14.00\">gini = 0.065</text>\n",
              "<text text-anchor=\"middle\" x=\"755.5\" y=\"-319.8\" font-family=\"Helvetica,sans-Serif\" font-size=\"14.00\">samples = 4546</text>\n",
              "<text text-anchor=\"middle\" x=\"755.5\" y=\"-304.8\" font-family=\"Helvetica,sans-Serif\" font-size=\"14.00\">value = [4392, 154]</text>\n",
              "</g>\n",
              "<!-- 1&#45;&gt;2 -->\n",
              "<g id=\"edge2\" class=\"edge\">\n",
              "<title>1&#45;&gt;2</title>\n",
              "<path fill=\"none\" stroke=\"black\" d=\"M1365.69,-417.61C1244.5,-400.61 1054.03,-373.89 918.15,-354.82\"/>\n",
              "<polygon fill=\"black\" stroke=\"black\" points=\"918.44,-351.33 908.05,-353.4 917.47,-358.26 918.44,-351.33\"/>\n",
              "</g>\n",
              "<!-- 15 -->\n",
              "<g id=\"node16\" class=\"node\">\n",
              "<title>15</title>\n",
              "<polygon fill=\"none\" stroke=\"black\" points=\"1648,-365 1317,-365 1317,-297 1648,-297 1648,-365\"/>\n",
              "<text text-anchor=\"middle\" x=\"1482.5\" y=\"-349.8\" font-family=\"Helvetica,sans-Serif\" font-size=\"14.00\">NumberOfTime30&#45;59DaysPastDueNotWorse &lt;= 1.5</text>\n",
              "<text text-anchor=\"middle\" x=\"1482.5\" y=\"-334.8\" font-family=\"Helvetica,sans-Serif\" font-size=\"14.00\">gini = 0.403</text>\n",
              "<text text-anchor=\"middle\" x=\"1482.5\" y=\"-319.8\" font-family=\"Helvetica,sans-Serif\" font-size=\"14.00\">samples = 186</text>\n",
              "<text text-anchor=\"middle\" x=\"1482.5\" y=\"-304.8\" font-family=\"Helvetica,sans-Serif\" font-size=\"14.00\">value = [134, 52]</text>\n",
              "</g>\n",
              "<!-- 1&#45;&gt;15 -->\n",
              "<g id=\"edge15\" class=\"edge\">\n",
              "<title>1&#45;&gt;15</title>\n",
              "<path fill=\"none\" stroke=\"black\" d=\"M1482.5,-400.88C1482.5,-392.78 1482.5,-383.98 1482.5,-375.47\"/>\n",
              "<polygon fill=\"black\" stroke=\"black\" points=\"1486,-375.3 1482.5,-365.3 1479,-375.3 1486,-375.3\"/>\n",
              "</g>\n",
              "<!-- 3 -->\n",
              "<g id=\"node4\" class=\"node\">\n",
              "<title>3</title>\n",
              "<polygon fill=\"none\" stroke=\"black\" points=\"459.5,-261 193.5,-261 193.5,-193 459.5,-193 459.5,-261\"/>\n",
              "<text text-anchor=\"middle\" x=\"326.5\" y=\"-245.8\" font-family=\"Helvetica,sans-Serif\" font-size=\"14.00\">NumberRealEstateLoansOrLines &lt;= 16.0</text>\n",
              "<text text-anchor=\"middle\" x=\"326.5\" y=\"-230.8\" font-family=\"Helvetica,sans-Serif\" font-size=\"14.00\">gini = 0.032</text>\n",
              "<text text-anchor=\"middle\" x=\"326.5\" y=\"-215.8\" font-family=\"Helvetica,sans-Serif\" font-size=\"14.00\">samples = 3611</text>\n",
              "<text text-anchor=\"middle\" x=\"326.5\" y=\"-200.8\" font-family=\"Helvetica,sans-Serif\" font-size=\"14.00\">value = [3552, 59]</text>\n",
              "</g>\n",
              "<!-- 2&#45;&gt;3 -->\n",
              "<g id=\"edge3\" class=\"edge\">\n",
              "<title>2&#45;&gt;3</title>\n",
              "<path fill=\"none\" stroke=\"black\" d=\"M616.51,-296.95C569.56,-285.79 517.07,-273.31 469.79,-262.07\"/>\n",
              "<polygon fill=\"black\" stroke=\"black\" points=\"470.33,-258.6 459.79,-259.69 468.71,-265.41 470.33,-258.6\"/>\n",
              "</g>\n",
              "<!-- 8 -->\n",
              "<g id=\"node9\" class=\"node\">\n",
              "<title>8</title>\n",
              "<polygon fill=\"none\" stroke=\"black\" points=\"921,-261 590,-261 590,-193 921,-193 921,-261\"/>\n",
              "<text text-anchor=\"middle\" x=\"755.5\" y=\"-245.8\" font-family=\"Helvetica,sans-Serif\" font-size=\"14.00\">NumberOfTime30&#45;59DaysPastDueNotWorse &lt;= 1.5</text>\n",
              "<text text-anchor=\"middle\" x=\"755.5\" y=\"-230.8\" font-family=\"Helvetica,sans-Serif\" font-size=\"14.00\">gini = 0.183</text>\n",
              "<text text-anchor=\"middle\" x=\"755.5\" y=\"-215.8\" font-family=\"Helvetica,sans-Serif\" font-size=\"14.00\">samples = 935</text>\n",
              "<text text-anchor=\"middle\" x=\"755.5\" y=\"-200.8\" font-family=\"Helvetica,sans-Serif\" font-size=\"14.00\">value = [840, 95]</text>\n",
              "</g>\n",
              "<!-- 2&#45;&gt;8 -->\n",
              "<g id=\"edge8\" class=\"edge\">\n",
              "<title>2&#45;&gt;8</title>\n",
              "<path fill=\"none\" stroke=\"black\" d=\"M755.5,-296.88C755.5,-288.78 755.5,-279.98 755.5,-271.47\"/>\n",
              "<polygon fill=\"black\" stroke=\"black\" points=\"759,-271.3 755.5,-261.3 752,-271.3 759,-271.3\"/>\n",
              "</g>\n",
              "<!-- 4 -->\n",
              "<g id=\"node5\" class=\"node\">\n",
              "<title>4</title>\n",
              "<polygon fill=\"none\" stroke=\"black\" points=\"261,-157 2,-157 2,-89 261,-89 261,-157\"/>\n",
              "<text text-anchor=\"middle\" x=\"131.5\" y=\"-141.8\" font-family=\"Helvetica,sans-Serif\" font-size=\"14.00\">NumberRealEstateLoansOrLines &lt;= 2.5</text>\n",
              "<text text-anchor=\"middle\" x=\"131.5\" y=\"-126.8\" font-family=\"Helvetica,sans-Serif\" font-size=\"14.00\">gini = 0.032</text>\n",
              "<text text-anchor=\"middle\" x=\"131.5\" y=\"-111.8\" font-family=\"Helvetica,sans-Serif\" font-size=\"14.00\">samples = 3610</text>\n",
              "<text text-anchor=\"middle\" x=\"131.5\" y=\"-96.8\" font-family=\"Helvetica,sans-Serif\" font-size=\"14.00\">value = [3552, 58]</text>\n",
              "</g>\n",
              "<!-- 3&#45;&gt;4 -->\n",
              "<g id=\"edge4\" class=\"edge\">\n",
              "<title>3&#45;&gt;4</title>\n",
              "<path fill=\"none\" stroke=\"black\" d=\"M263.19,-192.88C244.28,-182.99 223.4,-172.07 203.95,-161.9\"/>\n",
              "<polygon fill=\"black\" stroke=\"black\" points=\"205.31,-158.66 194.83,-157.12 202.07,-164.86 205.31,-158.66\"/>\n",
              "</g>\n",
              "<!-- 7 -->\n",
              "<g id=\"node8\" class=\"node\">\n",
              "<title>7</title>\n",
              "<polygon fill=\"none\" stroke=\"black\" points=\"374,-149.5 279,-149.5 279,-96.5 374,-96.5 374,-149.5\"/>\n",
              "<text text-anchor=\"middle\" x=\"326.5\" y=\"-134.3\" font-family=\"Helvetica,sans-Serif\" font-size=\"14.00\">gini = 0.0</text>\n",
              "<text text-anchor=\"middle\" x=\"326.5\" y=\"-119.3\" font-family=\"Helvetica,sans-Serif\" font-size=\"14.00\">samples = 1</text>\n",
              "<text text-anchor=\"middle\" x=\"326.5\" y=\"-104.3\" font-family=\"Helvetica,sans-Serif\" font-size=\"14.00\">value = [0, 1]</text>\n",
              "</g>\n",
              "<!-- 3&#45;&gt;7 -->\n",
              "<g id=\"edge7\" class=\"edge\">\n",
              "<title>3&#45;&gt;7</title>\n",
              "<path fill=\"none\" stroke=\"black\" d=\"M326.5,-192.88C326.5,-182.33 326.5,-170.6 326.5,-159.85\"/>\n",
              "<polygon fill=\"black\" stroke=\"black\" points=\"330,-159.52 326.5,-149.52 323,-159.52 330,-159.52\"/>\n",
              "</g>\n",
              "<!-- 5 -->\n",
              "<g id=\"node6\" class=\"node\">\n",
              "<title>5</title>\n",
              "<polygon fill=\"none\" stroke=\"black\" points=\"125,-53 0,-53 0,0 125,0 125,-53\"/>\n",
              "<text text-anchor=\"middle\" x=\"62.5\" y=\"-37.8\" font-family=\"Helvetica,sans-Serif\" font-size=\"14.00\">gini = 0.025</text>\n",
              "<text text-anchor=\"middle\" x=\"62.5\" y=\"-22.8\" font-family=\"Helvetica,sans-Serif\" font-size=\"14.00\">samples = 3361</text>\n",
              "<text text-anchor=\"middle\" x=\"62.5\" y=\"-7.8\" font-family=\"Helvetica,sans-Serif\" font-size=\"14.00\">value = [3318, 43]</text>\n",
              "</g>\n",
              "<!-- 4&#45;&gt;5 -->\n",
              "<g id=\"edge5\" class=\"edge\">\n",
              "<title>4&#45;&gt;5</title>\n",
              "<path fill=\"none\" stroke=\"black\" d=\"M107.37,-88.95C100.89,-80.07 93.87,-70.46 87.35,-61.54\"/>\n",
              "<polygon fill=\"black\" stroke=\"black\" points=\"90.02,-59.25 81.29,-53.24 84.36,-63.38 90.02,-59.25\"/>\n",
              "</g>\n",
              "<!-- 6 -->\n",
              "<g id=\"node7\" class=\"node\">\n",
              "<title>6</title>\n",
              "<polygon fill=\"none\" stroke=\"black\" points=\"260,-53 143,-53 143,0 260,0 260,-53\"/>\n",
              "<text text-anchor=\"middle\" x=\"201.5\" y=\"-37.8\" font-family=\"Helvetica,sans-Serif\" font-size=\"14.00\">gini = 0.113</text>\n",
              "<text text-anchor=\"middle\" x=\"201.5\" y=\"-22.8\" font-family=\"Helvetica,sans-Serif\" font-size=\"14.00\">samples = 249</text>\n",
              "<text text-anchor=\"middle\" x=\"201.5\" y=\"-7.8\" font-family=\"Helvetica,sans-Serif\" font-size=\"14.00\">value = [234, 15]</text>\n",
              "</g>\n",
              "<!-- 4&#45;&gt;6 -->\n",
              "<g id=\"edge6\" class=\"edge\">\n",
              "<title>4&#45;&gt;6</title>\n",
              "<path fill=\"none\" stroke=\"black\" d=\"M155.98,-88.95C162.56,-80.07 169.67,-70.46 176.29,-61.54\"/>\n",
              "<polygon fill=\"black\" stroke=\"black\" points=\"179.3,-63.36 182.44,-53.24 173.67,-59.19 179.3,-63.36\"/>\n",
              "</g>\n",
              "<!-- 9 -->\n",
              "<g id=\"node10\" class=\"node\">\n",
              "<title>9</title>\n",
              "<polygon fill=\"none\" stroke=\"black\" points=\"697,-157 392,-157 392,-89 697,-89 697,-157\"/>\n",
              "<text text-anchor=\"middle\" x=\"544.5\" y=\"-141.8\" font-family=\"Helvetica,sans-Serif\" font-size=\"14.00\">RevolvingUtilizationOfUnsecuredLines &lt;= 0.571</text>\n",
              "<text text-anchor=\"middle\" x=\"544.5\" y=\"-126.8\" font-family=\"Helvetica,sans-Serif\" font-size=\"14.00\">gini = 0.151</text>\n",
              "<text text-anchor=\"middle\" x=\"544.5\" y=\"-111.8\" font-family=\"Helvetica,sans-Serif\" font-size=\"14.00\">samples = 862</text>\n",
              "<text text-anchor=\"middle\" x=\"544.5\" y=\"-96.8\" font-family=\"Helvetica,sans-Serif\" font-size=\"14.00\">value = [791, 71]</text>\n",
              "</g>\n",
              "<!-- 8&#45;&gt;9 -->\n",
              "<g id=\"edge9\" class=\"edge\">\n",
              "<title>8&#45;&gt;9</title>\n",
              "<path fill=\"none\" stroke=\"black\" d=\"M686.99,-192.88C666.25,-182.86 643.32,-171.77 622.04,-161.48\"/>\n",
              "<polygon fill=\"black\" stroke=\"black\" points=\"623.55,-158.33 613.02,-157.12 620.5,-164.63 623.55,-158.33\"/>\n",
              "</g>\n",
              "<!-- 12 -->\n",
              "<g id=\"node13\" class=\"node\">\n",
              "<title>12</title>\n",
              "<polygon fill=\"none\" stroke=\"black\" points=\"1020,-157 715,-157 715,-89 1020,-89 1020,-157\"/>\n",
              "<text text-anchor=\"middle\" x=\"867.5\" y=\"-141.8\" font-family=\"Helvetica,sans-Serif\" font-size=\"14.00\">RevolvingUtilizationOfUnsecuredLines &lt;= 1.002</text>\n",
              "<text text-anchor=\"middle\" x=\"867.5\" y=\"-126.8\" font-family=\"Helvetica,sans-Serif\" font-size=\"14.00\">gini = 0.441</text>\n",
              "<text text-anchor=\"middle\" x=\"867.5\" y=\"-111.8\" font-family=\"Helvetica,sans-Serif\" font-size=\"14.00\">samples = 73</text>\n",
              "<text text-anchor=\"middle\" x=\"867.5\" y=\"-96.8\" font-family=\"Helvetica,sans-Serif\" font-size=\"14.00\">value = [49, 24]</text>\n",
              "</g>\n",
              "<!-- 8&#45;&gt;12 -->\n",
              "<g id=\"edge12\" class=\"edge\">\n",
              "<title>8&#45;&gt;12</title>\n",
              "<path fill=\"none\" stroke=\"black\" d=\"M791.86,-192.88C801.94,-183.71 812.98,-173.65 823.44,-164.12\"/>\n",
              "<polygon fill=\"black\" stroke=\"black\" points=\"825.9,-166.62 830.94,-157.3 821.19,-161.44 825.9,-166.62\"/>\n",
              "</g>\n",
              "<!-- 10 -->\n",
              "<g id=\"node11\" class=\"node\">\n",
              "<title>10</title>\n",
              "<polygon fill=\"none\" stroke=\"black\" points=\"530,-53 435,-53 435,0 530,0 530,-53\"/>\n",
              "<text text-anchor=\"middle\" x=\"482.5\" y=\"-37.8\" font-family=\"Helvetica,sans-Serif\" font-size=\"14.00\">gini = 0.0</text>\n",
              "<text text-anchor=\"middle\" x=\"482.5\" y=\"-22.8\" font-family=\"Helvetica,sans-Serif\" font-size=\"14.00\">samples = 1</text>\n",
              "<text text-anchor=\"middle\" x=\"482.5\" y=\"-7.8\" font-family=\"Helvetica,sans-Serif\" font-size=\"14.00\">value = [0, 1]</text>\n",
              "</g>\n",
              "<!-- 9&#45;&gt;10 -->\n",
              "<g id=\"edge10\" class=\"edge\">\n",
              "<title>9&#45;&gt;10</title>\n",
              "<path fill=\"none\" stroke=\"black\" d=\"M522.82,-88.95C517.05,-80.17 510.82,-70.66 505.01,-61.82\"/>\n",
              "<polygon fill=\"black\" stroke=\"black\" points=\"507.8,-59.68 499.39,-53.24 501.94,-63.52 507.8,-59.68\"/>\n",
              "</g>\n",
              "<!-- 11 -->\n",
              "<g id=\"node12\" class=\"node\">\n",
              "<title>11</title>\n",
              "<polygon fill=\"none\" stroke=\"black\" points=\"665,-53 548,-53 548,0 665,0 665,-53\"/>\n",
              "<text text-anchor=\"middle\" x=\"606.5\" y=\"-37.8\" font-family=\"Helvetica,sans-Serif\" font-size=\"14.00\">gini = 0.149</text>\n",
              "<text text-anchor=\"middle\" x=\"606.5\" y=\"-22.8\" font-family=\"Helvetica,sans-Serif\" font-size=\"14.00\">samples = 861</text>\n",
              "<text text-anchor=\"middle\" x=\"606.5\" y=\"-7.8\" font-family=\"Helvetica,sans-Serif\" font-size=\"14.00\">value = [791, 70]</text>\n",
              "</g>\n",
              "<!-- 9&#45;&gt;11 -->\n",
              "<g id=\"edge11\" class=\"edge\">\n",
              "<title>9&#45;&gt;11</title>\n",
              "<path fill=\"none\" stroke=\"black\" d=\"M566.18,-88.95C571.95,-80.17 578.18,-70.66 583.99,-61.82\"/>\n",
              "<polygon fill=\"black\" stroke=\"black\" points=\"587.06,-63.52 589.61,-53.24 581.2,-59.68 587.06,-63.52\"/>\n",
              "</g>\n",
              "<!-- 13 -->\n",
              "<g id=\"node14\" class=\"node\">\n",
              "<title>13</title>\n",
              "<polygon fill=\"none\" stroke=\"black\" points=\"871.5,-53 761.5,-53 761.5,0 871.5,0 871.5,-53\"/>\n",
              "<text text-anchor=\"middle\" x=\"816.5\" y=\"-37.8\" font-family=\"Helvetica,sans-Serif\" font-size=\"14.00\">gini = 0.375</text>\n",
              "<text text-anchor=\"middle\" x=\"816.5\" y=\"-22.8\" font-family=\"Helvetica,sans-Serif\" font-size=\"14.00\">samples = 60</text>\n",
              "<text text-anchor=\"middle\" x=\"816.5\" y=\"-7.8\" font-family=\"Helvetica,sans-Serif\" font-size=\"14.00\">value = [45, 15]</text>\n",
              "</g>\n",
              "<!-- 12&#45;&gt;13 -->\n",
              "<g id=\"edge13\" class=\"edge\">\n",
              "<title>12&#45;&gt;13</title>\n",
              "<path fill=\"none\" stroke=\"black\" d=\"M849.66,-88.95C844.97,-80.26 839.9,-70.86 835.17,-62.09\"/>\n",
              "<polygon fill=\"black\" stroke=\"black\" points=\"838.22,-60.37 830.39,-53.24 832.06,-63.7 838.22,-60.37\"/>\n",
              "</g>\n",
              "<!-- 14 -->\n",
              "<g id=\"node15\" class=\"node\">\n",
              "<title>14</title>\n",
              "<polygon fill=\"none\" stroke=\"black\" points=\"987.5,-53 889.5,-53 889.5,0 987.5,0 987.5,-53\"/>\n",
              "<text text-anchor=\"middle\" x=\"938.5\" y=\"-37.8\" font-family=\"Helvetica,sans-Serif\" font-size=\"14.00\">gini = 0.426</text>\n",
              "<text text-anchor=\"middle\" x=\"938.5\" y=\"-22.8\" font-family=\"Helvetica,sans-Serif\" font-size=\"14.00\">samples = 13</text>\n",
              "<text text-anchor=\"middle\" x=\"938.5\" y=\"-7.8\" font-family=\"Helvetica,sans-Serif\" font-size=\"14.00\">value = [4, 9]</text>\n",
              "</g>\n",
              "<!-- 12&#45;&gt;14 -->\n",
              "<g id=\"edge14\" class=\"edge\">\n",
              "<title>12&#45;&gt;14</title>\n",
              "<path fill=\"none\" stroke=\"black\" d=\"M892.33,-88.95C899.07,-79.98 906.37,-70.27 913.13,-61.26\"/>\n",
              "<polygon fill=\"black\" stroke=\"black\" points=\"915.95,-63.33 919.16,-53.24 910.36,-59.13 915.95,-63.33\"/>\n",
              "</g>\n",
              "<!-- 16 -->\n",
              "<g id=\"node17\" class=\"node\">\n",
              "<title>16</title>\n",
              "<polygon fill=\"none\" stroke=\"black\" points=\"1453,-261 1336,-261 1336,-193 1453,-193 1453,-261\"/>\n",
              "<text text-anchor=\"middle\" x=\"1394.5\" y=\"-245.8\" font-family=\"Helvetica,sans-Serif\" font-size=\"14.00\">age &lt;= 30.5</text>\n",
              "<text text-anchor=\"middle\" x=\"1394.5\" y=\"-230.8\" font-family=\"Helvetica,sans-Serif\" font-size=\"14.00\">gini = 0.361</text>\n",
              "<text text-anchor=\"middle\" x=\"1394.5\" y=\"-215.8\" font-family=\"Helvetica,sans-Serif\" font-size=\"14.00\">samples = 161</text>\n",
              "<text text-anchor=\"middle\" x=\"1394.5\" y=\"-200.8\" font-family=\"Helvetica,sans-Serif\" font-size=\"14.00\">value = [123, 38]</text>\n",
              "</g>\n",
              "<!-- 15&#45;&gt;16 -->\n",
              "<g id=\"edge16\" class=\"edge\">\n",
              "<title>15&#45;&gt;16</title>\n",
              "<path fill=\"none\" stroke=\"black\" d=\"M1453.93,-296.88C1446.24,-287.98 1437.84,-278.24 1429.84,-268.96\"/>\n",
              "<polygon fill=\"black\" stroke=\"black\" points=\"1432.41,-266.58 1423.23,-261.3 1427.11,-271.16 1432.41,-266.58\"/>\n",
              "</g>\n",
              "<!-- 23 -->\n",
              "<g id=\"node24\" class=\"node\">\n",
              "<title>23</title>\n",
              "<polygon fill=\"none\" stroke=\"black\" points=\"1667.5,-261 1471.5,-261 1471.5,-193 1667.5,-193 1667.5,-261\"/>\n",
              "<text text-anchor=\"middle\" x=\"1569.5\" y=\"-245.8\" font-family=\"Helvetica,sans-Serif\" font-size=\"14.00\">NumberOfDependents &lt;= 1.5</text>\n",
              "<text text-anchor=\"middle\" x=\"1569.5\" y=\"-230.8\" font-family=\"Helvetica,sans-Serif\" font-size=\"14.00\">gini = 0.493</text>\n",
              "<text text-anchor=\"middle\" x=\"1569.5\" y=\"-215.8\" font-family=\"Helvetica,sans-Serif\" font-size=\"14.00\">samples = 25</text>\n",
              "<text text-anchor=\"middle\" x=\"1569.5\" y=\"-200.8\" font-family=\"Helvetica,sans-Serif\" font-size=\"14.00\">value = [11, 14]</text>\n",
              "</g>\n",
              "<!-- 15&#45;&gt;23 -->\n",
              "<g id=\"edge23\" class=\"edge\">\n",
              "<title>15&#45;&gt;23</title>\n",
              "<path fill=\"none\" stroke=\"black\" d=\"M1510.75,-296.88C1518.34,-287.98 1526.65,-278.24 1534.57,-268.96\"/>\n",
              "<polygon fill=\"black\" stroke=\"black\" points=\"1537.27,-271.18 1541.1,-261.3 1531.95,-266.64 1537.27,-271.18\"/>\n",
              "</g>\n",
              "<!-- 17 -->\n",
              "<g id=\"node18\" class=\"node\">\n",
              "<title>17</title>\n",
              "<polygon fill=\"none\" stroke=\"black\" points=\"1324.5,-157 1038.5,-157 1038.5,-89 1324.5,-89 1324.5,-157\"/>\n",
              "<text text-anchor=\"middle\" x=\"1181.5\" y=\"-141.8\" font-family=\"Helvetica,sans-Serif\" font-size=\"14.00\">NumberOfOpenCreditLinesAndLoans &lt;= 3.5</text>\n",
              "<text text-anchor=\"middle\" x=\"1181.5\" y=\"-126.8\" font-family=\"Helvetica,sans-Serif\" font-size=\"14.00\">gini = 0.494</text>\n",
              "<text text-anchor=\"middle\" x=\"1181.5\" y=\"-111.8\" font-family=\"Helvetica,sans-Serif\" font-size=\"14.00\">samples = 18</text>\n",
              "<text text-anchor=\"middle\" x=\"1181.5\" y=\"-96.8\" font-family=\"Helvetica,sans-Serif\" font-size=\"14.00\">value = [8, 10]</text>\n",
              "</g>\n",
              "<!-- 16&#45;&gt;17 -->\n",
              "<g id=\"edge17\" class=\"edge\">\n",
              "<title>16&#45;&gt;17</title>\n",
              "<path fill=\"none\" stroke=\"black\" d=\"M1335.73,-197.86C1312.26,-186.62 1284.89,-173.51 1259.78,-161.49\"/>\n",
              "<polygon fill=\"black\" stroke=\"black\" points=\"1261.17,-158.27 1250.64,-157.11 1258.15,-164.59 1261.17,-158.27\"/>\n",
              "</g>\n",
              "<!-- 20 -->\n",
              "<g id=\"node21\" class=\"node\">\n",
              "<title>20</title>\n",
              "<polygon fill=\"none\" stroke=\"black\" points=\"1476.5,-157 1342.5,-157 1342.5,-89 1476.5,-89 1476.5,-157\"/>\n",
              "<text text-anchor=\"middle\" x=\"1409.5\" y=\"-141.8\" font-family=\"Helvetica,sans-Serif\" font-size=\"14.00\">DebtRatio &lt;= 0.425</text>\n",
              "<text text-anchor=\"middle\" x=\"1409.5\" y=\"-126.8\" font-family=\"Helvetica,sans-Serif\" font-size=\"14.00\">gini = 0.315</text>\n",
              "<text text-anchor=\"middle\" x=\"1409.5\" y=\"-111.8\" font-family=\"Helvetica,sans-Serif\" font-size=\"14.00\">samples = 143</text>\n",
              "<text text-anchor=\"middle\" x=\"1409.5\" y=\"-96.8\" font-family=\"Helvetica,sans-Serif\" font-size=\"14.00\">value = [115, 28]</text>\n",
              "</g>\n",
              "<!-- 16&#45;&gt;20 -->\n",
              "<g id=\"edge20\" class=\"edge\">\n",
              "<title>16&#45;&gt;20</title>\n",
              "<path fill=\"none\" stroke=\"black\" d=\"M1399.37,-192.88C1400.56,-184.78 1401.86,-175.98 1403.11,-167.47\"/>\n",
              "<polygon fill=\"black\" stroke=\"black\" points=\"1406.61,-167.7 1404.6,-157.3 1399.69,-166.68 1406.61,-167.7\"/>\n",
              "</g>\n",
              "<!-- 18 -->\n",
              "<g id=\"node19\" class=\"node\">\n",
              "<title>18</title>\n",
              "<polygon fill=\"none\" stroke=\"black\" points=\"1116,-53 1021,-53 1021,0 1116,0 1116,-53\"/>\n",
              "<text text-anchor=\"middle\" x=\"1068.5\" y=\"-37.8\" font-family=\"Helvetica,sans-Serif\" font-size=\"14.00\">gini = 0.198</text>\n",
              "<text text-anchor=\"middle\" x=\"1068.5\" y=\"-22.8\" font-family=\"Helvetica,sans-Serif\" font-size=\"14.00\">samples = 9</text>\n",
              "<text text-anchor=\"middle\" x=\"1068.5\" y=\"-7.8\" font-family=\"Helvetica,sans-Serif\" font-size=\"14.00\">value = [1, 8]</text>\n",
              "</g>\n",
              "<!-- 17&#45;&gt;18 -->\n",
              "<g id=\"edge18\" class=\"edge\">\n",
              "<title>17&#45;&gt;18</title>\n",
              "<path fill=\"none\" stroke=\"black\" d=\"M1141.98,-88.95C1130.71,-79.53 1118.45,-69.27 1107.23,-59.89\"/>\n",
              "<polygon fill=\"black\" stroke=\"black\" points=\"1109.19,-56.97 1099.28,-53.24 1104.7,-62.34 1109.19,-56.97\"/>\n",
              "</g>\n",
              "<!-- 19 -->\n",
              "<g id=\"node20\" class=\"node\">\n",
              "<title>19</title>\n",
              "<polygon fill=\"none\" stroke=\"black\" points=\"1229,-53 1134,-53 1134,0 1229,0 1229,-53\"/>\n",
              "<text text-anchor=\"middle\" x=\"1181.5\" y=\"-37.8\" font-family=\"Helvetica,sans-Serif\" font-size=\"14.00\">gini = 0.346</text>\n",
              "<text text-anchor=\"middle\" x=\"1181.5\" y=\"-22.8\" font-family=\"Helvetica,sans-Serif\" font-size=\"14.00\">samples = 9</text>\n",
              "<text text-anchor=\"middle\" x=\"1181.5\" y=\"-7.8\" font-family=\"Helvetica,sans-Serif\" font-size=\"14.00\">value = [7, 2]</text>\n",
              "</g>\n",
              "<!-- 17&#45;&gt;19 -->\n",
              "<g id=\"edge19\" class=\"edge\">\n",
              "<title>17&#45;&gt;19</title>\n",
              "<path fill=\"none\" stroke=\"black\" d=\"M1181.5,-88.95C1181.5,-80.72 1181.5,-71.85 1181.5,-63.48\"/>\n",
              "<polygon fill=\"black\" stroke=\"black\" points=\"1185,-63.24 1181.5,-53.24 1178,-63.24 1185,-63.24\"/>\n",
              "</g>\n",
              "<!-- 21 -->\n",
              "<g id=\"node22\" class=\"node\">\n",
              "<title>21</title>\n",
              "<polygon fill=\"none\" stroke=\"black\" points=\"1357.5,-53 1247.5,-53 1247.5,0 1357.5,0 1357.5,-53\"/>\n",
              "<text text-anchor=\"middle\" x=\"1302.5\" y=\"-37.8\" font-family=\"Helvetica,sans-Serif\" font-size=\"14.00\">gini = 0.221</text>\n",
              "<text text-anchor=\"middle\" x=\"1302.5\" y=\"-22.8\" font-family=\"Helvetica,sans-Serif\" font-size=\"14.00\">samples = 95</text>\n",
              "<text text-anchor=\"middle\" x=\"1302.5\" y=\"-7.8\" font-family=\"Helvetica,sans-Serif\" font-size=\"14.00\">value = [83, 12]</text>\n",
              "</g>\n",
              "<!-- 20&#45;&gt;21 -->\n",
              "<g id=\"edge21\" class=\"edge\">\n",
              "<title>20&#45;&gt;21</title>\n",
              "<path fill=\"none\" stroke=\"black\" d=\"M1372.08,-88.95C1361.41,-79.53 1349.8,-69.27 1339.18,-59.89\"/>\n",
              "<polygon fill=\"black\" stroke=\"black\" points=\"1341.45,-57.23 1331.64,-53.24 1336.82,-62.48 1341.45,-57.23\"/>\n",
              "</g>\n",
              "<!-- 22 -->\n",
              "<g id=\"node23\" class=\"node\">\n",
              "<title>22</title>\n",
              "<polygon fill=\"none\" stroke=\"black\" points=\"1485.5,-53 1375.5,-53 1375.5,0 1485.5,0 1485.5,-53\"/>\n",
              "<text text-anchor=\"middle\" x=\"1430.5\" y=\"-37.8\" font-family=\"Helvetica,sans-Serif\" font-size=\"14.00\">gini = 0.444</text>\n",
              "<text text-anchor=\"middle\" x=\"1430.5\" y=\"-22.8\" font-family=\"Helvetica,sans-Serif\" font-size=\"14.00\">samples = 48</text>\n",
              "<text text-anchor=\"middle\" x=\"1430.5\" y=\"-7.8\" font-family=\"Helvetica,sans-Serif\" font-size=\"14.00\">value = [32, 16]</text>\n",
              "</g>\n",
              "<!-- 20&#45;&gt;22 -->\n",
              "<g id=\"edge22\" class=\"edge\">\n",
              "<title>20&#45;&gt;22</title>\n",
              "<path fill=\"none\" stroke=\"black\" d=\"M1416.84,-88.95C1418.69,-80.62 1420.69,-71.65 1422.57,-63.2\"/>\n",
              "<polygon fill=\"black\" stroke=\"black\" points=\"1426.03,-63.76 1424.78,-53.24 1419.19,-62.24 1426.03,-63.76\"/>\n",
              "</g>\n",
              "<!-- 24 -->\n",
              "<g id=\"node25\" class=\"node\">\n",
              "<title>24</title>\n",
              "<polygon fill=\"none\" stroke=\"black\" points=\"1605.5,-157 1503.5,-157 1503.5,-89 1605.5,-89 1605.5,-157\"/>\n",
              "<text text-anchor=\"middle\" x=\"1554.5\" y=\"-141.8\" font-family=\"Helvetica,sans-Serif\" font-size=\"14.00\">age &lt;= 68.5</text>\n",
              "<text text-anchor=\"middle\" x=\"1554.5\" y=\"-126.8\" font-family=\"Helvetica,sans-Serif\" font-size=\"14.00\">gini = 0.42</text>\n",
              "<text text-anchor=\"middle\" x=\"1554.5\" y=\"-111.8\" font-family=\"Helvetica,sans-Serif\" font-size=\"14.00\">samples = 20</text>\n",
              "<text text-anchor=\"middle\" x=\"1554.5\" y=\"-96.8\" font-family=\"Helvetica,sans-Serif\" font-size=\"14.00\">value = [6, 14]</text>\n",
              "</g>\n",
              "<!-- 23&#45;&gt;24 -->\n",
              "<g id=\"edge24\" class=\"edge\">\n",
              "<title>23&#45;&gt;24</title>\n",
              "<path fill=\"none\" stroke=\"black\" d=\"M1564.63,-192.88C1563.44,-184.78 1562.14,-175.98 1560.89,-167.47\"/>\n",
              "<polygon fill=\"black\" stroke=\"black\" points=\"1564.31,-166.68 1559.4,-157.3 1557.39,-167.7 1564.31,-166.68\"/>\n",
              "</g>\n",
              "<!-- 27 -->\n",
              "<g id=\"node28\" class=\"node\">\n",
              "<title>27</title>\n",
              "<polygon fill=\"none\" stroke=\"black\" points=\"1719,-149.5 1624,-149.5 1624,-96.5 1719,-96.5 1719,-149.5\"/>\n",
              "<text text-anchor=\"middle\" x=\"1671.5\" y=\"-134.3\" font-family=\"Helvetica,sans-Serif\" font-size=\"14.00\">gini = 0.0</text>\n",
              "<text text-anchor=\"middle\" x=\"1671.5\" y=\"-119.3\" font-family=\"Helvetica,sans-Serif\" font-size=\"14.00\">samples = 5</text>\n",
              "<text text-anchor=\"middle\" x=\"1671.5\" y=\"-104.3\" font-family=\"Helvetica,sans-Serif\" font-size=\"14.00\">value = [5, 0]</text>\n",
              "</g>\n",
              "<!-- 23&#45;&gt;27 -->\n",
              "<g id=\"edge27\" class=\"edge\">\n",
              "<title>23&#45;&gt;27</title>\n",
              "<path fill=\"none\" stroke=\"black\" d=\"M1602.62,-192.88C1614.16,-181.34 1627.11,-168.39 1638.64,-156.86\"/>\n",
              "<polygon fill=\"black\" stroke=\"black\" points=\"1641.38,-159.07 1645.98,-149.52 1636.43,-154.12 1641.38,-159.07\"/>\n",
              "</g>\n",
              "<!-- 25 -->\n",
              "<g id=\"node26\" class=\"node\">\n",
              "<title>25</title>\n",
              "<polygon fill=\"none\" stroke=\"black\" points=\"1605.5,-53 1503.5,-53 1503.5,0 1605.5,0 1605.5,-53\"/>\n",
              "<text text-anchor=\"middle\" x=\"1554.5\" y=\"-37.8\" font-family=\"Helvetica,sans-Serif\" font-size=\"14.00\">gini = 0.305</text>\n",
              "<text text-anchor=\"middle\" x=\"1554.5\" y=\"-22.8\" font-family=\"Helvetica,sans-Serif\" font-size=\"14.00\">samples = 16</text>\n",
              "<text text-anchor=\"middle\" x=\"1554.5\" y=\"-7.8\" font-family=\"Helvetica,sans-Serif\" font-size=\"14.00\">value = [3, 13]</text>\n",
              "</g>\n",
              "<!-- 24&#45;&gt;25 -->\n",
              "<g id=\"edge25\" class=\"edge\">\n",
              "<title>24&#45;&gt;25</title>\n",
              "<path fill=\"none\" stroke=\"black\" d=\"M1554.5,-88.95C1554.5,-80.72 1554.5,-71.85 1554.5,-63.48\"/>\n",
              "<polygon fill=\"black\" stroke=\"black\" points=\"1558,-63.24 1554.5,-53.24 1551,-63.24 1558,-63.24\"/>\n",
              "</g>\n",
              "<!-- 26 -->\n",
              "<g id=\"node27\" class=\"node\">\n",
              "<title>26</title>\n",
              "<polygon fill=\"none\" stroke=\"black\" points=\"1719,-53 1624,-53 1624,0 1719,0 1719,-53\"/>\n",
              "<text text-anchor=\"middle\" x=\"1671.5\" y=\"-37.8\" font-family=\"Helvetica,sans-Serif\" font-size=\"14.00\">gini = 0.375</text>\n",
              "<text text-anchor=\"middle\" x=\"1671.5\" y=\"-22.8\" font-family=\"Helvetica,sans-Serif\" font-size=\"14.00\">samples = 4</text>\n",
              "<text text-anchor=\"middle\" x=\"1671.5\" y=\"-7.8\" font-family=\"Helvetica,sans-Serif\" font-size=\"14.00\">value = [3, 1]</text>\n",
              "</g>\n",
              "<!-- 24&#45;&gt;26 -->\n",
              "<g id=\"edge26\" class=\"edge\">\n",
              "<title>24&#45;&gt;26</title>\n",
              "<path fill=\"none\" stroke=\"black\" d=\"M1595.42,-88.95C1607.2,-79.43 1620.03,-69.07 1631.74,-59.62\"/>\n",
              "<polygon fill=\"black\" stroke=\"black\" points=\"1634.06,-62.24 1639.64,-53.24 1629.66,-56.8 1634.06,-62.24\"/>\n",
              "</g>\n",
              "<!-- 29 -->\n",
              "<g id=\"node30\" class=\"node\">\n",
              "<title>29</title>\n",
              "<polygon fill=\"none\" stroke=\"black\" points=\"2289,-365 2056,-365 2056,-297 2289,-297 2289,-365\"/>\n",
              "<text text-anchor=\"middle\" x=\"2172.5\" y=\"-349.8\" font-family=\"Helvetica,sans-Serif\" font-size=\"14.00\">NumberOfTimes90DaysLate &lt;= 0.5</text>\n",
              "<text text-anchor=\"middle\" x=\"2172.5\" y=\"-334.8\" font-family=\"Helvetica,sans-Serif\" font-size=\"14.00\">gini = 0.383</text>\n",
              "<text text-anchor=\"middle\" x=\"2172.5\" y=\"-319.8\" font-family=\"Helvetica,sans-Serif\" font-size=\"14.00\">samples = 159</text>\n",
              "<text text-anchor=\"middle\" x=\"2172.5\" y=\"-304.8\" font-family=\"Helvetica,sans-Serif\" font-size=\"14.00\">value = [118, 41]</text>\n",
              "</g>\n",
              "<!-- 28&#45;&gt;29 -->\n",
              "<g id=\"edge29\" class=\"edge\">\n",
              "<title>28&#45;&gt;29</title>\n",
              "<path fill=\"none\" stroke=\"black\" d=\"M2172.5,-400.88C2172.5,-392.78 2172.5,-383.98 2172.5,-375.47\"/>\n",
              "<polygon fill=\"black\" stroke=\"black\" points=\"2176,-375.3 2172.5,-365.3 2169,-375.3 2176,-375.3\"/>\n",
              "</g>\n",
              "<!-- 42 -->\n",
              "<g id=\"node43\" class=\"node\">\n",
              "<title>42</title>\n",
              "<polygon fill=\"none\" stroke=\"black\" points=\"3010.5,-365 2814.5,-365 2814.5,-297 3010.5,-297 3010.5,-365\"/>\n",
              "<text text-anchor=\"middle\" x=\"2912.5\" y=\"-349.8\" font-family=\"Helvetica,sans-Serif\" font-size=\"14.00\">NumberOfDependents &lt;= 1.5</text>\n",
              "<text text-anchor=\"middle\" x=\"2912.5\" y=\"-334.8\" font-family=\"Helvetica,sans-Serif\" font-size=\"14.00\">gini = 0.499</text>\n",
              "<text text-anchor=\"middle\" x=\"2912.5\" y=\"-319.8\" font-family=\"Helvetica,sans-Serif\" font-size=\"14.00\">samples = 110</text>\n",
              "<text text-anchor=\"middle\" x=\"2912.5\" y=\"-304.8\" font-family=\"Helvetica,sans-Serif\" font-size=\"14.00\">value = [52, 58]</text>\n",
              "</g>\n",
              "<!-- 28&#45;&gt;42 -->\n",
              "<g id=\"edge42\" class=\"edge\">\n",
              "<title>28&#45;&gt;42</title>\n",
              "<path fill=\"none\" stroke=\"black\" d=\"M2325.38,-412.93C2468.26,-393.23 2677.99,-364.32 2804.29,-346.92\"/>\n",
              "<polygon fill=\"black\" stroke=\"black\" points=\"2804.93,-350.36 2814.36,-345.53 2803.98,-343.43 2804.93,-350.36\"/>\n",
              "</g>\n",
              "<!-- 30 -->\n",
              "<g id=\"node31\" class=\"node\">\n",
              "<title>30</title>\n",
              "<polygon fill=\"none\" stroke=\"black\" points=\"2163,-261 1832,-261 1832,-193 2163,-193 2163,-261\"/>\n",
              "<text text-anchor=\"middle\" x=\"1997.5\" y=\"-245.8\" font-family=\"Helvetica,sans-Serif\" font-size=\"14.00\">NumberOfTime60&#45;89DaysPastDueNotWorse &lt;= 2.5</text>\n",
              "<text text-anchor=\"middle\" x=\"1997.5\" y=\"-230.8\" font-family=\"Helvetica,sans-Serif\" font-size=\"14.00\">gini = 0.309</text>\n",
              "<text text-anchor=\"middle\" x=\"1997.5\" y=\"-215.8\" font-family=\"Helvetica,sans-Serif\" font-size=\"14.00\">samples = 110</text>\n",
              "<text text-anchor=\"middle\" x=\"1997.5\" y=\"-200.8\" font-family=\"Helvetica,sans-Serif\" font-size=\"14.00\">value = [89, 21]</text>\n",
              "</g>\n",
              "<!-- 29&#45;&gt;30 -->\n",
              "<g id=\"edge30\" class=\"edge\">\n",
              "<title>29&#45;&gt;30</title>\n",
              "<path fill=\"none\" stroke=\"black\" d=\"M2115.68,-296.88C2098.94,-287.12 2080.48,-276.37 2063.23,-266.31\"/>\n",
              "<polygon fill=\"black\" stroke=\"black\" points=\"2064.73,-263.14 2054.33,-261.12 2061.21,-269.18 2064.73,-263.14\"/>\n",
              "</g>\n",
              "<!-- 35 -->\n",
              "<g id=\"node36\" class=\"node\">\n",
              "<title>35</title>\n",
              "<polygon fill=\"none\" stroke=\"black\" points=\"2512,-261 2181,-261 2181,-193 2512,-193 2512,-261\"/>\n",
              "<text text-anchor=\"middle\" x=\"2346.5\" y=\"-245.8\" font-family=\"Helvetica,sans-Serif\" font-size=\"14.00\">NumberOfTime30&#45;59DaysPastDueNotWorse &lt;= 2.5</text>\n",
              "<text text-anchor=\"middle\" x=\"2346.5\" y=\"-230.8\" font-family=\"Helvetica,sans-Serif\" font-size=\"14.00\">gini = 0.483</text>\n",
              "<text text-anchor=\"middle\" x=\"2346.5\" y=\"-215.8\" font-family=\"Helvetica,sans-Serif\" font-size=\"14.00\">samples = 49</text>\n",
              "<text text-anchor=\"middle\" x=\"2346.5\" y=\"-200.8\" font-family=\"Helvetica,sans-Serif\" font-size=\"14.00\">value = [29, 20]</text>\n",
              "</g>\n",
              "<!-- 29&#45;&gt;35 -->\n",
              "<g id=\"edge35\" class=\"edge\">\n",
              "<title>29&#45;&gt;35</title>\n",
              "<path fill=\"none\" stroke=\"black\" d=\"M2228.99,-296.88C2245.64,-287.12 2263.99,-276.37 2281.15,-266.31\"/>\n",
              "<polygon fill=\"black\" stroke=\"black\" points=\"2283.14,-269.2 2289.99,-261.12 2279.6,-263.16 2283.14,-269.2\"/>\n",
              "</g>\n",
              "<!-- 31 -->\n",
              "<g id=\"node32\" class=\"node\">\n",
              "<title>31</title>\n",
              "<polygon fill=\"none\" stroke=\"black\" points=\"2030,-157 1737,-157 1737,-89 2030,-89 2030,-157\"/>\n",
              "<text text-anchor=\"middle\" x=\"1883.5\" y=\"-141.8\" font-family=\"Helvetica,sans-Serif\" font-size=\"14.00\">NumberOfOpenCreditLinesAndLoans &lt;= 21.5</text>\n",
              "<text text-anchor=\"middle\" x=\"1883.5\" y=\"-126.8\" font-family=\"Helvetica,sans-Serif\" font-size=\"14.00\">gini = 0.29</text>\n",
              "<text text-anchor=\"middle\" x=\"1883.5\" y=\"-111.8\" font-family=\"Helvetica,sans-Serif\" font-size=\"14.00\">samples = 108</text>\n",
              "<text text-anchor=\"middle\" x=\"1883.5\" y=\"-96.8\" font-family=\"Helvetica,sans-Serif\" font-size=\"14.00\">value = [89, 19]</text>\n",
              "</g>\n",
              "<!-- 30&#45;&gt;31 -->\n",
              "<g id=\"edge31\" class=\"edge\">\n",
              "<title>30&#45;&gt;31</title>\n",
              "<path fill=\"none\" stroke=\"black\" d=\"M1960.49,-192.88C1950.23,-183.71 1938.99,-173.65 1928.34,-164.12\"/>\n",
              "<polygon fill=\"black\" stroke=\"black\" points=\"1930.5,-161.36 1920.72,-157.3 1925.84,-166.58 1930.5,-161.36\"/>\n",
              "</g>\n",
              "<!-- 34 -->\n",
              "<g id=\"node35\" class=\"node\">\n",
              "<title>34</title>\n",
              "<polygon fill=\"none\" stroke=\"black\" points=\"2143,-149.5 2048,-149.5 2048,-96.5 2143,-96.5 2143,-149.5\"/>\n",
              "<text text-anchor=\"middle\" x=\"2095.5\" y=\"-134.3\" font-family=\"Helvetica,sans-Serif\" font-size=\"14.00\">gini = 0.0</text>\n",
              "<text text-anchor=\"middle\" x=\"2095.5\" y=\"-119.3\" font-family=\"Helvetica,sans-Serif\" font-size=\"14.00\">samples = 2</text>\n",
              "<text text-anchor=\"middle\" x=\"2095.5\" y=\"-104.3\" font-family=\"Helvetica,sans-Serif\" font-size=\"14.00\">value = [0, 2]</text>\n",
              "</g>\n",
              "<!-- 30&#45;&gt;34 -->\n",
              "<g id=\"edge34\" class=\"edge\">\n",
              "<title>30&#45;&gt;34</title>\n",
              "<path fill=\"none\" stroke=\"black\" d=\"M2029.32,-192.88C2040.41,-181.34 2052.85,-168.39 2063.93,-156.86\"/>\n",
              "<polygon fill=\"black\" stroke=\"black\" points=\"2066.58,-159.16 2070.98,-149.52 2061.53,-154.31 2066.58,-159.16\"/>\n",
              "</g>\n",
              "<!-- 32 -->\n",
              "<g id=\"node33\" class=\"node\">\n",
              "<title>32</title>\n",
              "<polygon fill=\"none\" stroke=\"black\" points=\"1893.5,-53 1783.5,-53 1783.5,0 1893.5,0 1893.5,-53\"/>\n",
              "<text text-anchor=\"middle\" x=\"1838.5\" y=\"-37.8\" font-family=\"Helvetica,sans-Serif\" font-size=\"14.00\">gini = 0.271</text>\n",
              "<text text-anchor=\"middle\" x=\"1838.5\" y=\"-22.8\" font-family=\"Helvetica,sans-Serif\" font-size=\"14.00\">samples = 105</text>\n",
              "<text text-anchor=\"middle\" x=\"1838.5\" y=\"-7.8\" font-family=\"Helvetica,sans-Serif\" font-size=\"14.00\">value = [88, 17]</text>\n",
              "</g>\n",
              "<!-- 31&#45;&gt;32 -->\n",
              "<g id=\"edge32\" class=\"edge\">\n",
              "<title>31&#45;&gt;32</title>\n",
              "<path fill=\"none\" stroke=\"black\" d=\"M1867.76,-88.95C1863.67,-80.35 1859.24,-71.06 1855.1,-62.37\"/>\n",
              "<polygon fill=\"black\" stroke=\"black\" points=\"1858.21,-60.76 1850.76,-53.24 1851.89,-63.77 1858.21,-60.76\"/>\n",
              "</g>\n",
              "<!-- 33 -->\n",
              "<g id=\"node34\" class=\"node\">\n",
              "<title>33</title>\n",
              "<polygon fill=\"none\" stroke=\"black\" points=\"2007,-53 1912,-53 1912,0 2007,0 2007,-53\"/>\n",
              "<text text-anchor=\"middle\" x=\"1959.5\" y=\"-37.8\" font-family=\"Helvetica,sans-Serif\" font-size=\"14.00\">gini = 0.444</text>\n",
              "<text text-anchor=\"middle\" x=\"1959.5\" y=\"-22.8\" font-family=\"Helvetica,sans-Serif\" font-size=\"14.00\">samples = 3</text>\n",
              "<text text-anchor=\"middle\" x=\"1959.5\" y=\"-7.8\" font-family=\"Helvetica,sans-Serif\" font-size=\"14.00\">value = [1, 2]</text>\n",
              "</g>\n",
              "<!-- 31&#45;&gt;33 -->\n",
              "<g id=\"edge33\" class=\"edge\">\n",
              "<title>31&#45;&gt;33</title>\n",
              "<path fill=\"none\" stroke=\"black\" d=\"M1910.08,-88.95C1917.29,-79.98 1925.11,-70.27 1932.35,-61.26\"/>\n",
              "<polygon fill=\"black\" stroke=\"black\" points=\"1935.26,-63.22 1938.8,-53.24 1929.81,-58.84 1935.26,-63.22\"/>\n",
              "</g>\n",
              "<!-- 36 -->\n",
              "<g id=\"node37\" class=\"node\">\n",
              "<title>36</title>\n",
              "<polygon fill=\"none\" stroke=\"black\" points=\"2336,-157 2161,-157 2161,-89 2336,-89 2336,-157\"/>\n",
              "<text text-anchor=\"middle\" x=\"2248.5\" y=\"-141.8\" font-family=\"Helvetica,sans-Serif\" font-size=\"14.00\">MonthlyIncome &lt;= 7750.0</text>\n",
              "<text text-anchor=\"middle\" x=\"2248.5\" y=\"-126.8\" font-family=\"Helvetica,sans-Serif\" font-size=\"14.00\">gini = 0.411</text>\n",
              "<text text-anchor=\"middle\" x=\"2248.5\" y=\"-111.8\" font-family=\"Helvetica,sans-Serif\" font-size=\"14.00\">samples = 38</text>\n",
              "<text text-anchor=\"middle\" x=\"2248.5\" y=\"-96.8\" font-family=\"Helvetica,sans-Serif\" font-size=\"14.00\">value = [27, 11]</text>\n",
              "</g>\n",
              "<!-- 35&#45;&gt;36 -->\n",
              "<g id=\"edge36\" class=\"edge\">\n",
              "<title>35&#45;&gt;36</title>\n",
              "<path fill=\"none\" stroke=\"black\" d=\"M2314.68,-192.88C2306.04,-183.89 2296.58,-174.04 2287.58,-164.68\"/>\n",
              "<polygon fill=\"black\" stroke=\"black\" points=\"2289.95,-162.09 2280.49,-157.3 2284.9,-166.94 2289.95,-162.09\"/>\n",
              "</g>\n",
              "<!-- 39 -->\n",
              "<g id=\"node40\" class=\"node\">\n",
              "<title>39</title>\n",
              "<polygon fill=\"none\" stroke=\"black\" points=\"2587,-157 2354,-157 2354,-89 2587,-89 2587,-157\"/>\n",
              "<text text-anchor=\"middle\" x=\"2470.5\" y=\"-141.8\" font-family=\"Helvetica,sans-Serif\" font-size=\"14.00\">NumberOfTimes90DaysLate &lt;= 2.5</text>\n",
              "<text text-anchor=\"middle\" x=\"2470.5\" y=\"-126.8\" font-family=\"Helvetica,sans-Serif\" font-size=\"14.00\">gini = 0.298</text>\n",
              "<text text-anchor=\"middle\" x=\"2470.5\" y=\"-111.8\" font-family=\"Helvetica,sans-Serif\" font-size=\"14.00\">samples = 11</text>\n",
              "<text text-anchor=\"middle\" x=\"2470.5\" y=\"-96.8\" font-family=\"Helvetica,sans-Serif\" font-size=\"14.00\">value = [2, 9]</text>\n",
              "</g>\n",
              "<!-- 35&#45;&gt;39 -->\n",
              "<g id=\"edge39\" class=\"edge\">\n",
              "<title>35&#45;&gt;39</title>\n",
              "<path fill=\"none\" stroke=\"black\" d=\"M2386.76,-192.88C2398.02,-183.62 2410.38,-173.45 2422.06,-163.85\"/>\n",
              "<polygon fill=\"black\" stroke=\"black\" points=\"2424.52,-166.36 2430.02,-157.3 2420.07,-160.95 2424.52,-166.36\"/>\n",
              "</g>\n",
              "<!-- 37 -->\n",
              "<g id=\"node38\" class=\"node\">\n",
              "<title>37</title>\n",
              "<polygon fill=\"none\" stroke=\"black\" points=\"2232.5,-53 2130.5,-53 2130.5,0 2232.5,0 2232.5,-53\"/>\n",
              "<text text-anchor=\"middle\" x=\"2181.5\" y=\"-37.8\" font-family=\"Helvetica,sans-Serif\" font-size=\"14.00\">gini = 0.375</text>\n",
              "<text text-anchor=\"middle\" x=\"2181.5\" y=\"-22.8\" font-family=\"Helvetica,sans-Serif\" font-size=\"14.00\">samples = 36</text>\n",
              "<text text-anchor=\"middle\" x=\"2181.5\" y=\"-7.8\" font-family=\"Helvetica,sans-Serif\" font-size=\"14.00\">value = [27, 9]</text>\n",
              "</g>\n",
              "<!-- 36&#45;&gt;37 -->\n",
              "<g id=\"edge37\" class=\"edge\">\n",
              "<title>36&#45;&gt;37</title>\n",
              "<path fill=\"none\" stroke=\"black\" d=\"M2225.07,-88.95C2218.78,-80.07 2211.96,-70.46 2205.63,-61.54\"/>\n",
              "<polygon fill=\"black\" stroke=\"black\" points=\"2208.39,-59.37 2199.75,-53.24 2202.68,-63.42 2208.39,-59.37\"/>\n",
              "</g>\n",
              "<!-- 38 -->\n",
              "<g id=\"node39\" class=\"node\">\n",
              "<title>38</title>\n",
              "<polygon fill=\"none\" stroke=\"black\" points=\"2346,-53 2251,-53 2251,0 2346,0 2346,-53\"/>\n",
              "<text text-anchor=\"middle\" x=\"2298.5\" y=\"-37.8\" font-family=\"Helvetica,sans-Serif\" font-size=\"14.00\">gini = 0.0</text>\n",
              "<text text-anchor=\"middle\" x=\"2298.5\" y=\"-22.8\" font-family=\"Helvetica,sans-Serif\" font-size=\"14.00\">samples = 2</text>\n",
              "<text text-anchor=\"middle\" x=\"2298.5\" y=\"-7.8\" font-family=\"Helvetica,sans-Serif\" font-size=\"14.00\">value = [0, 2]</text>\n",
              "</g>\n",
              "<!-- 36&#45;&gt;38 -->\n",
              "<g id=\"edge38\" class=\"edge\">\n",
              "<title>36&#45;&gt;38</title>\n",
              "<path fill=\"none\" stroke=\"black\" d=\"M2265.99,-88.95C2270.59,-80.26 2275.56,-70.86 2280.2,-62.09\"/>\n",
              "<polygon fill=\"black\" stroke=\"black\" points=\"2283.3,-63.71 2284.88,-53.24 2277.11,-60.44 2283.3,-63.71\"/>\n",
              "</g>\n",
              "<!-- 40 -->\n",
              "<g id=\"node41\" class=\"node\">\n",
              "<title>40</title>\n",
              "<polygon fill=\"none\" stroke=\"black\" points=\"2475,-53 2380,-53 2380,0 2475,0 2475,-53\"/>\n",
              "<text text-anchor=\"middle\" x=\"2427.5\" y=\"-37.8\" font-family=\"Helvetica,sans-Serif\" font-size=\"14.00\">gini = 0.0</text>\n",
              "<text text-anchor=\"middle\" x=\"2427.5\" y=\"-22.8\" font-family=\"Helvetica,sans-Serif\" font-size=\"14.00\">samples = 8</text>\n",
              "<text text-anchor=\"middle\" x=\"2427.5\" y=\"-7.8\" font-family=\"Helvetica,sans-Serif\" font-size=\"14.00\">value = [0, 8]</text>\n",
              "</g>\n",
              "<!-- 39&#45;&gt;40 -->\n",
              "<g id=\"edge40\" class=\"edge\">\n",
              "<title>39&#45;&gt;40</title>\n",
              "<path fill=\"none\" stroke=\"black\" d=\"M2455.46,-88.95C2451.55,-80.35 2447.32,-71.06 2443.37,-62.37\"/>\n",
              "<polygon fill=\"black\" stroke=\"black\" points=\"2446.54,-60.89 2439.21,-53.24 2440.17,-63.79 2446.54,-60.89\"/>\n",
              "</g>\n",
              "<!-- 41 -->\n",
              "<g id=\"node42\" class=\"node\">\n",
              "<title>41</title>\n",
              "<polygon fill=\"none\" stroke=\"black\" points=\"2588,-53 2493,-53 2493,0 2588,0 2588,-53\"/>\n",
              "<text text-anchor=\"middle\" x=\"2540.5\" y=\"-37.8\" font-family=\"Helvetica,sans-Serif\" font-size=\"14.00\">gini = 0.444</text>\n",
              "<text text-anchor=\"middle\" x=\"2540.5\" y=\"-22.8\" font-family=\"Helvetica,sans-Serif\" font-size=\"14.00\">samples = 3</text>\n",
              "<text text-anchor=\"middle\" x=\"2540.5\" y=\"-7.8\" font-family=\"Helvetica,sans-Serif\" font-size=\"14.00\">value = [2, 1]</text>\n",
              "</g>\n",
              "<!-- 39&#45;&gt;41 -->\n",
              "<g id=\"edge41\" class=\"edge\">\n",
              "<title>39&#45;&gt;41</title>\n",
              "<path fill=\"none\" stroke=\"black\" d=\"M2494.98,-88.95C2501.56,-80.07 2508.67,-70.46 2515.29,-61.54\"/>\n",
              "<polygon fill=\"black\" stroke=\"black\" points=\"2518.3,-63.36 2521.44,-53.24 2512.67,-59.19 2518.3,-63.36\"/>\n",
              "</g>\n",
              "<!-- 43 -->\n",
              "<g id=\"node44\" class=\"node\">\n",
              "<title>43</title>\n",
              "<polygon fill=\"none\" stroke=\"black\" points=\"2967.5,-261 2857.5,-261 2857.5,-193 2967.5,-193 2967.5,-261\"/>\n",
              "<text text-anchor=\"middle\" x=\"2912.5\" y=\"-245.8\" font-family=\"Helvetica,sans-Serif\" font-size=\"14.00\">age &lt;= 43.5</text>\n",
              "<text text-anchor=\"middle\" x=\"2912.5\" y=\"-230.8\" font-family=\"Helvetica,sans-Serif\" font-size=\"14.00\">gini = 0.472</text>\n",
              "<text text-anchor=\"middle\" x=\"2912.5\" y=\"-215.8\" font-family=\"Helvetica,sans-Serif\" font-size=\"14.00\">samples = 81</text>\n",
              "<text text-anchor=\"middle\" x=\"2912.5\" y=\"-200.8\" font-family=\"Helvetica,sans-Serif\" font-size=\"14.00\">value = [31, 50]</text>\n",
              "</g>\n",
              "<!-- 42&#45;&gt;43 -->\n",
              "<g id=\"edge43\" class=\"edge\">\n",
              "<title>42&#45;&gt;43</title>\n",
              "<path fill=\"none\" stroke=\"black\" d=\"M2912.5,-296.88C2912.5,-288.78 2912.5,-279.98 2912.5,-271.47\"/>\n",
              "<polygon fill=\"black\" stroke=\"black\" points=\"2916,-271.3 2912.5,-261.3 2909,-271.3 2916,-271.3\"/>\n",
              "</g>\n",
              "<!-- 50 -->\n",
              "<g id=\"node51\" class=\"node\">\n",
              "<title>50</title>\n",
              "<polygon fill=\"none\" stroke=\"black\" points=\"3573,-261 3276,-261 3276,-193 3573,-193 3573,-261\"/>\n",
              "<text text-anchor=\"middle\" x=\"3424.5\" y=\"-245.8\" font-family=\"Helvetica,sans-Serif\" font-size=\"14.00\">RevolvingUtilizationOfUnsecuredLines &lt;= 0.97</text>\n",
              "<text text-anchor=\"middle\" x=\"3424.5\" y=\"-230.8\" font-family=\"Helvetica,sans-Serif\" font-size=\"14.00\">gini = 0.4</text>\n",
              "<text text-anchor=\"middle\" x=\"3424.5\" y=\"-215.8\" font-family=\"Helvetica,sans-Serif\" font-size=\"14.00\">samples = 29</text>\n",
              "<text text-anchor=\"middle\" x=\"3424.5\" y=\"-200.8\" font-family=\"Helvetica,sans-Serif\" font-size=\"14.00\">value = [21, 8]</text>\n",
              "</g>\n",
              "<!-- 42&#45;&gt;50 -->\n",
              "<g id=\"edge50\" class=\"edge\">\n",
              "<title>42&#45;&gt;50</title>\n",
              "<path fill=\"none\" stroke=\"black\" d=\"M3010.61,-310.45C3082.81,-296.07 3182.5,-276.21 3265.96,-259.59\"/>\n",
              "<polygon fill=\"black\" stroke=\"black\" points=\"3266.67,-263.01 3275.79,-257.63 3265.3,-256.15 3266.67,-263.01\"/>\n",
              "</g>\n",
              "<!-- 44 -->\n",
              "<g id=\"node45\" class=\"node\">\n",
              "<title>44</title>\n",
              "<polygon fill=\"none\" stroke=\"black\" points=\"2891.5,-157 2605.5,-157 2605.5,-89 2891.5,-89 2891.5,-157\"/>\n",
              "<text text-anchor=\"middle\" x=\"2748.5\" y=\"-141.8\" font-family=\"Helvetica,sans-Serif\" font-size=\"14.00\">NumberOfOpenCreditLinesAndLoans &lt;= 6.5</text>\n",
              "<text text-anchor=\"middle\" x=\"2748.5\" y=\"-126.8\" font-family=\"Helvetica,sans-Serif\" font-size=\"14.00\">gini = 0.49</text>\n",
              "<text text-anchor=\"middle\" x=\"2748.5\" y=\"-111.8\" font-family=\"Helvetica,sans-Serif\" font-size=\"14.00\">samples = 35</text>\n",
              "<text text-anchor=\"middle\" x=\"2748.5\" y=\"-96.8\" font-family=\"Helvetica,sans-Serif\" font-size=\"14.00\">value = [20, 15]</text>\n",
              "</g>\n",
              "<!-- 43&#45;&gt;44 -->\n",
              "<g id=\"edge44\" class=\"edge\">\n",
              "<title>43&#45;&gt;44</title>\n",
              "<path fill=\"none\" stroke=\"black\" d=\"M2859.25,-192.88C2843.71,-183.21 2826.58,-172.56 2810.54,-162.59\"/>\n",
              "<polygon fill=\"black\" stroke=\"black\" points=\"2812.1,-159.43 2801.76,-157.12 2808.4,-165.38 2812.1,-159.43\"/>\n",
              "</g>\n",
              "<!-- 47 -->\n",
              "<g id=\"node48\" class=\"node\">\n",
              "<title>47</title>\n",
              "<polygon fill=\"none\" stroke=\"black\" points=\"3241,-157 2910,-157 2910,-89 3241,-89 3241,-157\"/>\n",
              "<text text-anchor=\"middle\" x=\"3075.5\" y=\"-141.8\" font-family=\"Helvetica,sans-Serif\" font-size=\"14.00\">NumberOfTime30&#45;59DaysPastDueNotWorse &lt;= 0.5</text>\n",
              "<text text-anchor=\"middle\" x=\"3075.5\" y=\"-126.8\" font-family=\"Helvetica,sans-Serif\" font-size=\"14.00\">gini = 0.364</text>\n",
              "<text text-anchor=\"middle\" x=\"3075.5\" y=\"-111.8\" font-family=\"Helvetica,sans-Serif\" font-size=\"14.00\">samples = 46</text>\n",
              "<text text-anchor=\"middle\" x=\"3075.5\" y=\"-96.8\" font-family=\"Helvetica,sans-Serif\" font-size=\"14.00\">value = [11, 35]</text>\n",
              "</g>\n",
              "<!-- 43&#45;&gt;47 -->\n",
              "<g id=\"edge47\" class=\"edge\">\n",
              "<title>43&#45;&gt;47</title>\n",
              "<path fill=\"none\" stroke=\"black\" d=\"M2965.42,-192.88C2980.87,-183.21 2997.89,-172.56 3013.84,-162.59\"/>\n",
              "<polygon fill=\"black\" stroke=\"black\" points=\"3015.94,-165.4 3022.57,-157.12 3012.23,-159.46 3015.94,-165.4\"/>\n",
              "</g>\n",
              "<!-- 45 -->\n",
              "<g id=\"node46\" class=\"node\">\n",
              "<title>45</title>\n",
              "<polygon fill=\"none\" stroke=\"black\" points=\"2724.5,-53 2614.5,-53 2614.5,0 2724.5,0 2724.5,-53\"/>\n",
              "<text text-anchor=\"middle\" x=\"2669.5\" y=\"-37.8\" font-family=\"Helvetica,sans-Serif\" font-size=\"14.00\">gini = 0.458</text>\n",
              "<text text-anchor=\"middle\" x=\"2669.5\" y=\"-22.8\" font-family=\"Helvetica,sans-Serif\" font-size=\"14.00\">samples = 31</text>\n",
              "<text text-anchor=\"middle\" x=\"2669.5\" y=\"-7.8\" font-family=\"Helvetica,sans-Serif\" font-size=\"14.00\">value = [20, 11]</text>\n",
              "</g>\n",
              "<!-- 44&#45;&gt;45 -->\n",
              "<g id=\"edge45\" class=\"edge\">\n",
              "<title>44&#45;&gt;45</title>\n",
              "<path fill=\"none\" stroke=\"black\" d=\"M2720.87,-88.95C2713.3,-79.89 2705.09,-70.07 2697.49,-60.99\"/>\n",
              "<polygon fill=\"black\" stroke=\"black\" points=\"2700.11,-58.66 2691.02,-53.24 2694.74,-63.15 2700.11,-58.66\"/>\n",
              "</g>\n",
              "<!-- 46 -->\n",
              "<g id=\"node47\" class=\"node\">\n",
              "<title>46</title>\n",
              "<polygon fill=\"none\" stroke=\"black\" points=\"2838,-53 2743,-53 2743,0 2838,0 2838,-53\"/>\n",
              "<text text-anchor=\"middle\" x=\"2790.5\" y=\"-37.8\" font-family=\"Helvetica,sans-Serif\" font-size=\"14.00\">gini = 0.0</text>\n",
              "<text text-anchor=\"middle\" x=\"2790.5\" y=\"-22.8\" font-family=\"Helvetica,sans-Serif\" font-size=\"14.00\">samples = 4</text>\n",
              "<text text-anchor=\"middle\" x=\"2790.5\" y=\"-7.8\" font-family=\"Helvetica,sans-Serif\" font-size=\"14.00\">value = [0, 4]</text>\n",
              "</g>\n",
              "<!-- 44&#45;&gt;46 -->\n",
              "<g id=\"edge46\" class=\"edge\">\n",
              "<title>44&#45;&gt;46</title>\n",
              "<path fill=\"none\" stroke=\"black\" d=\"M2763.19,-88.95C2766.97,-80.44 2771.05,-71.26 2774.88,-62.65\"/>\n",
              "<polygon fill=\"black\" stroke=\"black\" points=\"2778.2,-63.8 2779.06,-53.24 2771.8,-60.95 2778.2,-63.8\"/>\n",
              "</g>\n",
              "<!-- 48 -->\n",
              "<g id=\"node49\" class=\"node\">\n",
              "<title>48</title>\n",
              "<polygon fill=\"none\" stroke=\"black\" points=\"3065.5,-53 2967.5,-53 2967.5,0 3065.5,0 3065.5,-53\"/>\n",
              "<text text-anchor=\"middle\" x=\"3016.5\" y=\"-37.8\" font-family=\"Helvetica,sans-Serif\" font-size=\"14.00\">gini = 0.49</text>\n",
              "<text text-anchor=\"middle\" x=\"3016.5\" y=\"-22.8\" font-family=\"Helvetica,sans-Serif\" font-size=\"14.00\">samples = 14</text>\n",
              "<text text-anchor=\"middle\" x=\"3016.5\" y=\"-7.8\" font-family=\"Helvetica,sans-Serif\" font-size=\"14.00\">value = [6, 8]</text>\n",
              "</g>\n",
              "<!-- 47&#45;&gt;48 -->\n",
              "<g id=\"edge48\" class=\"edge\">\n",
              "<title>47&#45;&gt;48</title>\n",
              "<path fill=\"none\" stroke=\"black\" d=\"M3054.86,-88.95C3049.38,-80.17 3043.45,-70.66 3037.92,-61.82\"/>\n",
              "<polygon fill=\"black\" stroke=\"black\" points=\"3040.83,-59.87 3032.57,-53.24 3034.9,-63.57 3040.83,-59.87\"/>\n",
              "</g>\n",
              "<!-- 49 -->\n",
              "<g id=\"node50\" class=\"node\">\n",
              "<title>49</title>\n",
              "<polygon fill=\"none\" stroke=\"black\" points=\"3185.5,-53 3083.5,-53 3083.5,0 3185.5,0 3185.5,-53\"/>\n",
              "<text text-anchor=\"middle\" x=\"3134.5\" y=\"-37.8\" font-family=\"Helvetica,sans-Serif\" font-size=\"14.00\">gini = 0.264</text>\n",
              "<text text-anchor=\"middle\" x=\"3134.5\" y=\"-22.8\" font-family=\"Helvetica,sans-Serif\" font-size=\"14.00\">samples = 32</text>\n",
              "<text text-anchor=\"middle\" x=\"3134.5\" y=\"-7.8\" font-family=\"Helvetica,sans-Serif\" font-size=\"14.00\">value = [5, 27]</text>\n",
              "</g>\n",
              "<!-- 47&#45;&gt;49 -->\n",
              "<g id=\"edge49\" class=\"edge\">\n",
              "<title>47&#45;&gt;49</title>\n",
              "<path fill=\"none\" stroke=\"black\" d=\"M3096.14,-88.95C3101.62,-80.17 3107.55,-70.66 3113.08,-61.82\"/>\n",
              "<polygon fill=\"black\" stroke=\"black\" points=\"3116.1,-63.57 3118.43,-53.24 3110.17,-59.87 3116.1,-63.57\"/>\n",
              "</g>\n",
              "<!-- 51 -->\n",
              "<g id=\"node52\" class=\"node\">\n",
              "<title>51</title>\n",
              "<polygon fill=\"none\" stroke=\"black\" points=\"3590,-157 3259,-157 3259,-89 3590,-89 3590,-157\"/>\n",
              "<text text-anchor=\"middle\" x=\"3424.5\" y=\"-141.8\" font-family=\"Helvetica,sans-Serif\" font-size=\"14.00\">NumberOfTime30&#45;59DaysPastDueNotWorse &lt;= 3.5</text>\n",
              "<text text-anchor=\"middle\" x=\"3424.5\" y=\"-126.8\" font-family=\"Helvetica,sans-Serif\" font-size=\"14.00\">gini = 0.375</text>\n",
              "<text text-anchor=\"middle\" x=\"3424.5\" y=\"-111.8\" font-family=\"Helvetica,sans-Serif\" font-size=\"14.00\">samples = 4</text>\n",
              "<text text-anchor=\"middle\" x=\"3424.5\" y=\"-96.8\" font-family=\"Helvetica,sans-Serif\" font-size=\"14.00\">value = [1, 3]</text>\n",
              "</g>\n",
              "<!-- 50&#45;&gt;51 -->\n",
              "<g id=\"edge51\" class=\"edge\">\n",
              "<title>50&#45;&gt;51</title>\n",
              "<path fill=\"none\" stroke=\"black\" d=\"M3424.5,-192.88C3424.5,-184.78 3424.5,-175.98 3424.5,-167.47\"/>\n",
              "<polygon fill=\"black\" stroke=\"black\" points=\"3428,-167.3 3424.5,-157.3 3421,-167.3 3428,-167.3\"/>\n",
              "</g>\n",
              "<!-- 54 -->\n",
              "<g id=\"node55\" class=\"node\">\n",
              "<title>54</title>\n",
              "<polygon fill=\"none\" stroke=\"black\" points=\"3841,-157 3608,-157 3608,-89 3841,-89 3841,-157\"/>\n",
              "<text text-anchor=\"middle\" x=\"3724.5\" y=\"-141.8\" font-family=\"Helvetica,sans-Serif\" font-size=\"14.00\">NumberOfTimes90DaysLate &lt;= 4.5</text>\n",
              "<text text-anchor=\"middle\" x=\"3724.5\" y=\"-126.8\" font-family=\"Helvetica,sans-Serif\" font-size=\"14.00\">gini = 0.32</text>\n",
              "<text text-anchor=\"middle\" x=\"3724.5\" y=\"-111.8\" font-family=\"Helvetica,sans-Serif\" font-size=\"14.00\">samples = 25</text>\n",
              "<text text-anchor=\"middle\" x=\"3724.5\" y=\"-96.8\" font-family=\"Helvetica,sans-Serif\" font-size=\"14.00\">value = [20, 5]</text>\n",
              "</g>\n",
              "<!-- 50&#45;&gt;54 -->\n",
              "<g id=\"edge54\" class=\"edge\">\n",
              "<title>50&#45;&gt;54</title>\n",
              "<path fill=\"none\" stroke=\"black\" d=\"M3521.9,-192.88C3552.52,-182.47 3586.49,-170.92 3617.73,-160.3\"/>\n",
              "<polygon fill=\"black\" stroke=\"black\" points=\"3618.99,-163.57 3627.33,-157.04 3616.74,-156.94 3618.99,-163.57\"/>\n",
              "</g>\n",
              "<!-- 52 -->\n",
              "<g id=\"node53\" class=\"node\">\n",
              "<title>52</title>\n",
              "<polygon fill=\"none\" stroke=\"black\" points=\"3415,-53 3320,-53 3320,0 3415,0 3415,-53\"/>\n",
              "<text text-anchor=\"middle\" x=\"3367.5\" y=\"-37.8\" font-family=\"Helvetica,sans-Serif\" font-size=\"14.00\">gini = 0.0</text>\n",
              "<text text-anchor=\"middle\" x=\"3367.5\" y=\"-22.8\" font-family=\"Helvetica,sans-Serif\" font-size=\"14.00\">samples = 3</text>\n",
              "<text text-anchor=\"middle\" x=\"3367.5\" y=\"-7.8\" font-family=\"Helvetica,sans-Serif\" font-size=\"14.00\">value = [0, 3]</text>\n",
              "</g>\n",
              "<!-- 51&#45;&gt;52 -->\n",
              "<g id=\"edge52\" class=\"edge\">\n",
              "<title>51&#45;&gt;52</title>\n",
              "<path fill=\"none\" stroke=\"black\" d=\"M3404.56,-88.95C3399.27,-80.17 3393.53,-70.66 3388.2,-61.82\"/>\n",
              "<polygon fill=\"black\" stroke=\"black\" points=\"3391.19,-59.99 3383.02,-53.24 3385.19,-63.61 3391.19,-59.99\"/>\n",
              "</g>\n",
              "<!-- 53 -->\n",
              "<g id=\"node54\" class=\"node\">\n",
              "<title>53</title>\n",
              "<polygon fill=\"none\" stroke=\"black\" points=\"3528,-53 3433,-53 3433,0 3528,0 3528,-53\"/>\n",
              "<text text-anchor=\"middle\" x=\"3480.5\" y=\"-37.8\" font-family=\"Helvetica,sans-Serif\" font-size=\"14.00\">gini = 0.0</text>\n",
              "<text text-anchor=\"middle\" x=\"3480.5\" y=\"-22.8\" font-family=\"Helvetica,sans-Serif\" font-size=\"14.00\">samples = 1</text>\n",
              "<text text-anchor=\"middle\" x=\"3480.5\" y=\"-7.8\" font-family=\"Helvetica,sans-Serif\" font-size=\"14.00\">value = [1, 0]</text>\n",
              "</g>\n",
              "<!-- 51&#45;&gt;53 -->\n",
              "<g id=\"edge53\" class=\"edge\">\n",
              "<title>51&#45;&gt;53</title>\n",
              "<path fill=\"none\" stroke=\"black\" d=\"M3444.09,-88.95C3449.24,-80.26 3454.8,-70.86 3460,-62.09\"/>\n",
              "<polygon fill=\"black\" stroke=\"black\" points=\"3463.16,-63.62 3465.25,-53.24 3457.14,-60.06 3463.16,-63.62\"/>\n",
              "</g>\n",
              "<!-- 55 -->\n",
              "<g id=\"node56\" class=\"node\">\n",
              "<title>55</title>\n",
              "<polygon fill=\"none\" stroke=\"black\" points=\"3716.5,-53 3614.5,-53 3614.5,0 3716.5,0 3716.5,-53\"/>\n",
              "<text text-anchor=\"middle\" x=\"3665.5\" y=\"-37.8\" font-family=\"Helvetica,sans-Serif\" font-size=\"14.00\">gini = 0.278</text>\n",
              "<text text-anchor=\"middle\" x=\"3665.5\" y=\"-22.8\" font-family=\"Helvetica,sans-Serif\" font-size=\"14.00\">samples = 24</text>\n",
              "<text text-anchor=\"middle\" x=\"3665.5\" y=\"-7.8\" font-family=\"Helvetica,sans-Serif\" font-size=\"14.00\">value = [20, 4]</text>\n",
              "</g>\n",
              "<!-- 54&#45;&gt;55 -->\n",
              "<g id=\"edge55\" class=\"edge\">\n",
              "<title>54&#45;&gt;55</title>\n",
              "<path fill=\"none\" stroke=\"black\" d=\"M3703.86,-88.95C3698.38,-80.17 3692.45,-70.66 3686.92,-61.82\"/>\n",
              "<polygon fill=\"black\" stroke=\"black\" points=\"3689.83,-59.87 3681.57,-53.24 3683.9,-63.57 3689.83,-59.87\"/>\n",
              "</g>\n",
              "<!-- 56 -->\n",
              "<g id=\"node57\" class=\"node\">\n",
              "<title>56</title>\n",
              "<polygon fill=\"none\" stroke=\"black\" points=\"3830,-53 3735,-53 3735,0 3830,0 3830,-53\"/>\n",
              "<text text-anchor=\"middle\" x=\"3782.5\" y=\"-37.8\" font-family=\"Helvetica,sans-Serif\" font-size=\"14.00\">gini = 0.0</text>\n",
              "<text text-anchor=\"middle\" x=\"3782.5\" y=\"-22.8\" font-family=\"Helvetica,sans-Serif\" font-size=\"14.00\">samples = 1</text>\n",
              "<text text-anchor=\"middle\" x=\"3782.5\" y=\"-7.8\" font-family=\"Helvetica,sans-Serif\" font-size=\"14.00\">value = [0, 1]</text>\n",
              "</g>\n",
              "<!-- 54&#45;&gt;56 -->\n",
              "<g id=\"edge56\" class=\"edge\">\n",
              "<title>54&#45;&gt;56</title>\n",
              "<path fill=\"none\" stroke=\"black\" d=\"M3744.79,-88.95C3750.18,-80.17 3756.01,-70.66 3761.44,-61.82\"/>\n",
              "<polygon fill=\"black\" stroke=\"black\" points=\"3764.46,-63.59 3766.7,-53.24 3758.49,-59.93 3764.46,-63.59\"/>\n",
              "</g>\n",
              "</g>\n",
              "</svg>\n"
            ],
            "text/plain": [
              "<graphviz.sources.Source at 0x7bc6e9b11590>"
            ]
          },
          "execution_count": 39,
          "metadata": {},
          "output_type": "execute_result"
        }
      ],
      "source": [
        "# https://alexanderdyakonov.wordpress.com/2015/12/15/%D0%B7%D0%BD%D0%B0%D0%BA%D0%BE%D0%BC%D1%8C%D1%82%D0%B5%D1%81%D1%8C-%D0%B4%D0%B6%D0%B8%D0%BD%D0%B8/\n",
        "!pip install graphviz\n",
        "from graphviz import Source\n",
        "from sklearn import tree\n",
        "Source(tree.export_graphviz(decision_tree, out_file=None, feature_names=training_X.columns))"
      ]
    },
    {
      "cell_type": "markdown",
      "metadata": {
        "id": "Eq03Na-sw6ht"
      },
      "source": [
        "P.S. Gini impurity: https://alexanderdyakonov.wordpress.com/2015/12/15/знакомьтесь-джини/"
      ]
    },
    {
      "cell_type": "code",
      "execution_count": 40,
      "metadata": {
        "colab": {
          "base_uri": "https://localhost:8080/",
          "height": 74
        },
        "id": "q5XuE8LCRguD",
        "outputId": "c980f2fb-5e70-45e3-e0a2-8c230f3b5833"
      },
      "outputs": [
        {
          "data": {
            "text/html": [
              "<style>#sk-container-id-3 {color: black;}#sk-container-id-3 pre{padding: 0;}#sk-container-id-3 div.sk-toggleable {background-color: white;}#sk-container-id-3 label.sk-toggleable__label {cursor: pointer;display: block;width: 100%;margin-bottom: 0;padding: 0.3em;box-sizing: border-box;text-align: center;}#sk-container-id-3 label.sk-toggleable__label-arrow:before {content: \"▸\";float: left;margin-right: 0.25em;color: #696969;}#sk-container-id-3 label.sk-toggleable__label-arrow:hover:before {color: black;}#sk-container-id-3 div.sk-estimator:hover label.sk-toggleable__label-arrow:before {color: black;}#sk-container-id-3 div.sk-toggleable__content {max-height: 0;max-width: 0;overflow: hidden;text-align: left;background-color: #f0f8ff;}#sk-container-id-3 div.sk-toggleable__content pre {margin: 0.2em;color: black;border-radius: 0.25em;background-color: #f0f8ff;}#sk-container-id-3 input.sk-toggleable__control:checked~div.sk-toggleable__content {max-height: 200px;max-width: 100%;overflow: auto;}#sk-container-id-3 input.sk-toggleable__control:checked~label.sk-toggleable__label-arrow:before {content: \"▾\";}#sk-container-id-3 div.sk-estimator input.sk-toggleable__control:checked~label.sk-toggleable__label {background-color: #d4ebff;}#sk-container-id-3 div.sk-label input.sk-toggleable__control:checked~label.sk-toggleable__label {background-color: #d4ebff;}#sk-container-id-3 input.sk-hidden--visually {border: 0;clip: rect(1px 1px 1px 1px);clip: rect(1px, 1px, 1px, 1px);height: 1px;margin: -1px;overflow: hidden;padding: 0;position: absolute;width: 1px;}#sk-container-id-3 div.sk-estimator {font-family: monospace;background-color: #f0f8ff;border: 1px dotted black;border-radius: 0.25em;box-sizing: border-box;margin-bottom: 0.5em;}#sk-container-id-3 div.sk-estimator:hover {background-color: #d4ebff;}#sk-container-id-3 div.sk-parallel-item::after {content: \"\";width: 100%;border-bottom: 1px solid gray;flex-grow: 1;}#sk-container-id-3 div.sk-label:hover label.sk-toggleable__label {background-color: #d4ebff;}#sk-container-id-3 div.sk-serial::before {content: \"\";position: absolute;border-left: 1px solid gray;box-sizing: border-box;top: 0;bottom: 0;left: 50%;z-index: 0;}#sk-container-id-3 div.sk-serial {display: flex;flex-direction: column;align-items: center;background-color: white;padding-right: 0.2em;padding-left: 0.2em;position: relative;}#sk-container-id-3 div.sk-item {position: relative;z-index: 1;}#sk-container-id-3 div.sk-parallel {display: flex;align-items: stretch;justify-content: center;background-color: white;position: relative;}#sk-container-id-3 div.sk-item::before, #sk-container-id-3 div.sk-parallel-item::before {content: \"\";position: absolute;border-left: 1px solid gray;box-sizing: border-box;top: 0;bottom: 0;left: 50%;z-index: -1;}#sk-container-id-3 div.sk-parallel-item {display: flex;flex-direction: column;z-index: 1;position: relative;background-color: white;}#sk-container-id-3 div.sk-parallel-item:first-child::after {align-self: flex-end;width: 50%;}#sk-container-id-3 div.sk-parallel-item:last-child::after {align-self: flex-start;width: 50%;}#sk-container-id-3 div.sk-parallel-item:only-child::after {width: 0;}#sk-container-id-3 div.sk-dashed-wrapped {border: 1px dashed gray;margin: 0 0.4em 0.5em 0.4em;box-sizing: border-box;padding-bottom: 0.4em;background-color: white;}#sk-container-id-3 div.sk-label label {font-family: monospace;font-weight: bold;display: inline-block;line-height: 1.2em;}#sk-container-id-3 div.sk-label-container {text-align: center;}#sk-container-id-3 div.sk-container {/* jupyter's `normalize.less` sets `[hidden] { display: none; }` but bootstrap.min.css set `[hidden] { display: none !important; }` so we also need the `!important` here to be able to override the default hidden behavior on the sphinx rendered scikit-learn.org. See: https://github.com/scikit-learn/scikit-learn/issues/21755 */display: inline-block !important;position: relative;}#sk-container-id-3 div.sk-text-repr-fallback {display: none;}</style><div id=\"sk-container-id-3\" class=\"sk-top-container\"><div class=\"sk-text-repr-fallback\"><pre>KNeighborsClassifier()</pre><b>In a Jupyter environment, please rerun this cell to show the HTML representation or trust the notebook. <br />On GitHub, the HTML representation is unable to render, please try loading this page with nbviewer.org.</b></div><div class=\"sk-container\" hidden><div class=\"sk-item\"><div class=\"sk-estimator sk-toggleable\"><input class=\"sk-toggleable__control sk-hidden--visually\" id=\"sk-estimator-id-3\" type=\"checkbox\" checked><label for=\"sk-estimator-id-3\" class=\"sk-toggleable__label sk-toggleable__label-arrow\">KNeighborsClassifier</label><div class=\"sk-toggleable__content\"><pre>KNeighborsClassifier()</pre></div></div></div></div></div>"
            ],
            "text/plain": [
              "KNeighborsClassifier()"
            ]
          },
          "execution_count": 40,
          "metadata": {},
          "output_type": "execute_result"
        }
      ],
      "source": [
        "# Construct k Nearest Neighbors model\n",
        "\n",
        "knn = KNeighborsClassifier(n_neighbors = 5)\n",
        "knn.fit(training_X, training_y)"
      ]
    },
    {
      "cell_type": "code",
      "execution_count": 41,
      "metadata": {
        "colab": {
          "base_uri": "https://localhost:8080/"
        },
        "id": "HSFOn2uFRguF",
        "outputId": "faaf6019-274f-472f-d94c-806cce77b54d"
      },
      "outputs": [
        {
          "name": "stdout",
          "output_type": "stream",
          "text": [
            "Training accuracy:\n",
            "\tDT accuracy:\t95.28%\n",
            "\tkNN accuracy:\t94.10%\n",
            "\tNumber of '0' labels:\t93.90%\n",
            "\n",
            "Test accuracy:\n",
            "\tDT accuarcy:\t92.92%\n",
            "\tkNN accuarcy:\t93.08%\n",
            "\tNumber of '0' labels:\t93.30%\n"
          ]
        }
      ],
      "source": [
        "print(\"Training accuracy:\")\n",
        "print(\"\\tDT accuracy:\\t%.2f%%\" % (100 * decision_tree.score(training_X, training_y)))\n",
        "print(\"\\tkNN accuracy:\\t%.2f%%\" % (100 * knn.score(training_X, training_y)))\n",
        "print(\"\\tNumber of '0' labels:\\t%.2f%%\" % (100 - 100 * np.mean(training_y)))\n",
        "print()\n",
        "\n",
        "print(\"Test accuracy:\")\n",
        "print(\"\\tDT accuarcy:\\t%.2f%%\" % (100 * decision_tree.score(test_X, test_y)))\n",
        "print(\"\\tkNN accuarcy:\\t%.2f%%\" % (100 * knn.score(test_X, test_y)))\n",
        "print(\"\\tNumber of '0' labels:\\t%.2f%%\" % (100 - 100 * np.mean(test_y)))"
      ]
    },
    {
      "cell_type": "code",
      "execution_count": 44,
      "metadata": {
        "id": "MZzN4WBoRguH"
      },
      "outputs": [],
      "source": [
        "test_predictions_dt = decision_tree.predict(test_X)\n",
        "test_probabilities_dt = decision_tree.predict_proba(test_X)[:, 1]\n",
        "\n",
        "training_predictions_dt = decision_tree.predict(training_X)\n",
        "training_probabilities_dt = decision_tree.predict_proba(training_X)[:, 1]"
      ]
    },
    {
      "cell_type": "code",
      "execution_count": 45,
      "metadata": {
        "id": "jPCXSNG9RguI"
      },
      "outputs": [],
      "source": [
        "test_predictions_knn = knn.predict(test_X)\n",
        "test_probabilities_knn = knn.predict_proba(test_X)[:, 1]\n",
        "\n",
        "training_predictions_knn = knn.predict(training_X)\n",
        "training_probabilities_knn = knn.predict_proba(training_X)[:, 1]"
      ]
    },
    {
      "cell_type": "code",
      "execution_count": 47,
      "metadata": {
        "colab": {
          "base_uri": "https://localhost:8080/"
        },
        "id": "jnFrkMGDKOOb",
        "outputId": "94195070-3e4c-4177-b41a-6065f70d9e72"
      },
      "outputs": [
        {
          "data": {
            "text/plain": [
              "array([0.01279381, 0.08130081, 0.08130081, ..., 0.01279381, 0.01279381,\n",
              "       0.01279381])"
            ]
          },
          "execution_count": 47,
          "metadata": {},
          "output_type": "execute_result"
        }
      ],
      "source": [
        "test_probabilities_dt"
      ]
    },
    {
      "cell_type": "code",
      "execution_count": 48,
      "metadata": {
        "colab": {
          "base_uri": "https://localhost:8080/"
        },
        "id": "azsscihpw6hz",
        "outputId": "79d7ed3d-9237-403f-9a78-d52f5e548b9a"
      },
      "outputs": [
        {
          "data": {
            "text/plain": [
              "array([0.        , 0.01279381, 0.06024096, 0.08130081, 0.12631579,\n",
              "       0.16190476, 0.16666667, 0.22222222, 0.25      , 0.33333333,\n",
              "       0.35483871, 0.57142857, 0.66666667, 0.69230769, 0.8125    ,\n",
              "       0.84375   , 0.88888889, 1.        ])"
            ]
          },
          "execution_count": 48,
          "metadata": {},
          "output_type": "execute_result"
        }
      ],
      "source": [
        "np.unique(test_probabilities_dt)"
      ]
    },
    {
      "cell_type": "code",
      "execution_count": 20,
      "metadata": {
        "colab": {
          "base_uri": "https://localhost:8080/"
        },
        "id": "qj-_BesIw6h0",
        "outputId": "75c2ca62-3c46-4100-d44b-1014ac356363"
      },
      "outputs": [
        {
          "data": {
            "text/plain": [
              "array([0. , 0.2, 0.4, 0.6, 0.8])"
            ]
          },
          "execution_count": 20,
          "metadata": {},
          "output_type": "execute_result"
        }
      ],
      "source": [
        "np.unique(training_probabilities_knn)"
      ]
    },
    {
      "cell_type": "markdown",
      "metadata": {
        "_cell_guid": "26dd2732-b34f-4177-8786-8794537494e1",
        "id": "3IstWq8gRguL"
      },
      "source": [
        "# Classification quality measures"
      ]
    },
    {
      "cell_type": "markdown",
      "metadata": {
        "id": "3dScoO3hRguL"
      },
      "source": [
        "## Confusion matrix\n",
        "\n",
        "Confusion matrix is table layout that allows visualization of the performance of an algorithm. Rows of this matrix correspond to actual classes of the test set, columns correspond to predicted labels. There are 4 types of elements if predictions are given:\n",
        "* True Positive\n",
        "* False Negative\n",
        "* False Positive\n",
        "* True Negative\n",
        "\n",
        "| Variable | Predicted True | Predicted False |\n",
        "| ------------- |-------------|-----|\n",
        "| Actual True  | TP | FN |\n",
        "| Actual False | FP | TN |\n"
      ]
    },
    {
      "cell_type": "code",
      "execution_count": 49,
      "metadata": {
        "colab": {
          "base_uri": "https://localhost:8080/"
        },
        "id": "rzywp8CWRguM",
        "outputId": "2b9dfd85-5bfd-46af-e038-ad46f7e1454c"
      },
      "outputs": [
        {
          "name": "stdout",
          "output_type": "stream",
          "text": [
            "Confusion for Decision Tree:\n",
            "      0   1\n",
            "0  4605  61\n",
            "1   293  42\n",
            "Confusion for kNN:\n",
            "      0   1\n",
            "0  4651  15\n",
            "1   331   4\n"
          ]
        }
      ],
      "source": [
        "confusion_dt = pd.DataFrame(confusion_matrix(test_y, test_predictions_dt))\n",
        "confusion_knn = pd.DataFrame(confusion_matrix(test_y, test_predictions_knn))\n",
        "\n",
        "print('Confusion for Decision Tree:')\n",
        "print(confusion_dt)\n",
        "print('Confusion for kNN:')\n",
        "print(confusion_knn)"
      ]
    },
    {
      "cell_type": "markdown",
      "metadata": {
        "id": "YRDQ-Ad1RguN"
      },
      "source": [
        "If we want to compare metrics on different data, we can use instead True Positive Rate and False Positive Rate:\n",
        "* False Positive Rate is $\\frac{FP}{FP + TN}$\n",
        "* True  Positive Rate is $\\frac{TP}{TP + FN}$"
      ]
    },
    {
      "cell_type": "markdown",
      "metadata": {
        "id": "On9BbPlLRguO"
      },
      "source": [
        "## ROC curve"
      ]
    },
    {
      "cell_type": "markdown",
      "metadata": {
        "id": "9cxiJFHaRguO"
      },
      "source": [
        "ROC stands for *Receiver Operating Characteristic*. This curve shows True Positive Rate (**TPR**) against False Positive Rate (**FPR**) as classifier's discrimination threshold is varied\n",
        "\n",
        "Remember that classifiers are usually constructed based on some function\n",
        "$f(x) \\in [0, 1]$ and threshold $\\tau$:\n",
        "$$ \\text{Classifier}\\bigl(\\text{object}\\bigr)\n",
        "    = \\begin{cases}\n",
        "    1 & \\text{if}\\, f(\\text{object}) \\geq \\tau\\,,\\\\\n",
        "    0 & \\text{else}\\,.\n",
        "    \\end{cases}\n",
        "$$\n",
        "    \n",
        "**roc_curve** function from *scikit-learn* allows to easily obtain ROC curve points and **threshold** values."
      ]
    },
    {
      "cell_type": "markdown",
      "metadata": {
        "id": "J0BwU2f9sSVa"
      },
      "source": [
        "Detailed description of ROC-AUC by Alexander Dyakonov (in Russian)\n",
        "https://dyakonov.org/2017/07/28/auc-roc-площадь-под-кривой-ошибок/"
      ]
    },
    {
      "cell_type": "code",
      "execution_count": 51,
      "metadata": {
        "id": "0ZS_9IRTRguO"
      },
      "outputs": [],
      "source": [
        "false_positive_rates_dt, true_positive_rates_dt, threshold_dt = roc_curve(test_y, test_probabilities_dt)\n",
        "false_positive_rates_knn, true_positive_rates_knn, threshold_knn = roc_curve(test_y, test_probabilities_knn)"
      ]
    },
    {
      "cell_type": "code",
      "execution_count": 52,
      "metadata": {
        "colab": {
          "base_uri": "https://localhost:8080/",
          "height": 635
        },
        "id": "FvDKLoNuRguP",
        "outputId": "da988ffe-9806-4889-fcd0-a8ace9604b4f"
      },
      "outputs": [
        {
          "data": {
            "image/png": "[encoded data removed]",
            "text/plain": [
              "<Figure size 1400x700 with 2 Axes>"
            ]
          },
          "metadata": {},
          "output_type": "display_data"
        }
      ],
      "source": [
        "# create plot\n",
        "fig = plt.figure(figsize=(14, 7))\n",
        "\n",
        "# specify parameters for the first curve\n",
        "plot_1 = fig.add_subplot(121,\n",
        "                       xlabel=\"FPR\", xlim=(-.01, 1.01),\n",
        "                       ylabel=\"TPR\", ylim=(-.01, 1.01), title = 'Decision Tree')\n",
        "\n",
        "# draw the first curve\n",
        "plot_1.plot(false_positive_rates_dt, true_positive_rates_dt,\n",
        "          color='darkorange', lw=2, label = 'ROC-curve on test')\n",
        "plot_1.plot([0, 1], [0, 1], color='navy', lw=2, linestyle=':')\n",
        "plt.legend(loc=\"lower right\")\n",
        "\n",
        "# specify parameters for the second curve\n",
        "plot_2 = fig.add_subplot(122,\n",
        "                       xlabel=\"FPR\", xlim=(-.01, 1.01),\n",
        "                       ylabel=\"TPR\", ylim=(-.01, 1.01), title = 'k Nearest Neighbors')\n",
        "\n",
        "# draw the second curve\n",
        "plot_2.plot(false_positive_rates_knn, true_positive_rates_knn,\n",
        "          color='darkorange', lw=2, label = 'ROC-curve on test')\n",
        "plot_2.plot([0, 1], [0, 1], color='navy', lw=2, linestyle=':')\n",
        "plt.legend(loc=\"lower right\")\n",
        "\n",
        "plt.show()"
      ]
    },
    {
      "cell_type": "markdown",
      "metadata": {
        "id": "abo7ybOJRguR"
      },
      "source": [
        "The closer **ROC** curve to the **upper left** corner, the better classification is.\n",
        "\n",
        "Despite being a good visual representation we usually need a number to make conclusions about calssification quality. In case of ROC curve this number is Area Under the Curve (**ROC-AUC**).\n",
        "\n",
        "*scikit-learn* has a special function **auc(...)**:"
      ]
    },
    {
      "cell_type": "code",
      "execution_count": 53,
      "metadata": {
        "colab": {
          "base_uri": "https://localhost:8080/"
        },
        "id": "Ahg07oWIRguS",
        "outputId": "91e6e94c-a482-48f8-e731-41fc9bd63913"
      },
      "outputs": [
        {
          "name": "stdout",
          "output_type": "stream",
          "text": [
            "DT ROC-AUC on test data: 0.7804882573843172\n",
            "kNN ROC-AUC on test data: 0.5105027797147994\n"
          ]
        }
      ],
      "source": [
        "roc_auc_dt = auc(false_positive_rates_dt, true_positive_rates_dt)\n",
        "roc_auc_knn = auc(false_positive_rates_knn, true_positive_rates_knn)\n",
        "\n",
        "print(\"DT ROC-AUC on test data:\", roc_auc_dt)\n",
        "print(\"kNN ROC-AUC on test data:\", roc_auc_knn)"
      ]
    },
    {
      "cell_type": "markdown",
      "metadata": {
        "id": "nUDXlgKgRguU"
      },
      "source": [
        "For the training set ROC curve and ROC-AUC look much better."
      ]
    },
    {
      "cell_type": "code",
      "execution_count": 54,
      "metadata": {
        "colab": {
          "base_uri": "https://localhost:8080/"
        },
        "id": "9tTlhOJBRguV",
        "outputId": "f7401288-923f-4e6b-ed41-b93251f38834"
      },
      "outputs": [
        {
          "name": "stdout",
          "output_type": "stream",
          "text": [
            "DT ROC-AUC on training data: 0.8505512190353841\n",
            "kNN ROC-AUC on training data: 0.9093846873516351\n"
          ]
        }
      ],
      "source": [
        "training_false_positive_rates_dt, training_true_positive_rates_dt, _ = roc_curve(training_y, training_probabilities_dt)\n",
        "training_false_positive_rates_knn, training_true_positive_rates_knn, _ = roc_curve(training_y, training_probabilities_knn)\n",
        "\n",
        "training_roc_auc_dt = auc(training_false_positive_rates_dt, training_true_positive_rates_dt)\n",
        "training_roc_auc_knn = auc(training_false_positive_rates_knn, training_true_positive_rates_knn)\n",
        "\n",
        "print(\"DT ROC-AUC on training data:\", training_roc_auc_dt)\n",
        "print(\"kNN ROC-AUC on training data:\", training_roc_auc_knn)"
      ]
    },
    {
      "cell_type": "code",
      "execution_count": 55,
      "metadata": {
        "colab": {
          "base_uri": "https://localhost:8080/",
          "height": 635
        },
        "id": "-KxRefTVRguX",
        "outputId": "7eb0d2cd-a92b-4c3c-8a85-e7de89a69e53"
      },
      "outputs": [
        {
          "data": {
            "image/png": "[encoded data removed]",
            "text/plain": [
              "<Figure size 1400x700 with 2 Axes>"
            ]
          },
          "metadata": {},
          "output_type": "display_data"
        }
      ],
      "source": [
        "fig = plt.figure(figsize=(14, 7))\n",
        "\n",
        "plot_1 = fig.add_subplot(121,\n",
        "                       xlabel=\"FPR\", xlim=(-.01, 1.01),\n",
        "                       ylabel=\"TPR\", ylim=(-.01, 1.01), title = 'Decision Tree')\n",
        "\n",
        "# draw the first curve\n",
        "plot_1.plot(training_false_positive_rates_dt, training_true_positive_rates_dt,\n",
        "          color='darkgreen', lw=2, label = 'ROC-curve on train (AUC = %0.2f)' % training_roc_auc_dt)\n",
        "plot_1.plot(false_positive_rates_dt, true_positive_rates_dt,\n",
        "          color='darkorange', lw=2, label = 'ROC-curve on test (AUC = %0.2f)' % roc_auc_dt)\n",
        "plot_1.plot([0, 1], [0, 1], color='navy', lw=2, linestyle=':')\n",
        "plt.legend(loc=\"lower right\")\n",
        "\n",
        "# specify parameters for the second curve\n",
        "plot_2 = fig.add_subplot(122,\n",
        "                       xlabel=\"FPR\", xlim=(-.01, 1.01),\n",
        "                       ylabel=\"TPR\", ylim=(-.01, 1.01), title = 'k Nearest Neighbors')\n",
        "\n",
        "# draw the second curve\n",
        "plot_2.plot(training_false_positive_rates_knn, training_true_positive_rates_knn,\n",
        "          color='darkgreen', lw=2, label = 'ROC-curve on train (AUC = %0.2f)' % training_roc_auc_knn)\n",
        "plot_2.plot(false_positive_rates_knn, true_positive_rates_knn,\n",
        "          color='darkorange', lw=2, label = 'ROC-curve on test (AUC = %0.2f)' % roc_auc_knn)\n",
        "plot_2.plot([0, 1], [0, 1], color='navy', lw=2, linestyle=':')\n",
        "plt.legend(loc=\"lower right\")\n",
        "\n",
        "plt.show()"
      ]
    },
    {
      "cell_type": "markdown",
      "metadata": {
        "id": "BRQnjnG4sjjR"
      },
      "source": [
        "Another ROC-AUC visualization http://www.navan.name/roc/"
      ]
    },
    {
      "cell_type": "markdown",
      "metadata": {
        "id": "w9qr6UUHs7zb"
      },
      "source": [
        "Area under ROC-curve = probability of pairs of objects from different classes being classified correctly."
      ]
    },
    {
      "cell_type": "markdown",
      "metadata": {
        "id": "796Rlrj_ssrY"
      },
      "source": [
        "![alt text](https://alexanderdyakonov.files.wordpress.com/2017/07/eq.png)"
      ]
    },
    {
      "cell_type": "markdown",
      "metadata": {
        "id": "x5Atd7ivMIv0"
      },
      "source": [
        "$a_i$ - prediction at $i$-th object, $y_i$ - target (class), $q$- number of objects in test"
      ]
    },
    {
      "cell_type": "markdown",
      "metadata": {
        "id": "I_hnBlepRguZ"
      },
      "source": [
        "## Precision and Recall\n",
        "\n",
        "Precision and Recall are two other measures for evaluation of classification quality. Both of the metrics are calculated based on **confusion matrix**.\n",
        "\n",
        "<img src=\"https://raw.githubusercontent.com/adasegroup/ML2025_seminars/main/Seminar_03/figures/precision_recall.png\">\n",
        "\n",
        "Note that Recall equals to True Positive Rate."
      ]
    },
    {
      "cell_type": "markdown",
      "metadata": {
        "id": "isniEjqiRguZ"
      },
      "source": [
        "Although \"accuracy\" and \"precision\" have very similar meanings, they are completely different metrics. Look how Precision and Recall are evaluated for k Nearest Neighbors classifier:"
      ]
    },
    {
      "cell_type": "code",
      "execution_count": 65,
      "metadata": {
        "id": "jI5lqz98Rgua"
      },
      "outputs": [],
      "source": [
        "confusion = confusion_matrix(test_y, test_predictions_dt)"
      ]
    },
    {
      "cell_type": "code",
      "execution_count": 66,
      "metadata": {
        "id": "p-L5cRvxRgub"
      },
      "outputs": [],
      "source": [
        "TN, FP = confusion[0, 0], confusion[0, 1]\n",
        "FN, TP = confusion[1, 0], confusion[1, 1]"
      ]
    },
    {
      "cell_type": "markdown",
      "metadata": {
        "id": "OZ3xdtuPRgub"
      },
      "source": [
        "**Recall** of a classifier is equal to True Positive Rate **TPR** ($\\frac{TP}{TP + FN}$). This value may be interpreted as a sensitivity of a classifier to the objects with label `1`. If it is close to $100\\%$, then a classifier rarely \"miss\" the object of class `1`."
      ]
    },
    {
      "cell_type": "code",
      "execution_count": 67,
      "metadata": {
        "colab": {
          "base_uri": "https://localhost:8080/"
        },
        "id": "_61uxNrGRguc",
        "outputId": "b4f04ded-fa8d-421d-99cd-befa7915475f"
      },
      "outputs": [
        {
          "name": "stdout",
          "output_type": "stream",
          "text": [
            "Recall: 12.54%\n"
          ]
        }
      ],
      "source": [
        "recall = TP / (TP + FN)\n",
        "\n",
        "print(\"Recall: %.2f%%\" % (100 * recall))"
      ]
    },
    {
      "cell_type": "code",
      "execution_count": 68,
      "metadata": {
        "colab": {
          "base_uri": "https://localhost:8080/"
        },
        "id": "x0Ors-v7xWIi",
        "outputId": "31205764-c5d6-4b60-85b5-f0ea43a2e7ed"
      },
      "outputs": [
        {
          "name": "stdout",
          "output_type": "stream",
          "text": [
            "TP: 42 ; FN: 293\n"
          ]
        }
      ],
      "source": [
        "print('TP:', TP, '; FN:', FN)"
      ]
    },
    {
      "cell_type": "markdown",
      "metadata": {
        "id": "3J1HymcdRgud"
      },
      "source": [
        "**Precision** -- is a fraction $\\frac{TP}{TP + FP}$. If this value is large, then a classifier assigns label `1` to objects with actual label `0` rarely.\n",
        "\n",
        "See how it is different to Accuracy = $\\frac{TP + TN}{TP + TN + FP + FN}$"
      ]
    },
    {
      "cell_type": "code",
      "execution_count": 69,
      "metadata": {
        "colab": {
          "base_uri": "https://localhost:8080/"
        },
        "id": "rK4ZPgf0Rgud",
        "outputId": "2bb6f8c5-b8be-49a7-8355-db54d15a2a64"
      },
      "outputs": [
        {
          "name": "stdout",
          "output_type": "stream",
          "text": [
            "Precision: 40.78%\n"
          ]
        }
      ],
      "source": [
        "precision = TP / (TP + FP)\n",
        "\n",
        "print(\"Precision: %.2f%%\" % (100 * precision))"
      ]
    },
    {
      "cell_type": "code",
      "execution_count": 70,
      "metadata": {
        "colab": {
          "base_uri": "https://localhost:8080/"
        },
        "id": "xwLK4IIYxglv",
        "outputId": "7a2ebb34-52bc-4bf3-9583-cacd3dedf85e"
      },
      "outputs": [
        {
          "name": "stdout",
          "output_type": "stream",
          "text": [
            "42 61\n"
          ]
        }
      ],
      "source": [
        "print(TP, FP)"
      ]
    },
    {
      "cell_type": "markdown",
      "metadata": {
        "id": "Tlths8-WRgue"
      },
      "source": [
        "A classifier with large Recall but small Precision produces many false positive predictions and tends to assign many `1` labels.\n",
        "\n",
        "Vice versa, if a classifier has small Recall but large Precision, then it detects class `1` accurately, but misses many objects (many false negative predictions)."
      ]
    },
    {
      "cell_type": "markdown",
      "metadata": {
        "id": "mE6H_qHoRgue"
      },
      "source": [
        "### Precision-Recall curve"
      ]
    },
    {
      "cell_type": "markdown",
      "metadata": {
        "id": "5cgp4cveRguf"
      },
      "source": [
        "In **precision-recall** space we may construct a curve similar to **ROC** curve in **FPR-TPR** space. PR curve also depicts the dependecy of Precision and Recall on threshold. *scikit* has the corresponding function: **precision_recall_curve(...)**.\n",
        "\n",
        "Let's calculate PR curve points.\n",
        "\n",
        "Note that unlike ROC curve, we cannot use interpolation for calculation of area under the curve. This may lead to larger values of the metric, which is not good. In this case we need to use **average_precision_score()** function instead of **auc()** function."
      ]
    },
    {
      "cell_type": "code",
      "execution_count": 71,
      "metadata": {
        "colab": {
          "base_uri": "https://localhost:8080/"
        },
        "id": "TEIzrTmiRguf",
        "outputId": "bc047f73-f19a-4a62-87e6-6fe6779ac7aa"
      },
      "outputs": [
        {
          "name": "stdout",
          "output_type": "stream",
          "text": [
            "DT PR-AUC on test data: 0.27060176165387095\n",
            "kNN PR-AUC on test data: 0.06997723581835391\n"
          ]
        }
      ],
      "source": [
        "# generate values for Precision-Recall curve\n",
        "precision_dt, recall_dt, _ = precision_recall_curve(test_y, test_probabilities_dt)\n",
        "precision_knn, recall_knn, _ = precision_recall_curve(test_y, test_probabilities_knn)\n",
        "\n",
        "# calculate value under Precision-Recall curve\n",
        "pr_auc_dt = average_precision_score(test_y, test_probabilities_dt)\n",
        "pr_auc_knn = average_precision_score(test_y, test_probabilities_knn)\n",
        "\n",
        "print(\"DT PR-AUC on test data:\", pr_auc_dt)\n",
        "print(\"kNN PR-AUC on test data:\", pr_auc_knn)"
      ]
    },
    {
      "cell_type": "code",
      "execution_count": 72,
      "metadata": {
        "colab": {
          "base_uri": "https://localhost:8080/"
        },
        "id": "ymsau0J_Rgug",
        "outputId": "f8632d42-6950-4140-b8dd-fa5e69678306"
      },
      "outputs": [
        {
          "name": "stdout",
          "output_type": "stream",
          "text": [
            "DT PR-AUC on training data: 0.46891401493347407\n",
            "kNN PR-AUC on training data: 0.291291159995799\n"
          ]
        }
      ],
      "source": [
        "# generate values for training Precision Recall curve\n",
        "training_precision_dt, training_recall_dt, _ = precision_recall_curve(training_y, training_probabilities_dt)\n",
        "training_precision_knn, training_recall_knn, _ = precision_recall_curve(training_y, training_probabilities_knn)\n",
        "\n",
        "# TODO calculate value under precision-recall curve\n",
        "training_pr_auc_dt = average_precision_score(training_y, training_probabilities_dt)\n",
        "training_pr_auc_knn = average_precision_score(training_y, training_probabilities_knn)\n",
        "\n",
        "print(\"DT PR-AUC on training data:\", training_pr_auc_dt)\n",
        "print(\"kNN PR-AUC on training data:\", training_pr_auc_knn)"
      ]
    },
    {
      "cell_type": "code",
      "execution_count": 73,
      "metadata": {
        "colab": {
          "base_uri": "https://localhost:8080/",
          "height": 635
        },
        "id": "GflTFHKgRguh",
        "outputId": "5715da44-be84-483e-ab93-41cc4fd3c58e"
      },
      "outputs": [
        {
          "data": {
            "image/png": "[encoded data removed]",
            "text/plain": [
              "<Figure size 1400x700 with 2 Axes>"
            ]
          },
          "metadata": {},
          "output_type": "display_data"
        }
      ],
      "source": [
        "fig = plt.figure(figsize=(14, 7))\n",
        "\n",
        "plot_1 = fig.add_subplot(121,\n",
        "                       xlabel=\"Recall\", xlim=(-.01, 1.01),\n",
        "                       ylabel=\"Precision\", ylim=(-.01, 1.01), title = 'Decision Tree')\n",
        "\n",
        "plot_1.plot(training_recall_dt, training_precision_dt,\n",
        "          color='darkgreen', lw=2, label = 'PR-curve on train (AUC = %0.2f)' % training_pr_auc_dt)\n",
        "plot_1.plot(recall_dt, precision_dt,\n",
        "          color='darkorange', lw=2, label = 'PR-curve on test (AUC = %0.2f)' % pr_auc_dt)\n",
        "plt.legend(loc=\"upper right\")\n",
        "\n",
        "\n",
        "plot_2 = fig.add_subplot(122,\n",
        "                       xlabel=\"Recall\", xlim=(-.01, 1.01),\n",
        "                       ylabel=\"Precision\", ylim=(-.01, 1.01), title = 'k Nearest Neighbors')\n",
        "\n",
        "plot_2.plot(training_recall_knn, training_precision_knn,\n",
        "          color='darkgreen', lw=2, label = 'PR-curve on train (AUC = %0.2f)' % training_pr_auc_knn)\n",
        "plot_2.plot(recall_knn, precision_knn,\n",
        "          color='darkorange', lw=2, label = 'PR-curve on test (AUC = %0.2f)' % pr_auc_knn)\n",
        "plt.legend(loc=\"upper right\")\n",
        "\n",
        "plt.show()"
      ]
    },
    {
      "cell_type": "markdown",
      "metadata": {
        "id": "L1M5pctyRgui"
      },
      "source": [
        "The closer **PR** curve to the **upper right** corner, the better classification is.\n",
        "\n",
        "Large AUC value means that Precision and Recall are also large. That means that classifier makes small number of both False Positives and False Negatives."
      ]
    },
    {
      "cell_type": "markdown",
      "metadata": {
        "id": "d2yCJoE1Rgui"
      },
      "source": [
        "## F1 score\n",
        "\n",
        "This metric allows to take into account a different cost for False Positive Errors and False Negative Errors.\n",
        "\n",
        "General $F_\\beta$ score is defined as follows:\n",
        "$$\n",
        "F_\\beta = (1 + \\beta^2) \\frac{Precision \\cdot Recall}{\\beta^2 Precision + Recall} = \\frac{1 + \\beta^2}{\\frac{\\beta^2}{Recall} + \\frac{1}{Precision}}= \\frac{\\beta + \\beta^{-1}}{\\beta\\frac{1}{\\text{Recall}} + \\beta^{-1}\\frac{1}{\\text{Precision}}}\n",
        "    \\,.\n",
        "$$\n",
        "\n",
        "Most commonly used is $F_1$ score:\n",
        "$$\n",
        "F_1 = 2 \\frac{Precision \\cdot Recall}{Precision + Recall}\n",
        "$$\n",
        "\n",
        "Harmonic mean is used in order to make metric value very small when Precision or Recall is close to zero. Note that $F_1$ score doesn't describe how classifier works for True Negative results (**TN**)."
      ]
    },
    {
      "cell_type": "code",
      "execution_count": 74,
      "metadata": {
        "colab": {
          "base_uri": "https://localhost:8080/"
        },
        "id": "n7QtQhePRgui",
        "outputId": "ea368dd4-6567-4ad6-a8a1-a8bbf4818cfe"
      },
      "outputs": [
        {
          "name": "stdout",
          "output_type": "stream",
          "text": [
            "DT F1 score on training data 0.42995169082125606\n",
            "kNN F1 score on training data 0.08668730650154799\n",
            "DT F1 score on test data 0.1917808219178082\n",
            "kNN F1 score on test data 0.022598870056497175\n"
          ]
        }
      ],
      "source": [
        "print(\"DT F1 score on training data\", f1_score(training_y, training_predictions_dt))\n",
        "print(\"kNN F1 score on training data\", f1_score(training_y, training_predictions_knn))\n",
        "\n",
        "print(\"DT F1 score on test data\", f1_score(test_y, test_predictions_dt))\n",
        "print(\"kNN F1 score on test data\", f1_score(test_y, test_predictions_knn))"
      ]
    },
    {
      "cell_type": "markdown",
      "metadata": {
        "id": "KUI4RS4iRguj"
      },
      "source": [
        "$F_1$ score is good for imbalanced classification, when a number of class `1` objects is **much** bigger than class `0` objects."
      ]
    },
    {
      "cell_type": "markdown",
      "metadata": {
        "id": "BsvimD8oRguj"
      },
      "source": [
        "Let's compare **accuracy** and $F_1$ score of our classifiers with *random* classifier, which works as follows:\n",
        "\n",
        "* estimate probability $\\hat{p}$ of class `1` on training data (frequency of class `1` objects);\n",
        "* for every test object predict randomly:\n",
        "    * label `1` with probability $\\hat{p}$,\n",
        "    * label `0` with probability $1 - \\hat{p}$."
      ]
    },
    {
      "cell_type": "code",
      "execution_count": 75,
      "metadata": {
        "id": "N6jrY5vkRguk"
      },
      "outputs": [],
      "source": [
        "training_prob = sum(training_y) / len(training_y)\n",
        "random_predictions = np.random.binomial(1, training_prob, len(test_y))"
      ]
    },
    {
      "cell_type": "code",
      "execution_count": 77,
      "metadata": {
        "colab": {
          "base_uri": "https://localhost:8080/"
        },
        "id": "cSnRWleIRguk",
        "outputId": "064ac861-52d8-4670-b3fa-a6779e720d92"
      },
      "outputs": [
        {
          "name": "stdout",
          "output_type": "stream",
          "text": [
            "Decision Tree accuracy\t\t 0.9292141571685663\n",
            "kNN accuracy\t\t\t 0.9308138372325535\n",
            "Random classifier accuracy\t 0.8804239152169566\n",
            "---\n",
            "Decision Tree F1 score\t\t 0.1917808219178082\n",
            "kNN F1 score\t\t\t 0.022598870056497175\n",
            "Random classifier F1 score\t 0.059748427672955975\n"
          ]
        }
      ],
      "source": [
        "print(\"Decision Tree accuracy\\t\\t\", accuracy_score(test_y, test_predictions_dt))\n",
        "print(\"kNN accuracy\\t\\t\\t\", accuracy_score(test_y, test_predictions_knn))\n",
        "print(\"Random classifier accuracy\\t\", accuracy_score(test_y, random_predictions))\n",
        "print('---')\n",
        "print(\"Decision Tree F1 score\\t\\t\", f1_score(test_y, test_predictions_dt))\n",
        "print(\"kNN F1 score\\t\\t\\t\", f1_score(test_y, test_predictions_knn))\n",
        "print(\"Random classifier F1 score\\t\", f1_score(test_y, random_predictions))"
      ]
    },
    {
      "cell_type": "markdown",
      "metadata": {
        "id": "jR-2x26HRgul"
      },
      "source": [
        "# Exercise 1\n",
        "\n",
        "We have seen how some of classifiers work for this dataset. Now, try it yourself with Logistic Regression.\n",
        "\n",
        "* Fisrt, **import** **LogisticRegression()** function and train it on training data.\n",
        "* Then, calculate **ROC AUC**, **PR AUC** and **F1 score** on test data.\n",
        "* Try to change parameters to improve results.\n",
        "\n",
        "http://scikit-learn.org/stable/modules/generated/sklearn.linear_model.LogisticRegression.html"
      ]
    },
    {
      "cell_type": "code",
      "execution_count": 78,
      "metadata": {
        "id": "ohvRKx9ORgul"
      },
      "outputs": [],
      "source": [
        "from sklearn.linear_model import LogisticRegression"
      ]
    },
    {
      "cell_type": "code",
      "execution_count": 79,
      "metadata": {
        "colab": {
          "base_uri": "https://localhost:8080/",
          "height": 74
        },
        "id": "YcienmfPRgum",
        "outputId": "d795c2bc-d2b9-48fc-b4a5-539e28db6740"
      },
      "outputs": [
        {
          "data": {
            "text/html": [
              "<style>#sk-container-id-4 {color: black;}#sk-container-id-4 pre{padding: 0;}#sk-container-id-4 div.sk-toggleable {background-color: white;}#sk-container-id-4 label.sk-toggleable__label {cursor: pointer;display: block;width: 100%;margin-bottom: 0;padding: 0.3em;box-sizing: border-box;text-align: center;}#sk-container-id-4 label.sk-toggleable__label-arrow:before {content: \"▸\";float: left;margin-right: 0.25em;color: #696969;}#sk-container-id-4 label.sk-toggleable__label-arrow:hover:before {color: black;}#sk-container-id-4 div.sk-estimator:hover label.sk-toggleable__label-arrow:before {color: black;}#sk-container-id-4 div.sk-toggleable__content {max-height: 0;max-width: 0;overflow: hidden;text-align: left;background-color: #f0f8ff;}#sk-container-id-4 div.sk-toggleable__content pre {margin: 0.2em;color: black;border-radius: 0.25em;background-color: #f0f8ff;}#sk-container-id-4 input.sk-toggleable__control:checked~div.sk-toggleable__content {max-height: 200px;max-width: 100%;overflow: auto;}#sk-container-id-4 input.sk-toggleable__control:checked~label.sk-toggleable__label-arrow:before {content: \"▾\";}#sk-container-id-4 div.sk-estimator input.sk-toggleable__control:checked~label.sk-toggleable__label {background-color: #d4ebff;}#sk-container-id-4 div.sk-label input.sk-toggleable__control:checked~label.sk-toggleable__label {background-color: #d4ebff;}#sk-container-id-4 input.sk-hidden--visually {border: 0;clip: rect(1px 1px 1px 1px);clip: rect(1px, 1px, 1px, 1px);height: 1px;margin: -1px;overflow: hidden;padding: 0;position: absolute;width: 1px;}#sk-container-id-4 div.sk-estimator {font-family: monospace;background-color: #f0f8ff;border: 1px dotted black;border-radius: 0.25em;box-sizing: border-box;margin-bottom: 0.5em;}#sk-container-id-4 div.sk-estimator:hover {background-color: #d4ebff;}#sk-container-id-4 div.sk-parallel-item::after {content: \"\";width: 100%;border-bottom: 1px solid gray;flex-grow: 1;}#sk-container-id-4 div.sk-label:hover label.sk-toggleable__label {background-color: #d4ebff;}#sk-container-id-4 div.sk-serial::before {content: \"\";position: absolute;border-left: 1px solid gray;box-sizing: border-box;top: 0;bottom: 0;left: 50%;z-index: 0;}#sk-container-id-4 div.sk-serial {display: flex;flex-direction: column;align-items: center;background-color: white;padding-right: 0.2em;padding-left: 0.2em;position: relative;}#sk-container-id-4 div.sk-item {position: relative;z-index: 1;}#sk-container-id-4 div.sk-parallel {display: flex;align-items: stretch;justify-content: center;background-color: white;position: relative;}#sk-container-id-4 div.sk-item::before, #sk-container-id-4 div.sk-parallel-item::before {content: \"\";position: absolute;border-left: 1px solid gray;box-sizing: border-box;top: 0;bottom: 0;left: 50%;z-index: -1;}#sk-container-id-4 div.sk-parallel-item {display: flex;flex-direction: column;z-index: 1;position: relative;background-color: white;}#sk-container-id-4 div.sk-parallel-item:first-child::after {align-self: flex-end;width: 50%;}#sk-container-id-4 div.sk-parallel-item:last-child::after {align-self: flex-start;width: 50%;}#sk-container-id-4 div.sk-parallel-item:only-child::after {width: 0;}#sk-container-id-4 div.sk-dashed-wrapped {border: 1px dashed gray;margin: 0 0.4em 0.5em 0.4em;box-sizing: border-box;padding-bottom: 0.4em;background-color: white;}#sk-container-id-4 div.sk-label label {font-family: monospace;font-weight: bold;display: inline-block;line-height: 1.2em;}#sk-container-id-4 div.sk-label-container {text-align: center;}#sk-container-id-4 div.sk-container {/* jupyter's `normalize.less` sets `[hidden] { display: none; }` but bootstrap.min.css set `[hidden] { display: none !important; }` so we also need the `!important` here to be able to override the default hidden behavior on the sphinx rendered scikit-learn.org. See: https://github.com/scikit-learn/scikit-learn/issues/21755 */display: inline-block !important;position: relative;}#sk-container-id-4 div.sk-text-repr-fallback {display: none;}</style><div id=\"sk-container-id-4\" class=\"sk-top-container\"><div class=\"sk-text-repr-fallback\"><pre>LogisticRegression(C=100.0, max_iter=1000)</pre><b>In a Jupyter environment, please rerun this cell to show the HTML representation or trust the notebook. <br />On GitHub, the HTML representation is unable to render, please try loading this page with nbviewer.org.</b></div><div class=\"sk-container\" hidden><div class=\"sk-item\"><div class=\"sk-estimator sk-toggleable\"><input class=\"sk-toggleable__control sk-hidden--visually\" id=\"sk-estimator-id-4\" type=\"checkbox\" checked><label for=\"sk-estimator-id-4\" class=\"sk-toggleable__label sk-toggleable__label-arrow\">LogisticRegression</label><div class=\"sk-toggleable__content\"><pre>LogisticRegression(C=100.0, max_iter=1000)</pre></div></div></div></div></div>"
            ],
            "text/plain": [
              "LogisticRegression(C=100.0, max_iter=1000)"
            ]
          },
          "execution_count": 79,
          "metadata": {},
          "output_type": "execute_result"
        }
      ],
      "source": [
        "logistic_regression = LogisticRegression(penalty = 'l2', C = 100.0, max_iter = 1000)\n",
        "logistic_regression.fit(training_X, training_y)"
      ]
    },
    {
      "cell_type": "code",
      "execution_count": 80,
      "metadata": {
        "id": "m78nGLR9Rgun"
      },
      "outputs": [],
      "source": [
        "test_predictions = logistic_regression.predict(test_X)\n",
        "test_probabilities = logistic_regression.predict_proba(test_X)[:, 1]\n",
        "false_positive_rates, true_positive_rates, threshold = roc_curve(test_y, test_probabilities)\n",
        "roc_auc = auc(false_positive_rates, true_positive_rates)"
      ]
    },
    {
      "cell_type": "code",
      "execution_count": 82,
      "metadata": {
        "colab": {
          "base_uri": "https://localhost:8080/"
        },
        "id": "0qcHKkBTyps8",
        "outputId": "ca786146-c24a-433e-c1c3-8f903400526b"
      },
      "outputs": [
        {
          "name": "stdout",
          "output_type": "stream",
          "text": [
            "0.6949984326119083\n"
          ]
        }
      ],
      "source": [
        "print(roc_auc)"
      ]
    },
    {
      "cell_type": "code",
      "execution_count": 83,
      "metadata": {
        "id": "ox24hnYZyrFH"
      },
      "outputs": [],
      "source": [
        "precision, recall, _ = precision_recall_curve(test_y, test_probabilities)\n",
        "pr_auc = average_precision_score(test_y, test_probabilities)"
      ]
    },
    {
      "cell_type": "code",
      "execution_count": 84,
      "metadata": {
        "colab": {
          "base_uri": "https://localhost:8080/"
        },
        "id": "pqxiJra7zd_1",
        "outputId": "dc7a31e8-4755-46bd-f21c-ce956654321d"
      },
      "outputs": [
        {
          "name": "stdout",
          "output_type": "stream",
          "text": [
            "0.21151324991543485\n"
          ]
        }
      ],
      "source": [
        "print(pr_auc)"
      ]
    },
    {
      "cell_type": "code",
      "execution_count": 85,
      "metadata": {
        "colab": {
          "base_uri": "https://localhost:8080/"
        },
        "id": "gpWHbweHzggp",
        "outputId": "0605fdef-c985-4a62-f965-3345ba3f770e"
      },
      "outputs": [
        {
          "name": "stdout",
          "output_type": "stream",
          "text": [
            "0.05084745762711865\n"
          ]
        }
      ],
      "source": [
        "print(f1_score(test_y, test_predictions))"
      ]
    },
    {
      "cell_type": "markdown",
      "metadata": {
        "id": "a6TkioS4Rguo"
      },
      "source": [
        "# Cross-validation technique\n",
        "\n",
        "In many cases test sample is not available or we have a small dataset, and we have only one sample: a training one. The most popular approach in this case is **cross-validation**.\n",
        "\n",
        "The most common way is $k$-fold cross-validation. The idea is to divide training sample into $k$ blocks, one of them is treated as an artificial test sample and other $k-1$ are used for training.\n",
        "\n",
        "*scikit* has several functions for dividing data into folds and for performing automated cross-validation. One of those functions is **GridSearchCV()**.\n",
        "\n",
        "<img src=\"https://raw.githubusercontent.com/adasegroup/ML2025_seminars/main/Seminar_03/figures/5-fold-cv.png?raw=1\">"
      ]
    },
    {
      "cell_type": "code",
      "execution_count": 86,
      "metadata": {
        "id": "gYrK5jMjRguo"
      },
      "outputs": [],
      "source": [
        "from sklearn.model_selection import GridSearchCV"
      ]
    },
    {
      "cell_type": "code",
      "execution_count": 87,
      "metadata": {
        "colab": {
          "base_uri": "https://localhost:8080/",
          "height": 116
        },
        "id": "nyEK6VfhRgup",
        "outputId": "e4d76ca2-8c8f-4c47-b7e9-d8b92d61ae1e"
      },
      "outputs": [
        {
          "data": {
            "text/html": [
              "<style>#sk-container-id-5 {color: black;}#sk-container-id-5 pre{padding: 0;}#sk-container-id-5 div.sk-toggleable {background-color: white;}#sk-container-id-5 label.sk-toggleable__label {cursor: pointer;display: block;width: 100%;margin-bottom: 0;padding: 0.3em;box-sizing: border-box;text-align: center;}#sk-container-id-5 label.sk-toggleable__label-arrow:before {content: \"▸\";float: left;margin-right: 0.25em;color: #696969;}#sk-container-id-5 label.sk-toggleable__label-arrow:hover:before {color: black;}#sk-container-id-5 div.sk-estimator:hover label.sk-toggleable__label-arrow:before {color: black;}#sk-container-id-5 div.sk-toggleable__content {max-height: 0;max-width: 0;overflow: hidden;text-align: left;background-color: #f0f8ff;}#sk-container-id-5 div.sk-toggleable__content pre {margin: 0.2em;color: black;border-radius: 0.25em;background-color: #f0f8ff;}#sk-container-id-5 input.sk-toggleable__control:checked~div.sk-toggleable__content {max-height: 200px;max-width: 100%;overflow: auto;}#sk-container-id-5 input.sk-toggleable__control:checked~label.sk-toggleable__label-arrow:before {content: \"▾\";}#sk-container-id-5 div.sk-estimator input.sk-toggleable__control:checked~label.sk-toggleable__label {background-color: #d4ebff;}#sk-container-id-5 div.sk-label input.sk-toggleable__control:checked~label.sk-toggleable__label {background-color: #d4ebff;}#sk-container-id-5 input.sk-hidden--visually {border: 0;clip: rect(1px 1px 1px 1px);clip: rect(1px, 1px, 1px, 1px);height: 1px;margin: -1px;overflow: hidden;padding: 0;position: absolute;width: 1px;}#sk-container-id-5 div.sk-estimator {font-family: monospace;background-color: #f0f8ff;border: 1px dotted black;border-radius: 0.25em;box-sizing: border-box;margin-bottom: 0.5em;}#sk-container-id-5 div.sk-estimator:hover {background-color: #d4ebff;}#sk-container-id-5 div.sk-parallel-item::after {content: \"\";width: 100%;border-bottom: 1px solid gray;flex-grow: 1;}#sk-container-id-5 div.sk-label:hover label.sk-toggleable__label {background-color: #d4ebff;}#sk-container-id-5 div.sk-serial::before {content: \"\";position: absolute;border-left: 1px solid gray;box-sizing: border-box;top: 0;bottom: 0;left: 50%;z-index: 0;}#sk-container-id-5 div.sk-serial {display: flex;flex-direction: column;align-items: center;background-color: white;padding-right: 0.2em;padding-left: 0.2em;position: relative;}#sk-container-id-5 div.sk-item {position: relative;z-index: 1;}#sk-container-id-5 div.sk-parallel {display: flex;align-items: stretch;justify-content: center;background-color: white;position: relative;}#sk-container-id-5 div.sk-item::before, #sk-container-id-5 div.sk-parallel-item::before {content: \"\";position: absolute;border-left: 1px solid gray;box-sizing: border-box;top: 0;bottom: 0;left: 50%;z-index: -1;}#sk-container-id-5 div.sk-parallel-item {display: flex;flex-direction: column;z-index: 1;position: relative;background-color: white;}#sk-container-id-5 div.sk-parallel-item:first-child::after {align-self: flex-end;width: 50%;}#sk-container-id-5 div.sk-parallel-item:last-child::after {align-self: flex-start;width: 50%;}#sk-container-id-5 div.sk-parallel-item:only-child::after {width: 0;}#sk-container-id-5 div.sk-dashed-wrapped {border: 1px dashed gray;margin: 0 0.4em 0.5em 0.4em;box-sizing: border-box;padding-bottom: 0.4em;background-color: white;}#sk-container-id-5 div.sk-label label {font-family: monospace;font-weight: bold;display: inline-block;line-height: 1.2em;}#sk-container-id-5 div.sk-label-container {text-align: center;}#sk-container-id-5 div.sk-container {/* jupyter's `normalize.less` sets `[hidden] { display: none; }` but bootstrap.min.css set `[hidden] { display: none !important; }` so we also need the `!important` here to be able to override the default hidden behavior on the sphinx rendered scikit-learn.org. See: https://github.com/scikit-learn/scikit-learn/issues/21755 */display: inline-block !important;position: relative;}#sk-container-id-5 div.sk-text-repr-fallback {display: none;}</style><div id=\"sk-container-id-5\" class=\"sk-top-container\"><div class=\"sk-text-repr-fallback\"><pre>GridSearchCV(estimator=KNeighborsClassifier(),\n",
              "             param_grid={&#x27;n_neighbors&#x27;: [5, 10, 15, 20]})</pre><b>In a Jupyter environment, please rerun this cell to show the HTML representation or trust the notebook. <br />On GitHub, the HTML representation is unable to render, please try loading this page with nbviewer.org.</b></div><div class=\"sk-container\" hidden><div class=\"sk-item sk-dashed-wrapped\"><div class=\"sk-label-container\"><div class=\"sk-label sk-toggleable\"><input class=\"sk-toggleable__control sk-hidden--visually\" id=\"sk-estimator-id-5\" type=\"checkbox\" ><label for=\"sk-estimator-id-5\" class=\"sk-toggleable__label sk-toggleable__label-arrow\">GridSearchCV</label><div class=\"sk-toggleable__content\"><pre>GridSearchCV(estimator=KNeighborsClassifier(),\n",
              "             param_grid={&#x27;n_neighbors&#x27;: [5, 10, 15, 20]})</pre></div></div></div><div class=\"sk-parallel\"><div class=\"sk-parallel-item\"><div class=\"sk-item\"><div class=\"sk-label-container\"><div class=\"sk-label sk-toggleable\"><input class=\"sk-toggleable__control sk-hidden--visually\" id=\"sk-estimator-id-6\" type=\"checkbox\" ><label for=\"sk-estimator-id-6\" class=\"sk-toggleable__label sk-toggleable__label-arrow\">estimator: KNeighborsClassifier</label><div class=\"sk-toggleable__content\"><pre>KNeighborsClassifier()</pre></div></div></div><div class=\"sk-serial\"><div class=\"sk-item\"><div class=\"sk-estimator sk-toggleable\"><input class=\"sk-toggleable__control sk-hidden--visually\" id=\"sk-estimator-id-7\" type=\"checkbox\" ><label for=\"sk-estimator-id-7\" class=\"sk-toggleable__label sk-toggleable__label-arrow\">KNeighborsClassifier</label><div class=\"sk-toggleable__content\"><pre>KNeighborsClassifier()</pre></div></div></div></div></div></div></div></div></div></div>"
            ],
            "text/plain": [
              "GridSearchCV(estimator=KNeighborsClassifier(),\n",
              "             param_grid={'n_neighbors': [5, 10, 15, 20]})"
            ]
          },
          "execution_count": 87,
          "metadata": {},
          "output_type": "execute_result"
        }
      ],
      "source": [
        "parameters_knn = {'n_neighbors': [5, 10, 15, 20]}\n",
        "knn_cv = GridSearchCV(knn, param_grid = parameters_knn)\n",
        "knn_cv.fit(training_X, training_y)"
      ]
    },
    {
      "cell_type": "code",
      "execution_count": 88,
      "metadata": {
        "colab": {
          "base_uri": "https://localhost:8080/"
        },
        "id": "R2Sx0OsQd7Bo",
        "outputId": "6b2b7009-8899-4db1-e755-55d62f2d1ca3"
      },
      "outputs": [
        {
          "data": {
            "text/plain": [
              "{'n_neighbors': 10}"
            ]
          },
          "execution_count": 88,
          "metadata": {},
          "output_type": "execute_result"
        }
      ],
      "source": [
        "knn_cv.best_params_"
      ]
    },
    {
      "cell_type": "code",
      "execution_count": 89,
      "metadata": {
        "id": "UsU_RBGXRgus"
      },
      "outputs": [],
      "source": [
        "predictions_knn_cv = knn_cv.predict(test_X)\n",
        "probabilities_knn_cv = knn_cv.predict_proba(test_X)[:,1]"
      ]
    },
    {
      "cell_type": "code",
      "execution_count": 90,
      "metadata": {
        "id": "qCaJEBADRgus"
      },
      "outputs": [],
      "source": [
        "false_positive_rates_knn_cv, true_positive_rates_knn_cv, _ = roc_curve(test_y, probabilities_knn_cv)\n",
        "roc_auc_knn_cv = auc(false_positive_rates_knn_cv, true_positive_rates_knn_cv)"
      ]
    },
    {
      "cell_type": "code",
      "execution_count": 91,
      "metadata": {
        "id": "t_O13F2iRgut"
      },
      "outputs": [],
      "source": [
        "precision_knn_cv, recall_knn_cv, _ = precision_recall_curve(test_y, probabilities_knn_cv)\n",
        "pr_auc_knn_cv = average_precision_score(test_y, probabilities_knn_cv)"
      ]
    },
    {
      "cell_type": "code",
      "execution_count": 92,
      "metadata": {
        "id": "8JqCy0TkRguu"
      },
      "outputs": [],
      "source": [
        "f1_knn_cv = f1_score(test_y, predictions_knn_cv)"
      ]
    },
    {
      "cell_type": "code",
      "execution_count": 93,
      "metadata": {
        "colab": {
          "base_uri": "https://localhost:8080/"
        },
        "id": "8NZmrRQeRguv",
        "outputId": "3ac98474-847a-4d17-c09e-406329f64404"
      },
      "outputs": [
        {
          "name": "stdout",
          "output_type": "stream",
          "text": [
            "ROC AUC:  0.5495208270691122\n",
            "PR AUC:  0.07971959567593609\n",
            "F1_score:  0.0\n"
          ]
        }
      ],
      "source": [
        "print('ROC AUC: ', roc_auc_knn_cv)\n",
        "print('PR AUC: ', pr_auc_knn_cv)\n",
        "print('F1_score: ', f1_knn_cv)"
      ]
    },
    {
      "cell_type": "code",
      "execution_count": 94,
      "metadata": {
        "colab": {
          "base_uri": "https://localhost:8080/",
          "height": 112
        },
        "id": "QkOJbuP3Rguv",
        "outputId": "c358fadf-b761-47e1-e2fc-947a5cdba1ba"
      },
      "outputs": [
        {
          "data": {
            "application/vnd.google.colaboratory.intrinsic+json": {
              "summary": "{\n  \"name\": \"pd\",\n  \"rows\": 2,\n  \"fields\": [\n    {\n      \"column\": 0,\n      \"properties\": {\n        \"dtype\": \"number\",\n        \"std\": 3062,\n        \"min\": 335,\n        \"max\": 4666,\n        \"num_unique_values\": 2,\n        \"samples\": [\n          335,\n          4666\n        ],\n        \"semantic_type\": \"\",\n        \"description\": \"\"\n      }\n    },\n    {\n      \"column\": 1,\n      \"properties\": {\n        \"dtype\": \"number\",\n        \"std\": 0,\n        \"min\": 0,\n        \"max\": 0,\n        \"num_unique_values\": 1,\n        \"samples\": [\n          0\n        ],\n        \"semantic_type\": \"\",\n        \"description\": \"\"\n      }\n    }\n  ]\n}",
              "type": "dataframe"
            },
            "text/html": [
              "\n",
              "  <div id=\"df-3fdd944e-cb83-4868-a337-a04a1fecf4ca\" class=\"colab-df-container\">\n",
              "    <div>\n",
              "<style scoped>\n",
              "    .dataframe tbody tr th:only-of-type {\n",
              "        vertical-align: middle;\n",
              "    }\n",
              "\n",
              "    .dataframe tbody tr th {\n",
              "        vertical-align: top;\n",
              "    }\n",
              "\n",
              "    .dataframe thead th {\n",
              "        text-align: right;\n",
              "    }\n",
              "</style>\n",
              "<table border=\"1\" class=\"dataframe\">\n",
              "  <thead>\n",
              "    <tr style=\"text-align: right;\">\n",
              "      <th></th>\n",
              "      <th>0</th>\n",
              "      <th>1</th>\n",
              "    </tr>\n",
              "  </thead>\n",
              "  <tbody>\n",
              "    <tr>\n",
              "      <th>0</th>\n",
              "      <td>4666</td>\n",
              "      <td>0</td>\n",
              "    </tr>\n",
              "    <tr>\n",
              "      <th>1</th>\n",
              "      <td>335</td>\n",
              "      <td>0</td>\n",
              "    </tr>\n",
              "  </tbody>\n",
              "</table>\n",
              "</div>\n",
              "    <div class=\"colab-df-buttons\">\n",
              "\n",
              "  <div class=\"colab-df-container\">\n",
              "    <button class=\"colab-df-convert\" onclick=\"convertToInteractive('df-3fdd944e-cb83-4868-a337-a04a1fecf4ca')\"\n",
              "            title=\"Convert this dataframe to an interactive table.\"\n",
              "            style=\"display:none;\">\n",
              "\n",
              "  <svg xmlns=\"http://www.w3.org/2000/svg\" height=\"24px\" viewBox=\"0 -960 960 960\">\n",
              "    <path d=\"M120-120v-720h720v720H120Zm60-500h600v-160H180v160Zm220 220h160v-160H400v160Zm0 220h160v-160H400v160ZM180-400h160v-160H180v160Zm440 0h160v-160H620v160ZM180-180h160v-160H180v160Zm440 0h160v-160H620v160Z\"/>\n",
              "  </svg>\n",
              "    </button>\n",
              "\n",
              "  <style>\n",
              "    .colab-df-container {\n",
              "      display:flex;\n",
              "      gap: 12px;\n",
              "    }\n",
              "\n",
              "    .colab-df-convert {\n",
              "      background-color: #E8F0FE;\n",
              "      border: none;\n",
              "      border-radius: 50%;\n",
              "      cursor: pointer;\n",
              "      display: none;\n",
              "      fill: #1967D2;\n",
              "      height: 32px;\n",
              "      padding: 0 0 0 0;\n",
              "      width: 32px;\n",
              "    }\n",
              "\n",
              "    .colab-df-convert:hover {\n",
              "      background-color: #E2EBFA;\n",
              "      box-shadow: 0px 1px 2px rgba(60, 64, 67, 0.3), 0px 1px 3px 1px rgba(60, 64, 67, 0.15);\n",
              "      fill: #174EA6;\n",
              "    }\n",
              "\n",
              "    .colab-df-buttons div {\n",
              "      margin-bottom: 4px;\n",
              "    }\n",
              "\n",
              "    [theme=dark] .colab-df-convert {\n",
              "      background-color: #3B4455;\n",
              "      fill: #D2E3FC;\n",
              "    }\n",
              "\n",
              "    [theme=dark] .colab-df-convert:hover {\n",
              "      background-color: #434B5C;\n",
              "      box-shadow: 0px 1px 3px 1px rgba(0, 0, 0, 0.15);\n",
              "      filter: drop-shadow(0px 1px 2px rgba(0, 0, 0, 0.3));\n",
              "      fill: #FFFFFF;\n",
              "    }\n",
              "  </style>\n",
              "\n",
              "    <script>\n",
              "      const buttonEl =\n",
              "        document.querySelector('#df-3fdd944e-cb83-4868-a337-a04a1fecf4ca button.colab-df-convert');\n",
              "      buttonEl.style.display =\n",
              "        google.colab.kernel.accessAllowed ? 'block' : 'none';\n",
              "\n",
              "      async function convertToInteractive(key) {\n",
              "        const element = document.querySelector('#df-3fdd944e-cb83-4868-a337-a04a1fecf4ca');\n",
              "        const dataTable =\n",
              "          await google.colab.kernel.invokeFunction('convertToInteractive',\n",
              "                                                    [key], {});\n",
              "        if (!dataTable) return;\n",
              "\n",
              "        const docLinkHtml = 'Like what you see? Visit the ' +\n",
              "          '<a target=\"_blank\" href=https://colab.research.google.com/notebooks/data_table.ipynb>data table notebook</a>'\n",
              "          + ' to learn more about interactive tables.';\n",
              "        element.innerHTML = '';\n",
              "        dataTable['output_type'] = 'display_data';\n",
              "        await google.colab.output.renderOutput(dataTable, element);\n",
              "        const docLink = document.createElement('div');\n",
              "        docLink.innerHTML = docLinkHtml;\n",
              "        element.appendChild(docLink);\n",
              "      }\n",
              "    </script>\n",
              "  </div>\n",
              "\n",
              "\n",
              "<div id=\"df-0e63670a-e972-4d49-87dc-c2958f69fd40\">\n",
              "  <button class=\"colab-df-quickchart\" onclick=\"quickchart('df-0e63670a-e972-4d49-87dc-c2958f69fd40')\"\n",
              "            title=\"Suggest charts\"\n",
              "            style=\"display:none;\">\n",
              "\n",
              "<svg xmlns=\"http://www.w3.org/2000/svg\" height=\"24px\"viewBox=\"0 0 24 24\"\n",
              "     width=\"24px\">\n",
              "    <g>\n",
              "        <path d=\"M19 3H5c-1.1 0-2 .9-2 2v14c0 1.1.9 2 2 2h14c1.1 0 2-.9 2-2V5c0-1.1-.9-2-2-2zM9 17H7v-7h2v7zm4 0h-2V7h2v10zm4 0h-2v-4h2v4z\"/>\n",
              "    </g>\n",
              "</svg>\n",
              "  </button>\n",
              "\n",
              "<style>\n",
              "  .colab-df-quickchart {\n",
              "      --bg-color: #E8F0FE;\n",
              "      --fill-color: #1967D2;\n",
              "      --hover-bg-color: #E2EBFA;\n",
              "      --hover-fill-color: #174EA6;\n",
              "      --disabled-fill-color: #AAA;\n",
              "      --disabled-bg-color: #DDD;\n",
              "  }\n",
              "\n",
              "  [theme=dark] .colab-df-quickchart {\n",
              "      --bg-color: #3B4455;\n",
              "      --fill-color: #D2E3FC;\n",
              "      --hover-bg-color: #434B5C;\n",
              "      --hover-fill-color: #FFFFFF;\n",
              "      --disabled-bg-color: #3B4455;\n",
              "      --disabled-fill-color: #666;\n",
              "  }\n",
              "\n",
              "  .colab-df-quickchart {\n",
              "    background-color: var(--bg-color);\n",
              "    border: none;\n",
              "    border-radius: 50%;\n",
              "    cursor: pointer;\n",
              "    display: none;\n",
              "    fill: var(--fill-color);\n",
              "    height: 32px;\n",
              "    padding: 0;\n",
              "    width: 32px;\n",
              "  }\n",
              "\n",
              "  .colab-df-quickchart:hover {\n",
              "    background-color: var(--hover-bg-color);\n",
              "    box-shadow: 0 1px 2px rgba(60, 64, 67, 0.3), 0 1px 3px 1px rgba(60, 64, 67, 0.15);\n",
              "    fill: var(--button-hover-fill-color);\n",
              "  }\n",
              "\n",
              "  .colab-df-quickchart-complete:disabled,\n",
              "  .colab-df-quickchart-complete:disabled:hover {\n",
              "    background-color: var(--disabled-bg-color);\n",
              "    fill: var(--disabled-fill-color);\n",
              "    box-shadow: none;\n",
              "  }\n",
              "\n",
              "  .colab-df-spinner {\n",
              "    border: 2px solid var(--fill-color);\n",
              "    border-color: transparent;\n",
              "    border-bottom-color: var(--fill-color);\n",
              "    animation:\n",
              "      spin 1s steps(1) infinite;\n",
              "  }\n",
              "\n",
              "  @keyframes spin {\n",
              "    0% {\n",
              "      border-color: transparent;\n",
              "      border-bottom-color: var(--fill-color);\n",
              "      border-left-color: var(--fill-color);\n",
              "    }\n",
              "    20% {\n",
              "      border-color: transparent;\n",
              "      border-left-color: var(--fill-color);\n",
              "      border-top-color: var(--fill-color);\n",
              "    }\n",
              "    30% {\n",
              "      border-color: transparent;\n",
              "      border-left-color: var(--fill-color);\n",
              "      border-top-color: var(--fill-color);\n",
              "      border-right-color: var(--fill-color);\n",
              "    }\n",
              "    40% {\n",
              "      border-color: transparent;\n",
              "      border-right-color: var(--fill-color);\n",
              "      border-top-color: var(--fill-color);\n",
              "    }\n",
              "    60% {\n",
              "      border-color: transparent;\n",
              "      border-right-color: var(--fill-color);\n",
              "    }\n",
              "    80% {\n",
              "      border-color: transparent;\n",
              "      border-right-color: var(--fill-color);\n",
              "      border-bottom-color: var(--fill-color);\n",
              "    }\n",
              "    90% {\n",
              "      border-color: transparent;\n",
              "      border-bottom-color: var(--fill-color);\n",
              "    }\n",
              "  }\n",
              "</style>\n",
              "\n",
              "  <script>\n",
              "    async function quickchart(key) {\n",
              "      const quickchartButtonEl =\n",
              "        document.querySelector('#' + key + ' button');\n",
              "      quickchartButtonEl.disabled = true;  // To prevent multiple clicks.\n",
              "      quickchartButtonEl.classList.add('colab-df-spinner');\n",
              "      try {\n",
              "        const charts = await google.colab.kernel.invokeFunction(\n",
              "            'suggestCharts', [key], {});\n",
              "      } catch (error) {\n",
              "        console.error('Error during call to suggestCharts:', error);\n",
              "      }\n",
              "      quickchartButtonEl.classList.remove('colab-df-spinner');\n",
              "      quickchartButtonEl.classList.add('colab-df-quickchart-complete');\n",
              "    }\n",
              "    (() => {\n",
              "      let quickchartButtonEl =\n",
              "        document.querySelector('#df-0e63670a-e972-4d49-87dc-c2958f69fd40 button');\n",
              "      quickchartButtonEl.style.display =\n",
              "        google.colab.kernel.accessAllowed ? 'block' : 'none';\n",
              "    })();\n",
              "  </script>\n",
              "</div>\n",
              "    </div>\n",
              "  </div>\n"
            ],
            "text/plain": [
              "      0  1\n",
              "0  4666  0\n",
              "1   335  0"
            ]
          },
          "execution_count": 94,
          "metadata": {},
          "output_type": "execute_result"
        }
      ],
      "source": [
        "pd.DataFrame(confusion_matrix(test_y, predictions_knn_cv))"
      ]
    },
    {
      "cell_type": "markdown",
      "metadata": {
        "id": "2ecCmIdSRguw"
      },
      "source": [
        "# Exercise 2\n",
        "\n",
        "Now we know how to perform cross-validation. Try it yourself with Decision Tree.\n",
        "\n",
        "* Using **GridSearchCV** choose parameter **min_samples_leaf**. Try several values from 1 to 100.\n",
        "* Use **five**-fold cross-validation and **roc_auc** scoring. See the chosen parameters.\n",
        "* Evaluate quality metrics and look how they changed. Try to make some plots.\n",
        "\n",
        "http://scikit-learn.org/stable/modules/generated/sklearn.tree.DecisionTreeClassifier.html\n",
        "\n",
        "http://scikit-learn.org/stable/modules/generated/sklearn.model_selection.GridSearchCV.html\n",
        "\n",
        "HINT https://scikit-learn.org/stable/modules/generated/sklearn.metrics.make_scorer.html"
      ]
    },
    {
      "cell_type": "code",
      "execution_count": 96,
      "metadata": {
        "id": "v-JGz42yUsLk"
      },
      "outputs": [],
      "source": [
        "from sklearn.metrics import roc_auc_score, make_scorer"
      ]
    },
    {
      "cell_type": "code",
      "execution_count": 97,
      "metadata": {
        "colab": {
          "base_uri": "https://localhost:8080/",
          "height": 116
        },
        "id": "0f_JsGQvRguw",
        "outputId": "a97f2975-ee84-440a-af55-801e6b2f41ce"
      },
      "outputs": [
        {
          "data": {
            "text/html": [
              "<style>#sk-container-id-6 {color: black;}#sk-container-id-6 pre{padding: 0;}#sk-container-id-6 div.sk-toggleable {background-color: white;}#sk-container-id-6 label.sk-toggleable__label {cursor: pointer;display: block;width: 100%;margin-bottom: 0;padding: 0.3em;box-sizing: border-box;text-align: center;}#sk-container-id-6 label.sk-toggleable__label-arrow:before {content: \"▸\";float: left;margin-right: 0.25em;color: #696969;}#sk-container-id-6 label.sk-toggleable__label-arrow:hover:before {color: black;}#sk-container-id-6 div.sk-estimator:hover label.sk-toggleable__label-arrow:before {color: black;}#sk-container-id-6 div.sk-toggleable__content {max-height: 0;max-width: 0;overflow: hidden;text-align: left;background-color: #f0f8ff;}#sk-container-id-6 div.sk-toggleable__content pre {margin: 0.2em;color: black;border-radius: 0.25em;background-color: #f0f8ff;}#sk-container-id-6 input.sk-toggleable__control:checked~div.sk-toggleable__content {max-height: 200px;max-width: 100%;overflow: auto;}#sk-container-id-6 input.sk-toggleable__control:checked~label.sk-toggleable__label-arrow:before {content: \"▾\";}#sk-container-id-6 div.sk-estimator input.sk-toggleable__control:checked~label.sk-toggleable__label {background-color: #d4ebff;}#sk-container-id-6 div.sk-label input.sk-toggleable__control:checked~label.sk-toggleable__label {background-color: #d4ebff;}#sk-container-id-6 input.sk-hidden--visually {border: 0;clip: rect(1px 1px 1px 1px);clip: rect(1px, 1px, 1px, 1px);height: 1px;margin: -1px;overflow: hidden;padding: 0;position: absolute;width: 1px;}#sk-container-id-6 div.sk-estimator {font-family: monospace;background-color: #f0f8ff;border: 1px dotted black;border-radius: 0.25em;box-sizing: border-box;margin-bottom: 0.5em;}#sk-container-id-6 div.sk-estimator:hover {background-color: #d4ebff;}#sk-container-id-6 div.sk-parallel-item::after {content: \"\";width: 100%;border-bottom: 1px solid gray;flex-grow: 1;}#sk-container-id-6 div.sk-label:hover label.sk-toggleable__label {background-color: #d4ebff;}#sk-container-id-6 div.sk-serial::before {content: \"\";position: absolute;border-left: 1px solid gray;box-sizing: border-box;top: 0;bottom: 0;left: 50%;z-index: 0;}#sk-container-id-6 div.sk-serial {display: flex;flex-direction: column;align-items: center;background-color: white;padding-right: 0.2em;padding-left: 0.2em;position: relative;}#sk-container-id-6 div.sk-item {position: relative;z-index: 1;}#sk-container-id-6 div.sk-parallel {display: flex;align-items: stretch;justify-content: center;background-color: white;position: relative;}#sk-container-id-6 div.sk-item::before, #sk-container-id-6 div.sk-parallel-item::before {content: \"\";position: absolute;border-left: 1px solid gray;box-sizing: border-box;top: 0;bottom: 0;left: 50%;z-index: -1;}#sk-container-id-6 div.sk-parallel-item {display: flex;flex-direction: column;z-index: 1;position: relative;background-color: white;}#sk-container-id-6 div.sk-parallel-item:first-child::after {align-self: flex-end;width: 50%;}#sk-container-id-6 div.sk-parallel-item:last-child::after {align-self: flex-start;width: 50%;}#sk-container-id-6 div.sk-parallel-item:only-child::after {width: 0;}#sk-container-id-6 div.sk-dashed-wrapped {border: 1px dashed gray;margin: 0 0.4em 0.5em 0.4em;box-sizing: border-box;padding-bottom: 0.4em;background-color: white;}#sk-container-id-6 div.sk-label label {font-family: monospace;font-weight: bold;display: inline-block;line-height: 1.2em;}#sk-container-id-6 div.sk-label-container {text-align: center;}#sk-container-id-6 div.sk-container {/* jupyter's `normalize.less` sets `[hidden] { display: none; }` but bootstrap.min.css set `[hidden] { display: none !important; }` so we also need the `!important` here to be able to override the default hidden behavior on the sphinx rendered scikit-learn.org. See: https://github.com/scikit-learn/scikit-learn/issues/21755 */display: inline-block !important;position: relative;}#sk-container-id-6 div.sk-text-repr-fallback {display: none;}</style><div id=\"sk-container-id-6\" class=\"sk-top-container\"><div class=\"sk-text-repr-fallback\"><pre>GridSearchCV(cv=5, estimator=DecisionTreeClassifier(),\n",
              "             param_grid={&#x27;min_samples_leaf&#x27;: [1, 2, 4, 8, 16, 32, 64, 128]},\n",
              "             scoring=make_scorer(roc_auc_score))</pre><b>In a Jupyter environment, please rerun this cell to show the HTML representation or trust the notebook. <br />On GitHub, the HTML representation is unable to render, please try loading this page with nbviewer.org.</b></div><div class=\"sk-container\" hidden><div class=\"sk-item sk-dashed-wrapped\"><div class=\"sk-label-container\"><div class=\"sk-label sk-toggleable\"><input class=\"sk-toggleable__control sk-hidden--visually\" id=\"sk-estimator-id-8\" type=\"checkbox\" ><label for=\"sk-estimator-id-8\" class=\"sk-toggleable__label sk-toggleable__label-arrow\">GridSearchCV</label><div class=\"sk-toggleable__content\"><pre>GridSearchCV(cv=5, estimator=DecisionTreeClassifier(),\n",
              "             param_grid={&#x27;min_samples_leaf&#x27;: [1, 2, 4, 8, 16, 32, 64, 128]},\n",
              "             scoring=make_scorer(roc_auc_score))</pre></div></div></div><div class=\"sk-parallel\"><div class=\"sk-parallel-item\"><div class=\"sk-item\"><div class=\"sk-label-container\"><div class=\"sk-label sk-toggleable\"><input class=\"sk-toggleable__control sk-hidden--visually\" id=\"sk-estimator-id-9\" type=\"checkbox\" ><label for=\"sk-estimator-id-9\" class=\"sk-toggleable__label sk-toggleable__label-arrow\">estimator: DecisionTreeClassifier</label><div class=\"sk-toggleable__content\"><pre>DecisionTreeClassifier()</pre></div></div></div><div class=\"sk-serial\"><div class=\"sk-item\"><div class=\"sk-estimator sk-toggleable\"><input class=\"sk-toggleable__control sk-hidden--visually\" id=\"sk-estimator-id-10\" type=\"checkbox\" ><label for=\"sk-estimator-id-10\" class=\"sk-toggleable__label sk-toggleable__label-arrow\">DecisionTreeClassifier</label><div class=\"sk-toggleable__content\"><pre>DecisionTreeClassifier()</pre></div></div></div></div></div></div></div></div></div></div>"
            ],
            "text/plain": [
              "GridSearchCV(cv=5, estimator=DecisionTreeClassifier(),\n",
              "             param_grid={'min_samples_leaf': [1, 2, 4, 8, 16, 32, 64, 128]},\n",
              "             scoring=make_scorer(roc_auc_score))"
            ]
          },
          "execution_count": 97,
          "metadata": {},
          "output_type": "execute_result"
        }
      ],
      "source": [
        "parameters_dt = {'min_samples_leaf' : [1, 2, 4, 8, 16, 32, 64, 128]}\n",
        "clf = DecisionTreeClassifier()\n",
        "dt_cv = GridSearchCV(clf, param_grid = parameters_dt, scoring=make_scorer(roc_auc_score), cv=5)\n",
        "dt_cv.fit(training_X, training_y)"
      ]
    },
    {
      "cell_type": "code",
      "execution_count": 98,
      "metadata": {
        "colab": {
          "base_uri": "https://localhost:8080/"
        },
        "id": "EciDu8WjRgux",
        "outputId": "12256b7a-923e-46e8-8dad-1c2823f033db"
      },
      "outputs": [
        {
          "data": {
            "text/plain": [
              "{'min_samples_leaf': 2}"
            ]
          },
          "execution_count": 98,
          "metadata": {},
          "output_type": "execute_result"
        }
      ],
      "source": [
        "dt_cv.best_params_"
      ]
    },
    {
      "cell_type": "code",
      "execution_count": 99,
      "metadata": {
        "colab": {
          "base_uri": "https://localhost:8080/"
        },
        "id": "EGVWm9fFew3P",
        "outputId": "451dbddb-3181-4385-e94c-4c5ded1109b5"
      },
      "outputs": [
        {
          "data": {
            "text/plain": [
              "0.6021037582746341"
            ]
          },
          "execution_count": 99,
          "metadata": {},
          "output_type": "execute_result"
        }
      ],
      "source": [
        "dt_cv.best_score_"
      ]
    },
    {
      "cell_type": "code",
      "execution_count": 100,
      "metadata": {
        "colab": {
          "base_uri": "https://localhost:8080/"
        },
        "id": "DE_FxkaaV1tW",
        "outputId": "e09d6e82-0b8e-49d9-e986-64df6b2a6dfd"
      },
      "outputs": [
        {
          "data": {
            "text/plain": [
              "{'mean_fit_time': array([0.03047948, 0.02754326, 0.02698407, 0.02435899, 0.02235327,\n",
              "        0.02085199, 0.0186451 , 0.01569886]),\n",
              " 'std_fit_time': array([0.00290746, 0.00087706, 0.00191178, 0.0005248 , 0.00056194,\n",
              "        0.00051224, 0.00083386, 0.00080248]),\n",
              " 'mean_score_time': array([0.00364013, 0.00356569, 0.00377822, 0.00352111, 0.00374479,\n",
              "        0.0035912 , 0.00351911, 0.00334339]),\n",
              " 'std_score_time': array([1.94344600e-04, 4.65737376e-05, 4.22838882e-04, 1.12411425e-04,\n",
              "        5.20563661e-04, 1.89646573e-04, 1.31062525e-04, 1.86310963e-05]),\n",
              " 'param_min_samples_leaf': masked_array(data=[1, 2, 4, 8, 16, 32, 64, 128],\n",
              "              mask=[False, False, False, False, False, False, False, False],\n",
              "        fill_value='?',\n",
              "             dtype=object),\n",
              " 'params': [{'min_samples_leaf': 1},\n",
              "  {'min_samples_leaf': 2},\n",
              "  {'min_samples_leaf': 4},\n",
              "  {'min_samples_leaf': 8},\n",
              "  {'min_samples_leaf': 16},\n",
              "  {'min_samples_leaf': 32},\n",
              "  {'min_samples_leaf': 64},\n",
              "  {'min_samples_leaf': 128}],\n",
              " 'split0_test_score': array([0.57623823, 0.59006802, 0.54855249, 0.54066969, 0.60230206,\n",
              "        0.55099407, 0.5295954 , 0.5       ]),\n",
              " 'split1_test_score': array([0.64390964, 0.61570558, 0.60697638, 0.64242567, 0.56131392,\n",
              "        0.632422  , 0.5       , 0.5       ]),\n",
              " 'split2_test_score': array([0.58440266, 0.57652892, 0.57312453, 0.57099461, 0.56258838,\n",
              "        0.56631575, 0.54832487, 0.5       ]),\n",
              " 'split3_test_score': array([0.62038443, 0.63656838, 0.58664607, 0.61070375, 0.52033031,\n",
              "        0.53118944, 0.5618464 , 0.5       ]),\n",
              " 'split4_test_score': array([0.58525812, 0.5916479 , 0.59824718, 0.59431031, 0.60516943,\n",
              "        0.55418216, 0.58111175, 0.5       ]),\n",
              " 'mean_test_score': array([0.60203862, 0.60210376, 0.58270933, 0.5918208 , 0.57034082,\n",
              "        0.56702069, 0.54417568, 0.5       ]),\n",
              " 'std_test_score': array([0.02587672, 0.02135919, 0.02051521, 0.03456525, 0.031232  ,\n",
              "        0.03459303, 0.02777704, 0.        ]),\n",
              " 'rank_test_score': array([2, 1, 4, 3, 5, 6, 7, 8], dtype=int32)}"
            ]
          },
          "execution_count": 100,
          "metadata": {},
          "output_type": "execute_result"
        }
      ],
      "source": [
        "dt_cv.cv_results_"
      ]
    },
    {
      "cell_type": "code",
      "execution_count": 101,
      "metadata": {
        "colab": {
          "base_uri": "https://localhost:8080/",
          "height": 468
        },
        "id": "pCthViXOWFIA",
        "outputId": "af31cbfc-b8a7-4569-9d10-cb13e5f9cd9d"
      },
      "outputs": [
        {
          "data": {
            "text/plain": [
              "Text(0, 0.5, 'ROC AUC')"
            ]
          },
          "execution_count": 101,
          "metadata": {},
          "output_type": "execute_result"
        },
        {
          "data": {
            "image/png": "[encoded data removed]",
            "text/plain": [
              "<Figure size 640x480 with 1 Axes>"
            ]
          },
          "metadata": {},
          "output_type": "display_data"
        }
      ],
      "source": [
        "fig,ax=plt.subplots(1,1)\n",
        "plt.plot(dt_cv.cv_results_['param_min_samples_leaf'].data, dt_cv.cv_results_['mean_test_score'])\n",
        "ax.set_xlabel('min_samples_leaf')\n",
        "ax.set_ylabel('ROC AUC')"
      ]
    },
    {
      "cell_type": "markdown",
      "metadata": {
        "id": "raCbonaXRguz"
      },
      "source": [
        "# Multiclass classification"
      ]
    },
    {
      "cell_type": "markdown",
      "metadata": {
        "id": "UnMA4V91Rguz"
      },
      "source": [
        "Let's have a look how multiclass tasks are treated."
      ]
    },
    {
      "cell_type": "code",
      "execution_count": null,
      "metadata": {
        "id": "6NQO7z1JBEP9"
      },
      "outputs": [],
      "source": [
        "!pip install --force-reinstall -v \"scikit-learn==1.3.2\""
      ]
    },
    {
      "cell_type": "code",
      "execution_count": 1,
      "metadata": {
        "id": "MgxZfcduRguz"
      },
      "outputs": [],
      "source": [
        "# import some modules\n",
        "from sklearn.model_selection import train_test_split\n",
        "from sklearn.preprocessing import LabelEncoder\n",
        "from sklearn.base import clone\n",
        "from sklearn.linear_model import LogisticRegression\n",
        "from sklearn.metrics import accuracy_score, confusion_matrix\n",
        "import zipfile\n",
        "import pandas as pd\n",
        "import numpy as np"
      ]
    },
    {
      "cell_type": "markdown",
      "metadata": {
        "id": "QYuYzhKPRgu0"
      },
      "source": [
        "## Load data"
      ]
    },
    {
      "cell_type": "markdown",
      "metadata": {
        "id": "7Ky3MohKRgu1"
      },
      "source": [
        "We will use data from Kaggle contest *\"Otto Group\n",
        "Product Classification Challenge\"*, which was created to predict class of an item by several features.\n",
        "\n",
        "https://www.kaggle.com/c/otto-group-product-classification-challenge\n",
        "\n",
        "Data are in ZIP, but we can load them easily"
      ]
    },
    {
      "cell_type": "code",
      "execution_count": 2,
      "metadata": {
        "id": "cFnNfzLoRgu1"
      },
      "outputs": [],
      "source": [
        "train_dataset = pd.read_csv('https://raw.githubusercontent.com/adasegroup/ML2025_seminars/main/Seminar_03/otto/train.csv', index_col='id')\n",
        "test_dataset = pd.read_csv('https://raw.githubusercontent.com/adasegroup/ML2025_seminars/main/Seminar_03/otto/test.cutted.csv', index_col='id')"
      ]
    },
    {
      "cell_type": "markdown",
      "metadata": {
        "id": "FPqHmPCxRgu1"
      },
      "source": [
        "Data consist of the following:\n",
        "* **id** -- anonymized identifier;\n",
        "* **feat_1, ..., feat_93** -- features;\n",
        "* **target** -- actual class of an item."
      ]
    },
    {
      "cell_type": "markdown",
      "metadata": {
        "id": "1HxH86Y88_h4"
      },
      "source": [
        "Let's see data description"
      ]
    },
    {
      "cell_type": "code",
      "execution_count": 3,
      "metadata": {
        "colab": {
          "base_uri": "https://localhost:8080/"
        },
        "id": "ZDtIcyD28TjZ",
        "outputId": "7789f818-89ce-489a-c2e2-2cf68408607c"
      },
      "outputs": [
        {
          "name": "stdout",
          "output_type": "stream",
          "text": [
            "<class 'pandas.core.frame.DataFrame'>\n",
            "Index: 61878 entries, 1 to 61878\n",
            "Data columns (total 94 columns):\n",
            " #   Column   Non-Null Count  Dtype \n",
            "---  ------   --------------  ----- \n",
            " 0   feat_1   61878 non-null  int64 \n",
            " 1   feat_2   61878 non-null  int64 \n",
            " 2   feat_3   61878 non-null  int64 \n",
            " 3   feat_4   61878 non-null  int64 \n",
            " 4   feat_5   61878 non-null  int64 \n",
            " 5   feat_6   61878 non-null  int64 \n",
            " 6   feat_7   61878 non-null  int64 \n",
            " 7   feat_8   61878 non-null  int64 \n",
            " 8   feat_9   61878 non-null  int64 \n",
            " 9   feat_10  61878 non-null  int64 \n",
            " 10  feat_11  61878 non-null  int64 \n",
            " 11  feat_12  61878 non-null  int64 \n",
            " 12  feat_13  61878 non-null  int64 \n",
            " 13  feat_14  61878 non-null  int64 \n",
            " 14  feat_15  61878 non-null  int64 \n",
            " 15  feat_16  61878 non-null  int64 \n",
            " 16  feat_17  61878 non-null  int64 \n",
            " 17  feat_18  61878 non-null  int64 \n",
            " 18  feat_19  61878 non-null  int64 \n",
            " 19  feat_20  61878 non-null  int64 \n",
            " 20  feat_21  61878 non-null  int64 \n",
            " 21  feat_22  61878 non-null  int64 \n",
            " 22  feat_23  61878 non-null  int64 \n",
            " 23  feat_24  61878 non-null  int64 \n",
            " 24  feat_25  61878 non-null  int64 \n",
            " 25  feat_26  61878 non-null  int64 \n",
            " 26  feat_27  61878 non-null  int64 \n",
            " 27  feat_28  61878 non-null  int64 \n",
            " 28  feat_29  61878 non-null  int64 \n",
            " 29  feat_30  61878 non-null  int64 \n",
            " 30  feat_31  61878 non-null  int64 \n",
            " 31  feat_32  61878 non-null  int64 \n",
            " 32  feat_33  61878 non-null  int64 \n",
            " 33  feat_34  61878 non-null  int64 \n",
            " 34  feat_35  61878 non-null  int64 \n",
            " 35  feat_36  61878 non-null  int64 \n",
            " 36  feat_37  61878 non-null  int64 \n",
            " 37  feat_38  61878 non-null  int64 \n",
            " 38  feat_39  61878 non-null  int64 \n",
            " 39  feat_40  61878 non-null  int64 \n",
            " 40  feat_41  61878 non-null  int64 \n",
            " 41  feat_42  61878 non-null  int64 \n",
            " 42  feat_43  61878 non-null  int64 \n",
            " 43  feat_44  61878 non-null  int64 \n",
            " 44  feat_45  61878 non-null  int64 \n",
            " 45  feat_46  61878 non-null  int64 \n",
            " 46  feat_47  61878 non-null  int64 \n",
            " 47  feat_48  61878 non-null  int64 \n",
            " 48  feat_49  61878 non-null  int64 \n",
            " 49  feat_50  61878 non-null  int64 \n",
            " 50  feat_51  61878 non-null  int64 \n",
            " 51  feat_52  61878 non-null  int64 \n",
            " 52  feat_53  61878 non-null  int64 \n",
            " 53  feat_54  61878 non-null  int64 \n",
            " 54  feat_55  61878 non-null  int64 \n",
            " 55  feat_56  61878 non-null  int64 \n",
            " 56  feat_57  61878 non-null  int64 \n",
            " 57  feat_58  61878 non-null  int64 \n",
            " 58  feat_59  61878 non-null  int64 \n",
            " 59  feat_60  61878 non-null  int64 \n",
            " 60  feat_61  61878 non-null  int64 \n",
            " 61  feat_62  61878 non-null  int64 \n",
            " 62  feat_63  61878 non-null  int64 \n",
            " 63  feat_64  61878 non-null  int64 \n",
            " 64  feat_65  61878 non-null  int64 \n",
            " 65  feat_66  61878 non-null  int64 \n",
            " 66  feat_67  61878 non-null  int64 \n",
            " 67  feat_68  61878 non-null  int64 \n",
            " 68  feat_69  61878 non-null  int64 \n",
            " 69  feat_70  61878 non-null  int64 \n",
            " 70  feat_71  61878 non-null  int64 \n",
            " 71  feat_72  61878 non-null  int64 \n",
            " 72  feat_73  61878 non-null  int64 \n",
            " 73  feat_74  61878 non-null  int64 \n",
            " 74  feat_75  61878 non-null  int64 \n",
            " 75  feat_76  61878 non-null  int64 \n",
            " 76  feat_77  61878 non-null  int64 \n",
            " 77  feat_78  61878 non-null  int64 \n",
            " 78  feat_79  61878 non-null  int64 \n",
            " 79  feat_80  61878 non-null  int64 \n",
            " 80  feat_81  61878 non-null  int64 \n",
            " 81  feat_82  61878 non-null  int64 \n",
            " 82  feat_83  61878 non-null  int64 \n",
            " 83  feat_84  61878 non-null  int64 \n",
            " 84  feat_85  61878 non-null  int64 \n",
            " 85  feat_86  61878 non-null  int64 \n",
            " 86  feat_87  61878 non-null  int64 \n",
            " 87  feat_88  61878 non-null  int64 \n",
            " 88  feat_89  61878 non-null  int64 \n",
            " 89  feat_90  61878 non-null  int64 \n",
            " 90  feat_91  61878 non-null  int64 \n",
            " 91  feat_92  61878 non-null  int64 \n",
            " 92  feat_93  61878 non-null  int64 \n",
            " 93  target   61878 non-null  object\n",
            "dtypes: int64(93), object(1)\n",
            "memory usage: 44.8+ MB\n"
          ]
        }
      ],
      "source": [
        "train_dataset.info()"
      ]
    },
    {
      "cell_type": "code",
      "execution_count": 4,
      "metadata": {
        "colab": {
          "base_uri": "https://localhost:8080/",
          "height": 423
        },
        "id": "4Vjr085c8HUh",
        "outputId": "453aaaa7-b1f6-4dd9-83ef-5dd76fd761b9"
      },
      "outputs": [
        {
          "data": {
            "application/vnd.google.colaboratory.intrinsic+json": {
              "summary": "{\n  \"name\": \"train_dataset\",\n  \"rows\": 93,\n  \"fields\": [\n    {\n      \"column\": \"count\",\n      \"properties\": {\n        \"dtype\": \"number\",\n        \"std\": 0.0,\n        \"min\": 61878.0,\n        \"max\": 61878.0,\n        \"num_unique_values\": 1,\n        \"samples\": [\n          61878.0\n        ],\n        \"semantic_type\": \"\",\n        \"description\": \"\"\n      }\n    },\n    {\n      \"column\": \"mean\",\n      \"properties\": {\n        \"dtype\": \"number\",\n        \"std\": 0.5260465706900419,\n        \"min\": 0.02569572384369243,\n        \"max\": 2.897653447105595,\n        \"num_unique_values\": 93,\n        \"samples\": [\n          0.3034681146772682\n        ],\n        \"semantic_type\": \"\",\n        \"description\": \"\"\n      }\n    },\n    {\n      \"column\": \"std\",\n      \"properties\": {\n        \"dtype\": \"number\",\n        \"std\": 1.164934900245468,\n        \"min\": 0.21533346700748346,\n        \"max\": 5.7832326523455215,\n        \"num_unique_values\": 93,\n        \"samples\": [\n          1.0856724834790554\n        ],\n        \"semantic_type\": \"\",\n        \"description\": \"\"\n      }\n    },\n    {\n      \"column\": \"min\",\n      \"properties\": {\n        \"dtype\": \"number\",\n        \"std\": 0.0,\n        \"min\": 0.0,\n        \"max\": 0.0,\n        \"num_unique_values\": 1,\n        \"samples\": [\n          0.0\n        ],\n        \"semantic_type\": \"\",\n        \"description\": \"\"\n      }\n    },\n    {\n      \"column\": \"25%\",\n      \"properties\": {\n        \"dtype\": \"number\",\n        \"std\": 0.0,\n        \"min\": 0.0,\n        \"max\": 0.0,\n        \"num_unique_values\": 1,\n        \"samples\": [\n          0.0\n        ],\n        \"semantic_type\": \"\",\n        \"description\": \"\"\n      }\n    },\n    {\n      \"column\": \"50%\",\n      \"properties\": {\n        \"dtype\": \"number\",\n        \"std\": 0.20398095044388959,\n        \"min\": 0.0,\n        \"max\": 1.0,\n        \"num_unique_values\": 2,\n        \"samples\": [\n          1.0\n        ],\n        \"semantic_type\": \"\",\n        \"description\": \"\"\n      }\n    },\n    {\n      \"column\": \"75%\",\n      \"properties\": {\n        \"dtype\": \"number\",\n        \"std\": 0.755221809337941,\n        \"min\": 0.0,\n        \"max\": 4.0,\n        \"num_unique_values\": 5,\n        \"samples\": [\n          1.0\n        ],\n        \"semantic_type\": \"\",\n        \"description\": \"\"\n      }\n    },\n    {\n      \"column\": \"max\",\n      \"properties\": {\n        \"dtype\": \"number\",\n        \"std\": 50.2181868714923,\n        \"min\": 10.0,\n        \"max\": 352.0,\n        \"num_unique_values\": 64,\n        \"samples\": [\n          231.0\n        ],\n        \"semantic_type\": \"\",\n        \"description\": \"\"\n      }\n    }\n  ]\n}",
              "type": "dataframe"
            },
            "text/html": [
              "\n",
              "  <div id=\"df-a228c0c5-24a0-464d-87a3-9bae85b1a145\" class=\"colab-df-container\">\n",
              "    <div>\n",
              "<style scoped>\n",
              "    .dataframe tbody tr th:only-of-type {\n",
              "        vertical-align: middle;\n",
              "    }\n",
              "\n",
              "    .dataframe tbody tr th {\n",
              "        vertical-align: top;\n",
              "    }\n",
              "\n",
              "    .dataframe thead th {\n",
              "        text-align: right;\n",
              "    }\n",
              "</style>\n",
              "<table border=\"1\" class=\"dataframe\">\n",
              "  <thead>\n",
              "    <tr style=\"text-align: right;\">\n",
              "      <th></th>\n",
              "      <th>count</th>\n",
              "      <th>mean</th>\n",
              "      <th>std</th>\n",
              "      <th>min</th>\n",
              "      <th>25%</th>\n",
              "      <th>50%</th>\n",
              "      <th>75%</th>\n",
              "      <th>max</th>\n",
              "    </tr>\n",
              "  </thead>\n",
              "  <tbody>\n",
              "    <tr>\n",
              "      <th>feat_1</th>\n",
              "      <td>61878.0</td>\n",
              "      <td>0.386680</td>\n",
              "      <td>1.525330</td>\n",
              "      <td>0.0</td>\n",
              "      <td>0.0</td>\n",
              "      <td>0.0</td>\n",
              "      <td>0.0</td>\n",
              "      <td>61.0</td>\n",
              "    </tr>\n",
              "    <tr>\n",
              "      <th>feat_2</th>\n",
              "      <td>61878.0</td>\n",
              "      <td>0.263066</td>\n",
              "      <td>1.252073</td>\n",
              "      <td>0.0</td>\n",
              "      <td>0.0</td>\n",
              "      <td>0.0</td>\n",
              "      <td>0.0</td>\n",
              "      <td>51.0</td>\n",
              "    </tr>\n",
              "    <tr>\n",
              "      <th>feat_3</th>\n",
              "      <td>61878.0</td>\n",
              "      <td>0.901467</td>\n",
              "      <td>2.934818</td>\n",
              "      <td>0.0</td>\n",
              "      <td>0.0</td>\n",
              "      <td>0.0</td>\n",
              "      <td>0.0</td>\n",
              "      <td>64.0</td>\n",
              "    </tr>\n",
              "    <tr>\n",
              "      <th>feat_4</th>\n",
              "      <td>61878.0</td>\n",
              "      <td>0.779081</td>\n",
              "      <td>2.788005</td>\n",
              "      <td>0.0</td>\n",
              "      <td>0.0</td>\n",
              "      <td>0.0</td>\n",
              "      <td>0.0</td>\n",
              "      <td>70.0</td>\n",
              "    </tr>\n",
              "    <tr>\n",
              "      <th>feat_5</th>\n",
              "      <td>61878.0</td>\n",
              "      <td>0.071043</td>\n",
              "      <td>0.438902</td>\n",
              "      <td>0.0</td>\n",
              "      <td>0.0</td>\n",
              "      <td>0.0</td>\n",
              "      <td>0.0</td>\n",
              "      <td>19.0</td>\n",
              "    </tr>\n",
              "    <tr>\n",
              "      <th>...</th>\n",
              "      <td>...</td>\n",
              "      <td>...</td>\n",
              "      <td>...</td>\n",
              "      <td>...</td>\n",
              "      <td>...</td>\n",
              "      <td>...</td>\n",
              "      <td>...</td>\n",
              "      <td>...</td>\n",
              "    </tr>\n",
              "    <tr>\n",
              "      <th>feat_89</th>\n",
              "      <td>61878.0</td>\n",
              "      <td>0.457772</td>\n",
              "      <td>1.527385</td>\n",
              "      <td>0.0</td>\n",
              "      <td>0.0</td>\n",
              "      <td>0.0</td>\n",
              "      <td>0.0</td>\n",
              "      <td>61.0</td>\n",
              "    </tr>\n",
              "    <tr>\n",
              "      <th>feat_90</th>\n",
              "      <td>61878.0</td>\n",
              "      <td>0.812421</td>\n",
              "      <td>4.597804</td>\n",
              "      <td>0.0</td>\n",
              "      <td>0.0</td>\n",
              "      <td>0.0</td>\n",
              "      <td>0.0</td>\n",
              "      <td>130.0</td>\n",
              "    </tr>\n",
              "    <tr>\n",
              "      <th>feat_91</th>\n",
              "      <td>61878.0</td>\n",
              "      <td>0.264941</td>\n",
              "      <td>2.045646</td>\n",
              "      <td>0.0</td>\n",
              "      <td>0.0</td>\n",
              "      <td>0.0</td>\n",
              "      <td>0.0</td>\n",
              "      <td>52.0</td>\n",
              "    </tr>\n",
              "    <tr>\n",
              "      <th>feat_92</th>\n",
              "      <td>61878.0</td>\n",
              "      <td>0.380119</td>\n",
              "      <td>0.982385</td>\n",
              "      <td>0.0</td>\n",
              "      <td>0.0</td>\n",
              "      <td>0.0</td>\n",
              "      <td>0.0</td>\n",
              "      <td>19.0</td>\n",
              "    </tr>\n",
              "    <tr>\n",
              "      <th>feat_93</th>\n",
              "      <td>61878.0</td>\n",
              "      <td>0.126135</td>\n",
              "      <td>1.201720</td>\n",
              "      <td>0.0</td>\n",
              "      <td>0.0</td>\n",
              "      <td>0.0</td>\n",
              "      <td>0.0</td>\n",
              "      <td>87.0</td>\n",
              "    </tr>\n",
              "  </tbody>\n",
              "</table>\n",
              "<p>93 rows × 8 columns</p>\n",
              "</div>\n",
              "    <div class=\"colab-df-buttons\">\n",
              "\n",
              "  <div class=\"colab-df-container\">\n",
              "    <button class=\"colab-df-convert\" onclick=\"convertToInteractive('df-a228c0c5-24a0-464d-87a3-9bae85b1a145')\"\n",
              "            title=\"Convert this dataframe to an interactive table.\"\n",
              "            style=\"display:none;\">\n",
              "\n",
              "  <svg xmlns=\"http://www.w3.org/2000/svg\" height=\"24px\" viewBox=\"0 -960 960 960\">\n",
              "    <path d=\"M120-120v-720h720v720H120Zm60-500h600v-160H180v160Zm220 220h160v-160H400v160Zm0 220h160v-160H400v160ZM180-400h160v-160H180v160Zm440 0h160v-160H620v160ZM180-180h160v-160H180v160Zm440 0h160v-160H620v160Z\"/>\n",
              "  </svg>\n",
              "    </button>\n",
              "\n",
              "  <style>\n",
              "    .colab-df-container {\n",
              "      display:flex;\n",
              "      gap: 12px;\n",
              "    }\n",
              "\n",
              "    .colab-df-convert {\n",
              "      background-color: #E8F0FE;\n",
              "      border: none;\n",
              "      border-radius: 50%;\n",
              "      cursor: pointer;\n",
              "      display: none;\n",
              "      fill: #1967D2;\n",
              "      height: 32px;\n",
              "      padding: 0 0 0 0;\n",
              "      width: 32px;\n",
              "    }\n",
              "\n",
              "    .colab-df-convert:hover {\n",
              "      background-color: #E2EBFA;\n",
              "      box-shadow: 0px 1px 2px rgba(60, 64, 67, 0.3), 0px 1px 3px 1px rgba(60, 64, 67, 0.15);\n",
              "      fill: #174EA6;\n",
              "    }\n",
              "\n",
              "    .colab-df-buttons div {\n",
              "      margin-bottom: 4px;\n",
              "    }\n",
              "\n",
              "    [theme=dark] .colab-df-convert {\n",
              "      background-color: #3B4455;\n",
              "      fill: #D2E3FC;\n",
              "    }\n",
              "\n",
              "    [theme=dark] .colab-df-convert:hover {\n",
              "      background-color: #434B5C;\n",
              "      box-shadow: 0px 1px 3px 1px rgba(0, 0, 0, 0.15);\n",
              "      filter: drop-shadow(0px 1px 2px rgba(0, 0, 0, 0.3));\n",
              "      fill: #FFFFFF;\n",
              "    }\n",
              "  </style>\n",
              "\n",
              "    <script>\n",
              "      const buttonEl =\n",
              "        document.querySelector('#df-a228c0c5-24a0-464d-87a3-9bae85b1a145 button.colab-df-convert');\n",
              "      buttonEl.style.display =\n",
              "        google.colab.kernel.accessAllowed ? 'block' : 'none';\n",
              "\n",
              "      async function convertToInteractive(key) {\n",
              "        const element = document.querySelector('#df-a228c0c5-24a0-464d-87a3-9bae85b1a145');\n",
              "        const dataTable =\n",
              "          await google.colab.kernel.invokeFunction('convertToInteractive',\n",
              "                                                    [key], {});\n",
              "        if (!dataTable) return;\n",
              "\n",
              "        const docLinkHtml = 'Like what you see? Visit the ' +\n",
              "          '<a target=\"_blank\" href=https://colab.research.google.com/notebooks/data_table.ipynb>data table notebook</a>'\n",
              "          + ' to learn more about interactive tables.';\n",
              "        element.innerHTML = '';\n",
              "        dataTable['output_type'] = 'display_data';\n",
              "        await google.colab.output.renderOutput(dataTable, element);\n",
              "        const docLink = document.createElement('div');\n",
              "        docLink.innerHTML = docLinkHtml;\n",
              "        element.appendChild(docLink);\n",
              "      }\n",
              "    </script>\n",
              "  </div>\n",
              "\n",
              "\n",
              "<div id=\"df-f73fbe8c-5dcd-4d14-b362-bea7d15fbd11\">\n",
              "  <button class=\"colab-df-quickchart\" onclick=\"quickchart('df-f73fbe8c-5dcd-4d14-b362-bea7d15fbd11')\"\n",
              "            title=\"Suggest charts\"\n",
              "            style=\"display:none;\">\n",
              "\n",
              "<svg xmlns=\"http://www.w3.org/2000/svg\" height=\"24px\"viewBox=\"0 0 24 24\"\n",
              "     width=\"24px\">\n",
              "    <g>\n",
              "        <path d=\"M19 3H5c-1.1 0-2 .9-2 2v14c0 1.1.9 2 2 2h14c1.1 0 2-.9 2-2V5c0-1.1-.9-2-2-2zM9 17H7v-7h2v7zm4 0h-2V7h2v10zm4 0h-2v-4h2v4z\"/>\n",
              "    </g>\n",
              "</svg>\n",
              "  </button>\n",
              "\n",
              "<style>\n",
              "  .colab-df-quickchart {\n",
              "      --bg-color: #E8F0FE;\n",
              "      --fill-color: #1967D2;\n",
              "      --hover-bg-color: #E2EBFA;\n",
              "      --hover-fill-color: #174EA6;\n",
              "      --disabled-fill-color: #AAA;\n",
              "      --disabled-bg-color: #DDD;\n",
              "  }\n",
              "\n",
              "  [theme=dark] .colab-df-quickchart {\n",
              "      --bg-color: #3B4455;\n",
              "      --fill-color: #D2E3FC;\n",
              "      --hover-bg-color: #434B5C;\n",
              "      --hover-fill-color: #FFFFFF;\n",
              "      --disabled-bg-color: #3B4455;\n",
              "      --disabled-fill-color: #666;\n",
              "  }\n",
              "\n",
              "  .colab-df-quickchart {\n",
              "    background-color: var(--bg-color);\n",
              "    border: none;\n",
              "    border-radius: 50%;\n",
              "    cursor: pointer;\n",
              "    display: none;\n",
              "    fill: var(--fill-color);\n",
              "    height: 32px;\n",
              "    padding: 0;\n",
              "    width: 32px;\n",
              "  }\n",
              "\n",
              "  .colab-df-quickchart:hover {\n",
              "    background-color: var(--hover-bg-color);\n",
              "    box-shadow: 0 1px 2px rgba(60, 64, 67, 0.3), 0 1px 3px 1px rgba(60, 64, 67, 0.15);\n",
              "    fill: var(--button-hover-fill-color);\n",
              "  }\n",
              "\n",
              "  .colab-df-quickchart-complete:disabled,\n",
              "  .colab-df-quickchart-complete:disabled:hover {\n",
              "    background-color: var(--disabled-bg-color);\n",
              "    fill: var(--disabled-fill-color);\n",
              "    box-shadow: none;\n",
              "  }\n",
              "\n",
              "  .colab-df-spinner {\n",
              "    border: 2px solid var(--fill-color);\n",
              "    border-color: transparent;\n",
              "    border-bottom-color: var(--fill-color);\n",
              "    animation:\n",
              "      spin 1s steps(1) infinite;\n",
              "  }\n",
              "\n",
              "  @keyframes spin {\n",
              "    0% {\n",
              "      border-color: transparent;\n",
              "      border-bottom-color: var(--fill-color);\n",
              "      border-left-color: var(--fill-color);\n",
              "    }\n",
              "    20% {\n",
              "      border-color: transparent;\n",
              "      border-left-color: var(--fill-color);\n",
              "      border-top-color: var(--fill-color);\n",
              "    }\n",
              "    30% {\n",
              "      border-color: transparent;\n",
              "      border-left-color: var(--fill-color);\n",
              "      border-top-color: var(--fill-color);\n",
              "      border-right-color: var(--fill-color);\n",
              "    }\n",
              "    40% {\n",
              "      border-color: transparent;\n",
              "      border-right-color: var(--fill-color);\n",
              "      border-top-color: var(--fill-color);\n",
              "    }\n",
              "    60% {\n",
              "      border-color: transparent;\n",
              "      border-right-color: var(--fill-color);\n",
              "    }\n",
              "    80% {\n",
              "      border-color: transparent;\n",
              "      border-right-color: var(--fill-color);\n",
              "      border-bottom-color: var(--fill-color);\n",
              "    }\n",
              "    90% {\n",
              "      border-color: transparent;\n",
              "      border-bottom-color: var(--fill-color);\n",
              "    }\n",
              "  }\n",
              "</style>\n",
              "\n",
              "  <script>\n",
              "    async function quickchart(key) {\n",
              "      const quickchartButtonEl =\n",
              "        document.querySelector('#' + key + ' button');\n",
              "      quickchartButtonEl.disabled = true;  // To prevent multiple clicks.\n",
              "      quickchartButtonEl.classList.add('colab-df-spinner');\n",
              "      try {\n",
              "        const charts = await google.colab.kernel.invokeFunction(\n",
              "            'suggestCharts', [key], {});\n",
              "      } catch (error) {\n",
              "        console.error('Error during call to suggestCharts:', error);\n",
              "      }\n",
              "      quickchartButtonEl.classList.remove('colab-df-spinner');\n",
              "      quickchartButtonEl.classList.add('colab-df-quickchart-complete');\n",
              "    }\n",
              "    (() => {\n",
              "      let quickchartButtonEl =\n",
              "        document.querySelector('#df-f73fbe8c-5dcd-4d14-b362-bea7d15fbd11 button');\n",
              "      quickchartButtonEl.style.display =\n",
              "        google.colab.kernel.accessAllowed ? 'block' : 'none';\n",
              "    })();\n",
              "  </script>\n",
              "</div>\n",
              "    </div>\n",
              "  </div>\n"
            ],
            "text/plain": [
              "           count      mean       std  min  25%  50%  75%    max\n",
              "feat_1   61878.0  0.386680  1.525330  0.0  0.0  0.0  0.0   61.0\n",
              "feat_2   61878.0  0.263066  1.252073  0.0  0.0  0.0  0.0   51.0\n",
              "feat_3   61878.0  0.901467  2.934818  0.0  0.0  0.0  0.0   64.0\n",
              "feat_4   61878.0  0.779081  2.788005  0.0  0.0  0.0  0.0   70.0\n",
              "feat_5   61878.0  0.071043  0.438902  0.0  0.0  0.0  0.0   19.0\n",
              "...          ...       ...       ...  ...  ...  ...  ...    ...\n",
              "feat_89  61878.0  0.457772  1.527385  0.0  0.0  0.0  0.0   61.0\n",
              "feat_90  61878.0  0.812421  4.597804  0.0  0.0  0.0  0.0  130.0\n",
              "feat_91  61878.0  0.264941  2.045646  0.0  0.0  0.0  0.0   52.0\n",
              "feat_92  61878.0  0.380119  0.982385  0.0  0.0  0.0  0.0   19.0\n",
              "feat_93  61878.0  0.126135  1.201720  0.0  0.0  0.0  0.0   87.0\n",
              "\n",
              "[93 rows x 8 columns]"
            ]
          },
          "execution_count": 4,
          "metadata": {},
          "output_type": "execute_result"
        }
      ],
      "source": [
        "train_dataset.describe().T"
      ]
    },
    {
      "cell_type": "markdown",
      "metadata": {
        "id": "ueVKaFb4Rgu1"
      },
      "source": [
        "Number of objects for every class in **target**"
      ]
    },
    {
      "cell_type": "code",
      "execution_count": 5,
      "metadata": {
        "colab": {
          "base_uri": "https://localhost:8080/",
          "height": 397
        },
        "id": "X2EcbhnoRgu1",
        "outputId": "60bc48b0-4b80-4720-b90b-c590cdd7dc49"
      },
      "outputs": [
        {
          "data": {
            "text/html": [
              "<div>\n",
              "<style scoped>\n",
              "    .dataframe tbody tr th:only-of-type {\n",
              "        vertical-align: middle;\n",
              "    }\n",
              "\n",
              "    .dataframe tbody tr th {\n",
              "        vertical-align: top;\n",
              "    }\n",
              "\n",
              "    .dataframe thead th {\n",
              "        text-align: right;\n",
              "    }\n",
              "</style>\n",
              "<table border=\"1\" class=\"dataframe\">\n",
              "  <thead>\n",
              "    <tr style=\"text-align: right;\">\n",
              "      <th></th>\n",
              "      <th>count</th>\n",
              "    </tr>\n",
              "    <tr>\n",
              "      <th>target</th>\n",
              "      <th></th>\n",
              "    </tr>\n",
              "  </thead>\n",
              "  <tbody>\n",
              "    <tr>\n",
              "      <th>Class_2</th>\n",
              "      <td>16122</td>\n",
              "    </tr>\n",
              "    <tr>\n",
              "      <th>Class_6</th>\n",
              "      <td>14135</td>\n",
              "    </tr>\n",
              "    <tr>\n",
              "      <th>Class_8</th>\n",
              "      <td>8464</td>\n",
              "    </tr>\n",
              "    <tr>\n",
              "      <th>Class_3</th>\n",
              "      <td>8004</td>\n",
              "    </tr>\n",
              "    <tr>\n",
              "      <th>Class_9</th>\n",
              "      <td>4955</td>\n",
              "    </tr>\n",
              "    <tr>\n",
              "      <th>Class_7</th>\n",
              "      <td>2839</td>\n",
              "    </tr>\n",
              "    <tr>\n",
              "      <th>Class_5</th>\n",
              "      <td>2739</td>\n",
              "    </tr>\n",
              "    <tr>\n",
              "      <th>Class_4</th>\n",
              "      <td>2691</td>\n",
              "    </tr>\n",
              "    <tr>\n",
              "      <th>Class_1</th>\n",
              "      <td>1929</td>\n",
              "    </tr>\n",
              "  </tbody>\n",
              "</table>\n",
              "</div><br><label><b>dtype:</b> int64</label>"
            ],
            "text/plain": [
              "target\n",
              "Class_2    16122\n",
              "Class_6    14135\n",
              "Class_8     8464\n",
              "Class_3     8004\n",
              "Class_9     4955\n",
              "Class_7     2839\n",
              "Class_5     2739\n",
              "Class_4     2691\n",
              "Class_1     1929\n",
              "Name: count, dtype: int64"
            ]
          },
          "execution_count": 5,
          "metadata": {},
          "output_type": "execute_result"
        }
      ],
      "source": [
        "train_dataset['target'].value_counts()"
      ]
    },
    {
      "cell_type": "markdown",
      "metadata": {
        "id": "5058B_lx8tFU"
      },
      "source": [
        "Divide data into input and output, transform labels from strings to numbers. We will do it manually, but there is the other option: **LabelEncoder** allows us to perform that transform and obtain numbers from $0$ to $K-1$, where $K$ is the number of classes."
      ]
    },
    {
      "cell_type": "code",
      "execution_count": 6,
      "metadata": {
        "id": "2r5agzoexIVe"
      },
      "outputs": [],
      "source": [
        "y = train_dataset[\"target\"]\n",
        "X = np.asarray(train_dataset.drop(\"target\", axis = 1))"
      ]
    },
    {
      "cell_type": "code",
      "execution_count": 7,
      "metadata": {
        "colab": {
          "base_uri": "https://localhost:8080/"
        },
        "id": "7mAmF4HGw6iJ",
        "outputId": "19ae0876-044d-4142-b0dc-5d21df3cf3ee"
      },
      "outputs": [
        {
          "name": "stderr",
          "output_type": "stream",
          "text": [
            "<ipython-input-7-df510b1439a3>:2: FutureWarning: Downcasting behavior in `replace` is deprecated and will be removed in a future version. To retain the old behavior, explicitly call `result.infer_objects(copy=False)`. To opt-in to the future behavior, set `pd.set_option('future.no_silent_downcasting', True)`\n",
            "  y.replace('Class_%d' % i, i - 1, inplace = True)\n"
          ]
        }
      ],
      "source": [
        "for i in range(1, 10):\n",
        "    y.replace('Class_%d' % i, i - 1, inplace = True)"
      ]
    },
    {
      "cell_type": "markdown",
      "metadata": {
        "id": "GgyHdvdFRgu3"
      },
      "source": [
        "Now let's start fitting classification models"
      ]
    },
    {
      "cell_type": "code",
      "execution_count": 8,
      "metadata": {
        "id": "wXjtlHH7wmXT"
      },
      "outputs": [],
      "source": [
        "import xgboost"
      ]
    },
    {
      "cell_type": "code",
      "execution_count": 9,
      "metadata": {
        "id": "9ucBjN3-wrmd"
      },
      "outputs": [],
      "source": [
        "xgb = xgboost.XGBClassifier(objective='multi:softprob')"
      ]
    },
    {
      "cell_type": "code",
      "execution_count": 10,
      "metadata": {
        "id": "4ifeaZF1wGql"
      },
      "outputs": [],
      "source": [
        "from sklearn.model_selection import train_test_split\n",
        "from sklearn.metrics import classification_report"
      ]
    },
    {
      "cell_type": "markdown",
      "metadata": {
        "id": "0KysEGAkRgu3"
      },
      "source": [
        "Split data into training sample and test sample"
      ]
    },
    {
      "cell_type": "code",
      "execution_count": 11,
      "metadata": {
        "id": "QWEn1KRGRgu4"
      },
      "outputs": [],
      "source": [
        "split = train_test_split(X, y, test_size=0.5,\n",
        "                         random_state=42, stratify=y)\n",
        "train_X, test_X, train_y, test_y = split"
      ]
    },
    {
      "cell_type": "code",
      "execution_count": 12,
      "metadata": {
        "colab": {
          "base_uri": "https://localhost:8080/",
          "height": 248
        },
        "id": "qH2WZtDqyOUi",
        "outputId": "7f9e77ae-c395-43f9-f4f2-308ef7d28dbd"
      },
      "outputs": [
        {
          "data": {
            "text/html": [
              "<style>#sk-container-id-1 {color: black;}#sk-container-id-1 pre{padding: 0;}#sk-container-id-1 div.sk-toggleable {background-color: white;}#sk-container-id-1 label.sk-toggleable__label {cursor: pointer;display: block;width: 100%;margin-bottom: 0;padding: 0.3em;box-sizing: border-box;text-align: center;}#sk-container-id-1 label.sk-toggleable__label-arrow:before {content: \"▸\";float: left;margin-right: 0.25em;color: #696969;}#sk-container-id-1 label.sk-toggleable__label-arrow:hover:before {color: black;}#sk-container-id-1 div.sk-estimator:hover label.sk-toggleable__label-arrow:before {color: black;}#sk-container-id-1 div.sk-toggleable__content {max-height: 0;max-width: 0;overflow: hidden;text-align: left;background-color: #f0f8ff;}#sk-container-id-1 div.sk-toggleable__content pre {margin: 0.2em;color: black;border-radius: 0.25em;background-color: #f0f8ff;}#sk-container-id-1 input.sk-toggleable__control:checked~div.sk-toggleable__content {max-height: 200px;max-width: 100%;overflow: auto;}#sk-container-id-1 input.sk-toggleable__control:checked~label.sk-toggleable__label-arrow:before {content: \"▾\";}#sk-container-id-1 div.sk-estimator input.sk-toggleable__control:checked~label.sk-toggleable__label {background-color: #d4ebff;}#sk-container-id-1 div.sk-label input.sk-toggleable__control:checked~label.sk-toggleable__label {background-color: #d4ebff;}#sk-container-id-1 input.sk-hidden--visually {border: 0;clip: rect(1px 1px 1px 1px);clip: rect(1px, 1px, 1px, 1px);height: 1px;margin: -1px;overflow: hidden;padding: 0;position: absolute;width: 1px;}#sk-container-id-1 div.sk-estimator {font-family: monospace;background-color: #f0f8ff;border: 1px dotted black;border-radius: 0.25em;box-sizing: border-box;margin-bottom: 0.5em;}#sk-container-id-1 div.sk-estimator:hover {background-color: #d4ebff;}#sk-container-id-1 div.sk-parallel-item::after {content: \"\";width: 100%;border-bottom: 1px solid gray;flex-grow: 1;}#sk-container-id-1 div.sk-label:hover label.sk-toggleable__label {background-color: #d4ebff;}#sk-container-id-1 div.sk-serial::before {content: \"\";position: absolute;border-left: 1px solid gray;box-sizing: border-box;top: 0;bottom: 0;left: 50%;z-index: 0;}#sk-container-id-1 div.sk-serial {display: flex;flex-direction: column;align-items: center;background-color: white;padding-right: 0.2em;padding-left: 0.2em;position: relative;}#sk-container-id-1 div.sk-item {position: relative;z-index: 1;}#sk-container-id-1 div.sk-parallel {display: flex;align-items: stretch;justify-content: center;background-color: white;position: relative;}#sk-container-id-1 div.sk-item::before, #sk-container-id-1 div.sk-parallel-item::before {content: \"\";position: absolute;border-left: 1px solid gray;box-sizing: border-box;top: 0;bottom: 0;left: 50%;z-index: -1;}#sk-container-id-1 div.sk-parallel-item {display: flex;flex-direction: column;z-index: 1;position: relative;background-color: white;}#sk-container-id-1 div.sk-parallel-item:first-child::after {align-self: flex-end;width: 50%;}#sk-container-id-1 div.sk-parallel-item:last-child::after {align-self: flex-start;width: 50%;}#sk-container-id-1 div.sk-parallel-item:only-child::after {width: 0;}#sk-container-id-1 div.sk-dashed-wrapped {border: 1px dashed gray;margin: 0 0.4em 0.5em 0.4em;box-sizing: border-box;padding-bottom: 0.4em;background-color: white;}#sk-container-id-1 div.sk-label label {font-family: monospace;font-weight: bold;display: inline-block;line-height: 1.2em;}#sk-container-id-1 div.sk-label-container {text-align: center;}#sk-container-id-1 div.sk-container {/* jupyter's `normalize.less` sets `[hidden] { display: none; }` but bootstrap.min.css set `[hidden] { display: none !important; }` so we also need the `!important` here to be able to override the default hidden behavior on the sphinx rendered scikit-learn.org. See: https://github.com/scikit-learn/scikit-learn/issues/21755 */display: inline-block !important;position: relative;}#sk-container-id-1 div.sk-text-repr-fallback {display: none;}</style><div id=\"sk-container-id-1\" class=\"sk-top-container\"><div class=\"sk-text-repr-fallback\"><pre>XGBClassifier(base_score=None, booster=None, callbacks=None,\n",
              "              colsample_bylevel=None, colsample_bynode=None,\n",
              "              colsample_bytree=None, device=None, early_stopping_rounds=None,\n",
              "              enable_categorical=False, eval_metric=None, feature_types=None,\n",
              "              gamma=None, grow_policy=None, importance_type=None,\n",
              "              interaction_constraints=None, learning_rate=None, max_bin=None,\n",
              "              max_cat_threshold=None, max_cat_to_onehot=None,\n",
              "              max_delta_step=None, max_depth=None, max_leaves=None,\n",
              "              min_child_weight=None, missing=nan, monotone_constraints=None,\n",
              "              multi_strategy=None, n_estimators=None, n_jobs=None,\n",
              "              num_parallel_tree=None, objective=&#x27;multi:softprob&#x27;, ...)</pre><b>In a Jupyter environment, please rerun this cell to show the HTML representation or trust the notebook. <br />On GitHub, the HTML representation is unable to render, please try loading this page with nbviewer.org.</b></div><div class=\"sk-container\" hidden><div class=\"sk-item\"><div class=\"sk-estimator sk-toggleable\"><input class=\"sk-toggleable__control sk-hidden--visually\" id=\"sk-estimator-id-1\" type=\"checkbox\" checked><label for=\"sk-estimator-id-1\" class=\"sk-toggleable__label sk-toggleable__label-arrow\">XGBClassifier</label><div class=\"sk-toggleable__content\"><pre>XGBClassifier(base_score=None, booster=None, callbacks=None,\n",
              "              colsample_bylevel=None, colsample_bynode=None,\n",
              "              colsample_bytree=None, device=None, early_stopping_rounds=None,\n",
              "              enable_categorical=False, eval_metric=None, feature_types=None,\n",
              "              gamma=None, grow_policy=None, importance_type=None,\n",
              "              interaction_constraints=None, learning_rate=None, max_bin=None,\n",
              "              max_cat_threshold=None, max_cat_to_onehot=None,\n",
              "              max_delta_step=None, max_depth=None, max_leaves=None,\n",
              "              min_child_weight=None, missing=nan, monotone_constraints=None,\n",
              "              multi_strategy=None, n_estimators=None, n_jobs=None,\n",
              "              num_parallel_tree=None, objective=&#x27;multi:softprob&#x27;, ...)</pre></div></div></div></div></div>"
            ],
            "text/plain": [
              "XGBClassifier(base_score=None, booster=None, callbacks=None,\n",
              "              colsample_bylevel=None, colsample_bynode=None,\n",
              "              colsample_bytree=None, device=None, early_stopping_rounds=None,\n",
              "              enable_categorical=False, eval_metric=None, feature_types=None,\n",
              "              gamma=None, grow_policy=None, importance_type=None,\n",
              "              interaction_constraints=None, learning_rate=None, max_bin=None,\n",
              "              max_cat_threshold=None, max_cat_to_onehot=None,\n",
              "              max_delta_step=None, max_depth=None, max_leaves=None,\n",
              "              min_child_weight=None, missing=nan, monotone_constraints=None,\n",
              "              multi_strategy=None, n_estimators=None, n_jobs=None,\n",
              "              num_parallel_tree=None, objective='multi:softprob', ...)"
            ]
          },
          "execution_count": 12,
          "metadata": {},
          "output_type": "execute_result"
        }
      ],
      "source": [
        "xgb.fit(train_X, train_y)"
      ]
    },
    {
      "cell_type": "code",
      "execution_count": 13,
      "metadata": {
        "id": "BspFML4ky0-q"
      },
      "outputs": [],
      "source": [
        "test_preds = xgb.predict(test_X)"
      ]
    },
    {
      "cell_type": "code",
      "execution_count": 14,
      "metadata": {
        "colab": {
          "base_uri": "https://localhost:8080/"
        },
        "id": "JB5hnvsby4ue",
        "outputId": "be7e529b-7a86-4761-a2a9-020ee7f748fc"
      },
      "outputs": [
        {
          "data": {
            "text/plain": [
              "0.8098193218914639"
            ]
          },
          "execution_count": 14,
          "metadata": {},
          "output_type": "execute_result"
        }
      ],
      "source": [
        "accuracy_score(test_y, test_preds)"
      ]
    },
    {
      "cell_type": "code",
      "execution_count": 15,
      "metadata": {
        "colab": {
          "base_uri": "https://localhost:8080/"
        },
        "id": "UckCZ9X-y6Cq",
        "outputId": "d05b133a-70f5-41a2-8e7c-34f8c7236239"
      },
      "outputs": [
        {
          "data": {
            "text/plain": [
              "array([[ 469,   22,   11,    0,    3,   87,   33,  140,  199],\n",
              "       [   7, 6884,  938,  100,   13,   13,   69,   20,   17],\n",
              "       [   2, 1785, 2051,   72,    0,    5,   73,    8,    6],\n",
              "       [   1,  414,  206,  656,    9,   37,   16,    4,    2],\n",
              "       [   2,   24,    1,    1, 1333,    1,    2,    1,    5],\n",
              "       [  46,   59,   16,   10,    0, 6628,   99,  109,  101],\n",
              "       [  37,  135,  102,   17,    5,  108,  935,   65,   16],\n",
              "       [  56,   37,   13,    0,    3,  107,   39, 3913,   64],\n",
              "       [  73,   44,    2,    0,    2,   78,   10,   82, 2186]])"
            ]
          },
          "execution_count": 15,
          "metadata": {},
          "output_type": "execute_result"
        }
      ],
      "source": [
        "confusion_matrix(test_y, test_preds)"
      ]
    },
    {
      "cell_type": "code",
      "execution_count": 16,
      "metadata": {
        "colab": {
          "base_uri": "https://localhost:8080/"
        },
        "id": "IPzYZscA1FHI",
        "outputId": "9d5cea90-4050-4d75-fe08-cbf8c3d7939d"
      },
      "outputs": [
        {
          "name": "stdout",
          "output_type": "stream",
          "text": [
            "              precision    recall  f1-score   support\n",
            "\n",
            "           0       0.68      0.49      0.57       964\n",
            "           1       0.73      0.85      0.79      8061\n",
            "           2       0.61      0.51      0.56      4002\n",
            "           3       0.77      0.49      0.60      1345\n",
            "           4       0.97      0.97      0.97      1370\n",
            "           5       0.94      0.94      0.94      7068\n",
            "           6       0.73      0.66      0.69      1420\n",
            "           7       0.90      0.92      0.91      4232\n",
            "           8       0.84      0.88      0.86      2477\n",
            "\n",
            "    accuracy                           0.81     30939\n",
            "   macro avg       0.80      0.75      0.77     30939\n",
            "weighted avg       0.81      0.81      0.80     30939\n",
            "\n"
          ]
        }
      ],
      "source": [
        "print(classification_report(test_y, test_preds))"
      ]
    },
    {
      "cell_type": "code",
      "execution_count": null,
      "metadata": {
        "id": "63JbK-KbA8cD"
      },
      "outputs": [],
      "source": []
    }
  ],
  "metadata": {
    "_change_revision": 36,
    "_is_fork": false,
    "colab": {
      "provenance": []
    },
    "include_colab_link": true,
    "kernelspec": {
      "display_name": "Python 3 (ipykernel)",
      "language": "python",
      "name": "python3"
    },
    "language_info": {
      "codemirror_mode": {
        "name": "ipython",
        "version": 3
      },
      "file_extension": ".py",
      "mimetype": "text/x-python",
      "name": "python",
      "nbconvert_exporter": "python",
      "pygments_lexer": "ipython3",
      "version": "3.9.13"
    }
  },
  "nbformat": 4,
  "nbformat_minor": 0
}
